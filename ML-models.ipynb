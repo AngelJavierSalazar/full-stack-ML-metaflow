{
 "cells": [
  {
   "cell_type": "markdown",
   "id": "767f5035-57e9-4125-959f-0697b11803a3",
   "metadata": {},
   "source": [
    "# Creating flows from your laptop machine learning code"
   ]
  },
  {
   "cell_type": "markdown",
   "id": "18b212fe-0a93-4b21-a651-2e12f717e899",
   "metadata": {},
   "source": [
    "To introduce data scientists to Metaflow, it will be key to show them how they can take their pre-existing ML code and turn it into flows. Arguably, the 3 most practical types of models are\n",
    "\n",
    "* Random forests\n",
    "* Boosted trees, and\n",
    "* Neural nets.\n",
    "\n",
    "To this end, in what follows, we show how you would take code for each of these types of models and turn it into a Metaflow."
   ]
  },
  {
   "cell_type": "markdown",
   "id": "0806bcaa-a0b7-455e-b84a-d0518f16fa9c",
   "metadata": {},
   "source": [
    "## Setup instructions\n",
    "\n",
    "We'll be using `conda` to install the necessary packages but you can also use `pip` or `virtualenv`. To use `conda`, install the Anaconda distribution from [here](https://www.anaconda.com/products/individual).\n",
    "Using the command line, execute\n",
    "\n",
    "```bash\n",
    "conda env create -f env.yml\n",
    "```\n",
    "to create your environment. You can then activate it by executing\n",
    "\n",
    "```bash\n",
    "conda activate full-stack-metaflow\n",
    "```"
   ]
  },
  {
   "cell_type": "markdown",
   "id": "d17ccec6-9378-45ce-ac82-ed294592c1ef",
   "metadata": {},
   "source": [
    "## Random forests"
   ]
  },
  {
   "cell_type": "markdown",
   "id": "7da9925b-c119-47d2-8689-1d4bb91a3e50",
   "metadata": {},
   "source": [
    "This is typical random forest code:"
   ]
  },
  {
   "cell_type": "code",
   "execution_count": 1,
   "id": "9decbcc8-ef14-4081-863e-766ea206052f",
   "metadata": {},
   "outputs": [
    {
     "data": {
      "text/plain": [
       "((150, 4), (150,))"
      ]
     },
     "execution_count": 1,
     "metadata": {},
     "output_type": "execute_result"
    }
   ],
   "source": [
    "#Import scikit-learn dataset library\n",
    "from sklearn import datasets\n",
    "\n",
    "#Load dataset\n",
    "iris = datasets.load_iris()\n",
    "X = iris.data\n",
    "y = iris.target\n",
    "X.shape, y.shape"
   ]
  },
  {
   "cell_type": "code",
   "execution_count": 2,
   "id": "2350ee1d-4cfe-4a62-a0c1-5ccb2c37d606",
   "metadata": {},
   "outputs": [
    {
     "name": "stdout",
     "output_type": "stream",
     "text": [
      "[0.96666667 0.96666667 0.9        0.96666667 1.        ]\n",
      "[0.96666667 0.96666667 0.9        0.93333333 1.        ]\n",
      "[0.96666667 0.96666667 0.93333333 0.9        1.        ]\n"
     ]
    }
   ],
   "source": [
    "# https://scikit-learn.org/stable/modules/ensemble.html#forest\n",
    "from sklearn.model_selection import cross_val_score\n",
    "from sklearn.datasets import make_blobs\n",
    "from sklearn.ensemble import RandomForestClassifier\n",
    "from sklearn.ensemble import ExtraTreesClassifier\n",
    "from sklearn.tree import DecisionTreeClassifier\n",
    "\n",
    "clf = DecisionTreeClassifier(max_depth=None, min_samples_split=2,\n",
    "    random_state=0)\n",
    "scores = cross_val_score(clf, X, y, cv=5)\n",
    "print(scores)\n",
    "\n",
    "\n",
    "clf = RandomForestClassifier(n_estimators=10, max_depth=None,\n",
    "    min_samples_split=2, random_state=0)\n",
    "scores = cross_val_score(clf, X, y, cv=5)\n",
    "print(scores)\n",
    "\n",
    "\n",
    "clf = ExtraTreesClassifier(n_estimators=10, max_depth=None,\n",
    "    min_samples_split=2, random_state=0)\n",
    "scores = cross_val_score(clf, X, y, cv=5)\n",
    "print(scores)"
   ]
  },
  {
   "cell_type": "markdown",
   "id": "a4636c5c-511f-4de1-9218-45d8578019d3",
   "metadata": {},
   "source": [
    "## Boosted trees\n",
    "\n"
   ]
  },
  {
   "cell_type": "markdown",
   "id": "49546aba-ded5-421f-a8b7-21827a995371",
   "metadata": {},
   "source": [
    "This is typical boosted tree code:"
   ]
  },
  {
   "cell_type": "code",
   "execution_count": 3,
   "id": "a04f5ea0-db93-4589-97ee-86f23da1a5d4",
   "metadata": {},
   "outputs": [
    {
     "name": "stdout",
     "output_type": "stream",
     "text": [
      "[12:18:32] WARNING: /Users/runner/miniforge3/conda-bld/xgboost-split_1645117948562/work/src/learner.cc:1115: Starting in XGBoost 1.3.0, the default evaluation metric used with the objective 'binary:logistic' was changed from 'error' to 'logloss'. Explicitly set eval_metric if you'd like to restore the old behavior.\n",
      "[0.28583017 0.9239239  0.28583017 ... 0.9239239  0.05169873 0.9239239 ]\n"
     ]
    }
   ],
   "source": [
    "import xgboost as xgb\n",
    "# read in data\n",
    "dtrain = xgb.DMatrix('data/agaricus.txt.train')\n",
    "dtest = xgb.DMatrix('data/agaricus.txt.test')\n",
    "# specify parameters via map|\n",
    "param = {'max_depth':2, 'eta':1, 'objective':'binary:logistic' }\n",
    "num_round = 2\n",
    "bst = xgb.train(param, dtrain, num_round)\n",
    "# make prediction\n",
    "preds = bst.predict(dtest)\n",
    "print(preds)"
   ]
  },
  {
   "cell_type": "markdown",
   "id": "2e82c397-d206-440f-a85e-ebc8a53fbe87",
   "metadata": {},
   "source": [
    "## Neural nets"
   ]
  },
  {
   "cell_type": "markdown",
   "id": "97ed7261-7263-44a0-af9a-cbb54533869e",
   "metadata": {},
   "source": [
    "This is (somewhat) typical deep learning code:"
   ]
  },
  {
   "cell_type": "code",
   "execution_count": 4,
   "id": "2718e0ab-b848-4a0d-af38-2d1e9fc0672f",
   "metadata": {},
   "outputs": [],
   "source": [
    "# https://keras.io/examples/vision/mnist_convnet/\n",
    "import numpy as np\n",
    "from tensorflow import keras\n",
    "from tensorflow.keras import layers"
   ]
  },
  {
   "cell_type": "code",
   "execution_count": 5,
   "id": "aace2c3e-7dbb-492a-9fc6-bfb71bdd05f4",
   "metadata": {},
   "outputs": [
    {
     "name": "stdout",
     "output_type": "stream",
     "text": [
      "x_train shape: (60000, 28, 28, 1)\n",
      "60000 train samples\n",
      "10000 test samples\n"
     ]
    }
   ],
   "source": [
    "# Model / data parameters\n",
    "num_classes = 10\n",
    "input_shape = (28, 28, 1)\n",
    "\n",
    "# the data, split between train and test sets\n",
    "(x_train, y_train), (x_test, y_test) = keras.datasets.mnist.load_data()\n",
    "\n",
    "# Scale images to the [0, 1] range\n",
    "x_train = x_train.astype(\"float32\") / 255\n",
    "x_test = x_test.astype(\"float32\") / 255\n",
    "# Make sure images have shape (28, 28, 1)\n",
    "x_train = np.expand_dims(x_train, -1)\n",
    "x_test = np.expand_dims(x_test, -1)\n",
    "print(\"x_train shape:\", x_train.shape)\n",
    "print(x_train.shape[0], \"train samples\")\n",
    "print(x_test.shape[0], \"test samples\")\n",
    "\n",
    "\n",
    "# convert class vectors to binary class matrices\n",
    "y_train = keras.utils.to_categorical(y_train, num_classes)\n",
    "y_test = keras.utils.to_categorical(y_test, num_classes)\n"
   ]
  },
  {
   "cell_type": "code",
   "execution_count": 6,
   "id": "906402cf-8a86-4506-80a8-a10f0edb0d9c",
   "metadata": {},
   "outputs": [
    {
     "name": "stdout",
     "output_type": "stream",
     "text": [
      "Model: \"sequential\"\n",
      "_________________________________________________________________\n",
      "Layer (type)                 Output Shape              Param #   \n",
      "=================================================================\n",
      "conv2d (Conv2D)              (None, 26, 26, 32)        320       \n",
      "_________________________________________________________________\n",
      "max_pooling2d (MaxPooling2D) (None, 13, 13, 32)        0         \n",
      "_________________________________________________________________\n",
      "conv2d_1 (Conv2D)            (None, 11, 11, 64)        18496     \n",
      "_________________________________________________________________\n",
      "max_pooling2d_1 (MaxPooling2 (None, 5, 5, 64)          0         \n",
      "_________________________________________________________________\n",
      "flatten (Flatten)            (None, 1600)              0         \n",
      "_________________________________________________________________\n",
      "dropout (Dropout)            (None, 1600)              0         \n",
      "_________________________________________________________________\n",
      "dense (Dense)                (None, 10)                16010     \n",
      "=================================================================\n",
      "Total params: 34,826\n",
      "Trainable params: 34,826\n",
      "Non-trainable params: 0\n",
      "_________________________________________________________________\n"
     ]
    },
    {
     "name": "stderr",
     "output_type": "stream",
     "text": [
      "2022-03-16 12:19:22.170252: I tensorflow/core/platform/cpu_feature_guard.cc:142] This TensorFlow binary is optimized with oneAPI Deep Neural Network Library (oneDNN) to use the following CPU instructions in performance-critical operations:  SSE4.1 SSE4.2\n",
      "To enable them in other operations, rebuild TensorFlow with the appropriate compiler flags.\n"
     ]
    }
   ],
   "source": [
    "model = keras.Sequential(\n",
    "    [\n",
    "        keras.Input(shape=input_shape),\n",
    "        layers.Conv2D(32, kernel_size=(3, 3), activation=\"relu\"),\n",
    "        layers.MaxPooling2D(pool_size=(2, 2)),\n",
    "        layers.Conv2D(64, kernel_size=(3, 3), activation=\"relu\"),\n",
    "        layers.MaxPooling2D(pool_size=(2, 2)),\n",
    "        layers.Flatten(),\n",
    "        layers.Dropout(0.5),\n",
    "        layers.Dense(num_classes, activation=\"softmax\"),\n",
    "    ]\n",
    ")\n",
    "\n",
    "model.summary()\n"
   ]
  },
  {
   "cell_type": "code",
   "execution_count": 7,
   "id": "d2b376cd-62a5-420e-947a-babfa55d1261",
   "metadata": {},
   "outputs": [
    {
     "name": "stderr",
     "output_type": "stream",
     "text": [
      "2022-03-16 12:19:27.876131: I tensorflow/compiler/mlir/mlir_graph_optimization_pass.cc:116] None of the MLIR optimization passes are enabled (registered 2)\n"
     ]
    },
    {
     "name": "stdout",
     "output_type": "stream",
     "text": [
      "Epoch 1/15\n",
      "422/422 [==============================] - 11s 26ms/step - loss: 0.7713 - accuracy: 0.7618 - val_loss: 0.0748 - val_accuracy: 0.9807\n",
      "Epoch 2/15\n",
      "422/422 [==============================] - 10s 25ms/step - loss: 0.1164 - accuracy: 0.9638 - val_loss: 0.0548 - val_accuracy: 0.9848\n",
      "Epoch 3/15\n",
      "422/422 [==============================] - 11s 26ms/step - loss: 0.0854 - accuracy: 0.9736 - val_loss: 0.0452 - val_accuracy: 0.9868\n",
      "Epoch 4/15\n",
      "422/422 [==============================] - 11s 25ms/step - loss: 0.0706 - accuracy: 0.9787 - val_loss: 0.0435 - val_accuracy: 0.9868\n",
      "Epoch 5/15\n",
      "422/422 [==============================] - 11s 25ms/step - loss: 0.0601 - accuracy: 0.9812 - val_loss: 0.0383 - val_accuracy: 0.9902\n",
      "Epoch 6/15\n",
      "422/422 [==============================] - 11s 25ms/step - loss: 0.0583 - accuracy: 0.9820 - val_loss: 0.0363 - val_accuracy: 0.9902\n",
      "Epoch 7/15\n",
      "422/422 [==============================] - 11s 25ms/step - loss: 0.0503 - accuracy: 0.9845 - val_loss: 0.0324 - val_accuracy: 0.9900\n",
      "Epoch 8/15\n",
      "422/422 [==============================] - 10s 25ms/step - loss: 0.0479 - accuracy: 0.9851 - val_loss: 0.0308 - val_accuracy: 0.9927\n",
      "Epoch 9/15\n",
      "422/422 [==============================] - 10s 25ms/step - loss: 0.0447 - accuracy: 0.9861 - val_loss: 0.0322 - val_accuracy: 0.9913\n",
      "Epoch 10/15\n",
      "422/422 [==============================] - 11s 26ms/step - loss: 0.0400 - accuracy: 0.9872 - val_loss: 0.0306 - val_accuracy: 0.9912\n",
      "Epoch 11/15\n",
      "422/422 [==============================] - 10s 25ms/step - loss: 0.0387 - accuracy: 0.9872 - val_loss: 0.0292 - val_accuracy: 0.9928\n",
      "Epoch 12/15\n",
      "422/422 [==============================] - 10s 25ms/step - loss: 0.0359 - accuracy: 0.9887 - val_loss: 0.0309 - val_accuracy: 0.9907\n",
      "Epoch 13/15\n",
      "422/422 [==============================] - 10s 25ms/step - loss: 0.0334 - accuracy: 0.9895 - val_loss: 0.0279 - val_accuracy: 0.9922\n",
      "Epoch 14/15\n",
      "422/422 [==============================] - 10s 25ms/step - loss: 0.0338 - accuracy: 0.9895 - val_loss: 0.0304 - val_accuracy: 0.9910\n",
      "Epoch 15/15\n",
      "422/422 [==============================] - 10s 25ms/step - loss: 0.0352 - accuracy: 0.9890 - val_loss: 0.0274 - val_accuracy: 0.9923\n"
     ]
    },
    {
     "data": {
      "text/plain": [
       "<tensorflow.python.keras.callbacks.History at 0x7fcbb283d100>"
      ]
     },
     "execution_count": 7,
     "metadata": {},
     "output_type": "execute_result"
    }
   ],
   "source": [
    "batch_size = 128\n",
    "epochs = 15\n",
    "\n",
    "model.compile(loss=\"categorical_crossentropy\", optimizer=\"adam\", metrics=[\"accuracy\"])\n",
    "\n",
    "model.fit(x_train, y_train, batch_size=batch_size, epochs=epochs, validation_split=0.1)"
   ]
  },
  {
   "cell_type": "code",
   "execution_count": 8,
   "id": "2fba1ae3-8e0d-498a-9b6a-1e232b00fd8a",
   "metadata": {},
   "outputs": [
    {
     "name": "stdout",
     "output_type": "stream",
     "text": [
      "Test loss: 0.027363663539290428\n",
      "Test accuracy: 0.9904999732971191\n"
     ]
    }
   ],
   "source": [
    "score = model.evaluate(x_test, y_test, verbose=0)\n",
    "print(\"Test loss:\", score[0])\n",
    "print(\"Test accuracy:\", score[1])\n"
   ]
  },
  {
   "cell_type": "markdown",
   "id": "923b9a08-9b88-424d-9512-4fef84a51b4f",
   "metadata": {},
   "source": [
    "## Writing Local Machine Learning Flows\n"
   ]
  },
  {
   "cell_type": "markdown",
   "id": "4b756922-edf6-44d9-8994-e4414ceb290a",
   "metadata": {},
   "source": [
    "### Random Forests"
   ]
  },
  {
   "cell_type": "code",
   "execution_count": 9,
   "id": "e5a864d3-32ad-4841-a684-66a53c3c4a95",
   "metadata": {},
   "outputs": [
    {
     "name": "stdout",
     "output_type": "stream",
     "text": [
      "Writing flows/local/rf_flow.py\n"
     ]
    }
   ],
   "source": [
    "%%writefile flows/local/rf_flow.py\n",
    "\n",
    "from metaflow import FlowSpec, step, Parameter, JSONType, IncludeFile, card\n",
    "import json\n",
    "\n",
    "class ClassificationFlow(FlowSpec):\n",
    "    \"\"\"\n",
    "    train a random forest\n",
    "    \"\"\"\n",
    "    @card \n",
    "    @step\n",
    "    def start(self):\n",
    "        \"\"\"\n",
    "        Load the data\n",
    "        \"\"\"\n",
    "        #Import scikit-learn dataset library\n",
    "        from sklearn import datasets\n",
    "\n",
    "        #Load dataset\n",
    "        self.iris = datasets.load_iris()\n",
    "        self.X = self.iris['data']\n",
    "        self.y = self.iris['target']\n",
    "        self.next(self.rf_model)\n",
    "        \n",
    "\n",
    "    @step\n",
    "    def rf_model(self):\n",
    "        \"\"\"\n",
    "        build random forest model\n",
    "        \"\"\"\n",
    "        from sklearn.ensemble import RandomForestClassifier\n",
    "        \n",
    "        self.clf = RandomForestClassifier(n_estimators=10, max_depth=None,\n",
    "            min_samples_split=2, random_state=0)\n",
    "        self.next(self.train)\n",
    "\n",
    "        \n",
    "        \n",
    "    @step\n",
    "    def train(self):\n",
    "        \"\"\"\n",
    "        Train the model\n",
    "        \"\"\"\n",
    "        from sklearn.model_selection import cross_val_score\n",
    "        self.scores = cross_val_score(self.clf, self.X, self.y, cv=5)\n",
    "        self.next(self.end)\n",
    "        \n",
    "        \n",
    "    @step\n",
    "    def end(self):\n",
    "        \"\"\"\n",
    "        End of flow, yo!\n",
    "        \"\"\"\n",
    "        print(\"ClassificationFlow is all done.\")\n",
    "\n",
    "\n",
    "if __name__ == \"__main__\":\n",
    "    ClassificationFlow()"
   ]
  },
  {
   "cell_type": "markdown",
   "id": "c7703623-d4cb-4641-81f1-19ddb43c6fb0",
   "metadata": {},
   "source": [
    "Execute the above from the command line with\n",
    "\n",
    "```bash\n",
    "python flows/local/rf_flow.py run\n",
    "```"
   ]
  },
  {
   "cell_type": "code",
   "execution_count": 10,
   "id": "37f0883b-a118-4aa6-a340-f0afde05c376",
   "metadata": {},
   "outputs": [
    {
     "name": "stdout",
     "output_type": "stream",
     "text": [
      "\u001b[35m\u001b[1mMetaflow 2.5.0\u001b[0m\u001b[35m\u001b[22m executing \u001b[0m\u001b[31m\u001b[1mClassificationFlow\u001b[0m\u001b[35m\u001b[22m\u001b[0m\u001b[35m\u001b[22m for \u001b[0m\u001b[31m\u001b[1muser:hba\u001b[0m\u001b[35m\u001b[22m\u001b[K\u001b[0m\u001b[35m\u001b[22m\u001b[0m\n",
      "\u001b[35m\u001b[22mValidating your flow...\u001b[K\u001b[0m\u001b[35m\u001b[22m\u001b[0m\n",
      "\u001b[32m\u001b[1m    The graph looks good!\u001b[K\u001b[0m\u001b[32m\u001b[1m\u001b[0m\n",
      "\u001b[35m\u001b[22mRunning pylint...\u001b[K\u001b[0m\u001b[35m\u001b[22m\u001b[0m\n",
      "\u001b[32m\u001b[1m    Pylint is happy!\u001b[K\u001b[0m\u001b[32m\u001b[1m\u001b[0m\n",
      "\u001b[22mCreating local datastore in current directory (/Users/hba/Documents/Projects/full-stack-ML-metaflow-tutorial-main/.metaflow)\u001b[K\u001b[0m\u001b[22m\u001b[0m\n",
      "\u001b[35m2022-03-16 12:22:31.412 \u001b[0m\u001b[1mWorkflow starting (run-id 7226):\u001b[0m\n",
      "\u001b[35m2022-03-16 12:22:37.340 \u001b[0m\u001b[32m[7226/start/135712 (pid 15908)] \u001b[0m\u001b[1mTask is starting.\u001b[0m\n",
      "\u001b[35m2022-03-16 12:23:18.430 \u001b[0m\u001b[32m[7226/start/135712 (pid 15908)] \u001b[0m\u001b[1mTask finished successfully.\u001b[0m\n",
      "\u001b[35m2022-03-16 12:23:22.519 \u001b[0m\u001b[32m[7226/rf_model/135713 (pid 16056)] \u001b[0m\u001b[1mTask is starting.\u001b[0m\n",
      "\u001b[35m2022-03-16 12:23:39.167 \u001b[0m\u001b[32m[7226/rf_model/135713 (pid 16056)] \u001b[0m\u001b[1mTask finished successfully.\u001b[0m\n",
      "\u001b[35m2022-03-16 12:23:43.238 \u001b[0m\u001b[32m[7226/train/135714 (pid 16062)] \u001b[0m\u001b[1mTask is starting.\u001b[0m\n",
      "\u001b[35m2022-03-16 12:24:02.454 \u001b[0m\u001b[32m[7226/train/135714 (pid 16062)] \u001b[0m\u001b[1mTask finished successfully.\u001b[0m\n",
      "\u001b[35m2022-03-16 12:24:06.479 \u001b[0m\u001b[32m[7226/end/135715 (pid 16095)] \u001b[0m\u001b[1mTask is starting.\u001b[0m\n",
      "\u001b[35m2022-03-16 12:24:13.860 \u001b[0m\u001b[32m[7226/end/135715 (pid 16095)] \u001b[0m\u001b[22mClassificationFlow is all done.\u001b[0m\n",
      "\u001b[35m2022-03-16 12:24:22.730 \u001b[0m\u001b[32m[7226/end/135715 (pid 16095)] \u001b[0m\u001b[1mTask finished successfully.\u001b[0m\n",
      "\u001b[35m2022-03-16 12:24:24.199 \u001b[0m\u001b[1mDone!\u001b[0m\n",
      "\u001b[0m"
     ]
    }
   ],
   "source": [
    "! python flows/local/rf_flow.py run"
   ]
  },
  {
   "cell_type": "code",
   "execution_count": 11,
   "id": "5545fc2d-dcc4-4a37-bc8b-37ed28f98ecd",
   "metadata": {},
   "outputs": [
    {
     "name": "stdout",
     "output_type": "stream",
     "text": [
      "Writing flows/local/tree_branch_flow.py\n"
     ]
    }
   ],
   "source": [
    "%%writefile flows/local/tree_branch_flow.py\n",
    "\n",
    "from metaflow import FlowSpec, step, Parameter, JSONType, IncludeFile, card\n",
    "import json\n",
    "\n",
    "\n",
    "\n",
    "\n",
    "\n",
    "class ClassificationFlow(FlowSpec):\n",
    "    \"\"\"\n",
    "    train multiple tree based methods\n",
    "    \"\"\"\n",
    "    @card \n",
    "    @step\n",
    "    def start(self):\n",
    "        \"\"\"\n",
    "        Load the data\n",
    "        \"\"\"\n",
    "        #Import scikit-learn dataset library\n",
    "        from sklearn import datasets\n",
    "\n",
    "        #Load dataset\n",
    "        self.iris = datasets.load_iris()\n",
    "        self.X = self.iris['data']\n",
    "        self.y = self.iris['target']\n",
    "        self.next(self.rf_model, self.xt_model, self.dt_model)\n",
    "    \n",
    "                \n",
    "    @step\n",
    "    def rf_model(self):\n",
    "        \"\"\"\n",
    "        build random forest model\n",
    "        \"\"\"\n",
    "        from sklearn.ensemble import RandomForestClassifier\n",
    "        from sklearn.model_selection import cross_val_score\n",
    "        \n",
    "        self.clf = RandomForestClassifier(n_estimators=10, max_depth=None,\n",
    "            min_samples_split=2, random_state=0)\n",
    "        self.scores = cross_val_score(self.clf, self.X, self.y, cv=5)\n",
    "        self.next(self.choose_model)\n",
    "\n",
    "    @step\n",
    "    def xt_model(self):\n",
    "        \"\"\"\n",
    "        build extra trees classifier\n",
    "        \"\"\"\n",
    "        from sklearn.ensemble import ExtraTreesClassifier\n",
    "        from sklearn.model_selection import cross_val_score\n",
    "        \n",
    "\n",
    "        self.clf = ExtraTreesClassifier(n_estimators=10, max_depth=None,\n",
    "            min_samples_split=2, random_state=0)\n",
    "\n",
    "        self.scores = cross_val_score(self.clf, self.X, self.y, cv=5)\n",
    "        self.next(self.choose_model)\n",
    "\n",
    "    @step\n",
    "    def dt_model(self):\n",
    "        \"\"\"\n",
    "        build decision tree classifier\n",
    "        \"\"\"\n",
    "        from sklearn.tree import DecisionTreeClassifier\n",
    "        from sklearn.model_selection import cross_val_score\n",
    "        \n",
    "        self.clf = DecisionTreeClassifier(max_depth=None, min_samples_split=2,\n",
    "            random_state=0)\n",
    "\n",
    "        self.scores = cross_val_score(self.clf, self.X, self.y, cv=5)\n",
    "\n",
    "        self.next(self.choose_model)\n",
    "                        \n",
    "    @step\n",
    "    def choose_model(self, inputs):\n",
    "        \"\"\"\n",
    "        find 'best' model\n",
    "        \"\"\"\n",
    "        import numpy as np\n",
    "\n",
    "        def score(inp):\n",
    "            return inp.clf,\\\n",
    "                   np.mean(inp.scores)\n",
    "\n",
    "            \n",
    "        self.results = sorted(map(score, inputs), key=lambda x: -x[1]) \n",
    "        self.model = self.results[0][0]\n",
    "        self.next(self.end)\n",
    "        \n",
    "    @step\n",
    "    def end(self):\n",
    "        \"\"\"\n",
    "        End of flow, yo!\n",
    "        \"\"\"\n",
    "        print('Scores:')\n",
    "        print('\\n'.join('%s %f' % res for res in self.results))\n",
    "\n",
    "\n",
    "if __name__ == \"__main__\":\n",
    "    ClassificationFlow()"
   ]
  },
  {
   "cell_type": "markdown",
   "id": "0a6fc354-9ef2-4326-a913-f2299fd3d8b4",
   "metadata": {},
   "source": [
    "Execute the above from the command line with\n",
    "\n",
    "```bash\n",
    "python flows/local/tree_branch_flow.py run\n",
    "```"
   ]
  },
  {
   "cell_type": "code",
   "execution_count": 12,
   "id": "3aa5a415-63b2-412f-a625-c7ccaeb30f4c",
   "metadata": {},
   "outputs": [
    {
     "name": "stdout",
     "output_type": "stream",
     "text": [
      "\u001b[35m\u001b[1mMetaflow 2.5.0\u001b[0m\u001b[35m\u001b[22m executing \u001b[0m\u001b[31m\u001b[1mClassificationFlow\u001b[0m\u001b[35m\u001b[22m\u001b[0m\u001b[35m\u001b[22m for \u001b[0m\u001b[31m\u001b[1muser:hba\u001b[0m\u001b[35m\u001b[22m\u001b[K\u001b[0m\u001b[35m\u001b[22m\u001b[0m\n",
      "\u001b[35m\u001b[22mValidating your flow...\u001b[K\u001b[0m\u001b[35m\u001b[22m\u001b[0m\n",
      "\u001b[32m\u001b[1m    The graph looks good!\u001b[K\u001b[0m\u001b[32m\u001b[1m\u001b[0m\n",
      "\u001b[35m\u001b[22mRunning pylint...\u001b[K\u001b[0m\u001b[35m\u001b[22m\u001b[0m\n",
      "\u001b[32m\u001b[1m    Pylint is happy!\u001b[K\u001b[0m\u001b[32m\u001b[1m\u001b[0m\n",
      "\u001b[35m2022-03-16 12:24:59.536 \u001b[0m\u001b[1mWorkflow starting (run-id 7227):\u001b[0m\n",
      "\u001b[35m2022-03-16 12:25:05.357 \u001b[0m\u001b[32m[7227/start/135717 (pid 16163)] \u001b[0m\u001b[1mTask is starting.\u001b[0m\n",
      "\u001b[35m2022-03-16 12:25:45.236 \u001b[0m\u001b[32m[7227/start/135717 (pid 16163)] \u001b[0m\u001b[1mTask finished successfully.\u001b[0m\n",
      "\u001b[35m2022-03-16 12:25:49.090 \u001b[0m\u001b[32m[7227/rf_model/135718 (pid 16266)] \u001b[0m\u001b[1mTask is starting.\u001b[0m\n",
      "\u001b[35m2022-03-16 12:26:10.637 \u001b[0m\u001b[32m[7227/rf_model/135718 (pid 16266)] \u001b[0m\u001b[1mTask finished successfully.\u001b[0m\n",
      "\u001b[35m2022-03-16 12:26:14.690 \u001b[0m\u001b[32m[7227/train/135719 (pid 16273)] \u001b[0m\u001b[1mTask is starting.\u001b[0m\n",
      "\u001b[35m2022-03-16 12:26:32.820 \u001b[0m\u001b[32m[7227/train/135719 (pid 16273)] \u001b[0m\u001b[1mTask finished successfully.\u001b[0m\n",
      "\u001b[35m2022-03-16 12:26:36.751 \u001b[0m\u001b[32m[7227/end/135720 (pid 16698)] \u001b[0m\u001b[1mTask is starting.\u001b[0m\n",
      "\u001b[35m2022-03-16 12:26:43.656 \u001b[0m\u001b[32m[7227/end/135720 (pid 16698)] \u001b[0m\u001b[22mClassificationFlow is all done.\u001b[0m\n",
      "\u001b[35m2022-03-16 12:26:52.451 \u001b[0m\u001b[32m[7227/end/135720 (pid 16698)] \u001b[0m\u001b[1mTask finished successfully.\u001b[0m\n",
      "\u001b[35m2022-03-16 12:26:53.658 \u001b[0m\u001b[1mDone!\u001b[0m\n",
      "\u001b[0m"
     ]
    }
   ],
   "source": [
    "! python flows/local/rf_flow.py run"
   ]
  },
  {
   "cell_type": "markdown",
   "id": "a2dd4a43-3ea3-43f5-9d2f-c96ee7d18bb3",
   "metadata": {},
   "source": [
    "### Boosted Trees"
   ]
  },
  {
   "cell_type": "code",
   "execution_count": 13,
   "id": "6e0b86aa-498d-474f-bde4-1e183b5dd7a7",
   "metadata": {},
   "outputs": [
    {
     "name": "stdout",
     "output_type": "stream",
     "text": [
      "Writing flows/local/boosted_flow.py\n"
     ]
    }
   ],
   "source": [
    "%%writefile flows/local/boosted_flow.py\n",
    "\n",
    "from metaflow import FlowSpec, step, Parameter, JSONType, IncludeFile\n",
    "\n",
    "\n",
    "\n",
    "\n",
    "class BSTFlow(FlowSpec):\n",
    "    \"\"\"\n",
    "    train a boosted tree\n",
    "    \"\"\"\n",
    "\n",
    "    @step\n",
    "    def start(self):\n",
    "        \"\"\"\n",
    "        Load the data & train model\n",
    "        \"\"\"\n",
    "        import xgboost as xgb\n",
    "        # from io import StringIO\n",
    "        # read in data\n",
    "        dtrain = xgb.DMatrix('data/agaricus.txt.train')\n",
    "        #dtest = xgb.DMatrix('data/agaricus.txt.test')\n",
    "\n",
    "                # specify parameters\n",
    "        param = {'max_depth':2, 'eta':1, 'objective':'binary:logistic' }\n",
    "        num_round = 2\n",
    "        bst = xgb.train(param, dtrain, num_round)\n",
    "        bst.save_model(\"model.json\")\n",
    "        self.next(self.predict)\n",
    "        \n",
    "\n",
    "        \n",
    "        \n",
    "    @step\n",
    "    def predict(self):\n",
    "        \"\"\"\n",
    "        make predictions\n",
    "        \"\"\"\n",
    "        import xgboost as xgb\n",
    "\n",
    "        dtest = xgb.DMatrix('data/agaricus.txt.test')\n",
    "        # make prediction\n",
    "        bst = xgb.Booster()\n",
    "        bst.load_model(\"model.json\")\n",
    "        preds = bst.predict(dtest)\n",
    "        self.next(self.end)\n",
    "        \n",
    "        \n",
    "    @step\n",
    "    def end(self):\n",
    "        \"\"\"\n",
    "        End of flow, yo!\n",
    "        \"\"\"\n",
    "        print(\"ClassificationFlow is all done.\")\n",
    "\n",
    "\n",
    "if __name__ == \"__main__\":\n",
    "    BSTFlow()"
   ]
  },
  {
   "cell_type": "markdown",
   "id": "83a1fce4-47cd-4c23-b770-7af10f785aee",
   "metadata": {},
   "source": [
    "Execute the above from the command line with\n",
    "\n",
    "```bash\n",
    "python flows/local/boosted_flow.py run\n",
    "```"
   ]
  },
  {
   "cell_type": "code",
   "execution_count": 14,
   "id": "2e817331-98cf-4eca-bea4-036fc41965c9",
   "metadata": {},
   "outputs": [
    {
     "name": "stdout",
     "output_type": "stream",
     "text": [
      "\u001b[35m\u001b[1mMetaflow 2.5.0\u001b[0m\u001b[35m\u001b[22m executing \u001b[0m\u001b[31m\u001b[1mBSTFlow\u001b[0m\u001b[35m\u001b[22m\u001b[0m\u001b[35m\u001b[22m for \u001b[0m\u001b[31m\u001b[1muser:hba\u001b[0m\u001b[35m\u001b[22m\u001b[K\u001b[0m\u001b[35m\u001b[22m\u001b[0m\n",
      "\u001b[35m\u001b[22mValidating your flow...\u001b[K\u001b[0m\u001b[35m\u001b[22m\u001b[0m\n",
      "\u001b[32m\u001b[1m    The graph looks good!\u001b[K\u001b[0m\u001b[32m\u001b[1m\u001b[0m\n",
      "\u001b[35m\u001b[22mRunning pylint...\u001b[K\u001b[0m\u001b[35m\u001b[22m\u001b[0m\n",
      "\u001b[32m\u001b[1m    Pylint is happy!\u001b[K\u001b[0m\u001b[32m\u001b[1m\u001b[0m\n",
      "\u001b[35m2022-03-16 12:31:30.621 \u001b[0m\u001b[1mWorkflow starting (run-id 7228):\u001b[0m\n",
      "\u001b[35m2022-03-16 12:31:36.449 \u001b[0m\u001b[32m[7228/start/135722 (pid 16732)] \u001b[0m\u001b[1mTask is starting.\u001b[0m\n",
      "\u001b[35m2022-03-16 12:31:44.108 \u001b[0m\u001b[32m[7228/start/135722 (pid 16732)] \u001b[0m\u001b[22m[12:31:44] WARNING: /Users/runner/miniforge3/conda-bld/xgboost-split_1645117948562/work/src/learner.cc:1115: Starting in XGBoost 1.3.0, the default evaluation metric used with the objective 'binary:logistic' was changed from 'error' to 'logloss'. Explicitly set eval_metric if you'd like to restore the old behavior.\u001b[0m\n",
      "\u001b[35m2022-03-16 12:31:54.058 \u001b[0m\u001b[32m[7228/start/135722 (pid 16732)] \u001b[0m\u001b[1mTask finished successfully.\u001b[0m\n",
      "\u001b[35m2022-03-16 12:31:58.364 \u001b[0m\u001b[32m[7228/predict/135723 (pid 16738)] \u001b[0m\u001b[1mTask is starting.\u001b[0m\n",
      "\u001b[35m2022-03-16 12:32:15.850 \u001b[0m\u001b[32m[7228/predict/135723 (pid 16738)] \u001b[0m\u001b[1mTask finished successfully.\u001b[0m\n",
      "\u001b[35m2022-03-16 12:32:19.806 \u001b[0m\u001b[32m[7228/end/135724 (pid 16746)] \u001b[0m\u001b[1mTask is starting.\u001b[0m\n",
      "\u001b[35m2022-03-16 12:32:27.232 \u001b[0m\u001b[32m[7228/end/135724 (pid 16746)] \u001b[0m\u001b[22mClassificationFlow is all done.\u001b[0m\n",
      "\u001b[35m2022-03-16 12:32:36.532 \u001b[0m\u001b[32m[7228/end/135724 (pid 16746)] \u001b[0m\u001b[1mTask finished successfully.\u001b[0m\n",
      "\u001b[35m2022-03-16 12:32:37.831 \u001b[0m\u001b[1mDone!\u001b[0m\n",
      "\u001b[0m"
     ]
    }
   ],
   "source": [
    "! python flows/local/boosted_flow.py run"
   ]
  },
  {
   "cell_type": "markdown",
   "id": "f757332f-b475-4e42-b546-c97a75068fc9",
   "metadata": {},
   "source": [
    "### Deep Learning"
   ]
  },
  {
   "cell_type": "code",
   "execution_count": 15,
   "id": "92adeacf-5396-42d0-bed2-32a8a9763d1e",
   "metadata": {},
   "outputs": [
    {
     "name": "stdout",
     "output_type": "stream",
     "text": [
      "Writing flows/local/NN_flow.py\n"
     ]
    }
   ],
   "source": [
    "%%writefile flows/local/NN_flow.py\n",
    "\n",
    "from metaflow import FlowSpec, step, Parameter, JSONType, IncludeFile\n",
    "from taxi_modules import init, MODELS, MODEL_LIBRARIES\n",
    "import json\n",
    "\n",
    "\n",
    "class NNFlow(FlowSpec):\n",
    "    \"\"\"\n",
    "    train a NN\n",
    "    \"\"\"\n",
    "\n",
    "    @step\n",
    "    def start(self):\n",
    "        \"\"\"\n",
    "        Load the data\n",
    "        \"\"\"\n",
    "        from tensorflow import keras\n",
    "\n",
    "        # the data, split between train and test sets\n",
    "        (self.x_train, self.y_train), (self.x_test, self.y_test) = keras.datasets.mnist.load_data()\n",
    "        self.next(self.wrangle)\n",
    "        \n",
    "    @step\n",
    "    def wrangle(self):\n",
    "        \"\"\"\n",
    "        massage data\n",
    "        \"\"\"\n",
    "        import numpy as np\n",
    "        from tensorflow import keras\n",
    "        # Model / data parameters\n",
    "        self.num_classes = 10\n",
    "        self.input_shape = (28, 28, 1)\n",
    "\n",
    "        # Scale images to the [0, 1] range\n",
    "        self.x_train = self.x_train.astype(\"float32\") / 255\n",
    "        self.x_test = self.x_test.astype(\"float32\") / 255\n",
    "        # Make sure images have shape (28, 28, 1)\n",
    "        self.x_train = np.expand_dims(self.x_train, -1)\n",
    "        self.x_test = np.expand_dims(self.x_test, -1)\n",
    "\n",
    "        # convert class vectors to binary class matrices\n",
    "        self.y_train = keras.utils.to_categorical(self.y_train, self.num_classes)\n",
    "        self.y_test = keras.utils.to_categorical(self.y_test, self.num_classes)\n",
    "        \n",
    "        self.next(self.build_model)\n",
    "\n",
    "\n",
    "    @step\n",
    "    def build_model(self):\n",
    "        \"\"\"\n",
    "        build NN model\n",
    "        \"\"\"\n",
    "        import tempfile\n",
    "        import numpy as np\n",
    "        import tensorflow as tf\n",
    "        from tensorflow import keras\n",
    "        from tensorflow.keras import layers\n",
    "\n",
    "        model = keras.Sequential(\n",
    "            [\n",
    "                keras.Input(shape=self.input_shape),\n",
    "                layers.Conv2D(32, kernel_size=(3, 3), activation=\"relu\"),\n",
    "                layers.MaxPooling2D(pool_size=(2, 2)),\n",
    "                layers.Conv2D(64, kernel_size=(3, 3), activation=\"relu\"),\n",
    "                layers.MaxPooling2D(pool_size=(2, 2)),\n",
    "                layers.Flatten(),\n",
    "                layers.Dropout(0.5),\n",
    "                layers.Dense(self.num_classes, activation=\"softmax\"),\n",
    "            ]\n",
    "        )\n",
    "        model.compile(loss=\"categorical_crossentropy\", optimizer=\"adam\", metrics=[\"accuracy\"])\n",
    "        with tempfile.NamedTemporaryFile() as f:\n",
    "            tf.keras.models.save_model(model, f.name, save_format='h5')\n",
    "            self.model = f.read()\n",
    "        self.next(self.train)\n",
    "\n",
    "        \n",
    "        \n",
    "    @step\n",
    "    def train(self):\n",
    "        \"\"\"\n",
    "        Train the model\n",
    "        \"\"\"\n",
    "        import tempfile\n",
    "        import tensorflow as tf\n",
    "        self.batch_size = 128\n",
    "        self.epochs = 15\n",
    "        \n",
    "        with tempfile.NamedTemporaryFile() as f:\n",
    "            f.write(self.model)\n",
    "            f.flush()\n",
    "            model =  tf.keras.models.load_model(f.name)\n",
    "        model.fit(self.x_train, self.y_train, batch_size=self.batch_size, epochs=self.epochs, validation_split=0.1)\n",
    "        \n",
    "        self.next(self.end)\n",
    "        \n",
    "        \n",
    "    @step\n",
    "    def end(self):\n",
    "        \"\"\"\n",
    "        End of flow, yo!\n",
    "        \"\"\"\n",
    "        print(\"ClassificationFlow is all done.\")\n",
    "\n",
    "\n",
    "if __name__ == \"__main__\":\n",
    "    NNFlow()"
   ]
  },
  {
   "cell_type": "markdown",
   "id": "68bf1b5f-d6b9-4b89-be19-b3d22a5db0bd",
   "metadata": {},
   "source": [
    "Execute the above from the command line with\n",
    "\n",
    "```bash\n",
    "python flows/local/NN_flow.py run\n",
    "```"
   ]
  },
  {
   "cell_type": "code",
   "execution_count": 16,
   "id": "6aa50054-916d-4b5c-8f5b-4159996d95a3",
   "metadata": {},
   "outputs": [
    {
     "name": "stdout",
     "output_type": "stream",
     "text": [
      "\u001b[35m\u001b[1mMetaflow 2.5.0\u001b[0m\u001b[35m\u001b[22m executing \u001b[0m\u001b[31m\u001b[1mNNFlow\u001b[0m\u001b[35m\u001b[22m\u001b[0m\u001b[35m\u001b[22m for \u001b[0m\u001b[31m\u001b[1muser:hba\u001b[0m\u001b[35m\u001b[22m\u001b[K\u001b[0m\u001b[35m\u001b[22m\u001b[0m\n",
      "\u001b[35m\u001b[22mValidating your flow...\u001b[K\u001b[0m\u001b[35m\u001b[22m\u001b[0m\n",
      "\u001b[32m\u001b[1m    The graph looks good!\u001b[K\u001b[0m\u001b[32m\u001b[1m\u001b[0m\n",
      "\u001b[35m\u001b[22mRunning pylint...\u001b[K\u001b[0m\u001b[35m\u001b[22m\u001b[0m\n",
      "\u001b[32m\u001b[1m    Pylint is happy!\u001b[K\u001b[0m\u001b[32m\u001b[1m\u001b[0m\n",
      "\u001b[35m2022-03-16 12:33:56.785 \u001b[0m\u001b[1mWorkflow starting (run-id 7229):\u001b[0m\n",
      "\u001b[35m2022-03-16 12:34:02.641 \u001b[0m\u001b[32m[7229/start/135726 (pid 16786)] \u001b[0m\u001b[1mTask is starting.\u001b[0m\n",
      "\u001b[35m2022-03-16 12:34:42.119 \u001b[0m\u001b[32m[7229/start/135726 (pid 16786)] \u001b[0m\u001b[1mTask finished successfully.\u001b[0m\n",
      "\u001b[35m2022-03-16 12:34:45.873 \u001b[0m\u001b[32m[7229/wrangle/135727 (pid 16806)] \u001b[0m\u001b[1mTask is starting.\u001b[0m\n",
      "\u001b[35m2022-03-16 12:35:38.151 \u001b[0m\u001b[32m[7229/wrangle/135727 (pid 16806)] \u001b[0m\u001b[1mTask finished successfully.\u001b[0m\n",
      "\u001b[35m2022-03-16 12:35:42.146 \u001b[0m\u001b[32m[7229/build_model/135728 (pid 16832)] \u001b[0m\u001b[1mTask is starting.\u001b[0m\n",
      "\u001b[35m2022-03-16 12:35:51.337 \u001b[0m\u001b[32m[7229/build_model/135728 (pid 16832)] \u001b[0m\u001b[22m2022-03-16 12:35:51.336924: I tensorflow/core/platform/cpu_feature_guard.cc:142] This TensorFlow binary is optimized with oneAPI Deep Neural Network Library (oneDNN) to use the following CPU instructions in performance-critical operations:  SSE4.1 SSE4.2\u001b[0m\n",
      "\u001b[35m2022-03-16 12:36:41.265 \u001b[0m\u001b[32m[7229/build_model/135728 (pid 16832)] \u001b[0m\u001b[22mTo enable them in other operations, rebuild TensorFlow with the appropriate compiler flags.\u001b[0m\n",
      "\u001b[35m2022-03-16 12:36:44.378 \u001b[0m\u001b[32m[7229/build_model/135728 (pid 16832)] \u001b[0m\u001b[1mTask finished successfully.\u001b[0m\n",
      "\u001b[35m2022-03-16 12:36:48.271 \u001b[0m\u001b[32m[7229/train/135729 (pid 16859)] \u001b[0m\u001b[1mTask is starting.\u001b[0m\n",
      "\u001b[35m2022-03-16 12:36:57.619 \u001b[0m\u001b[32m[7229/train/135729 (pid 16859)] \u001b[0m\u001b[22m2022-03-16 12:36:57.619687: I tensorflow/core/platform/cpu_feature_guard.cc:142] This TensorFlow binary is optimized with oneAPI Deep Neural Network Library (oneDNN) to use the following CPU instructions in performance-critical operations:  SSE4.1 SSE4.2\u001b[0m\n",
      "\u001b[35m2022-03-16 12:37:13.660 \u001b[0m\u001b[32m[7229/train/135729 (pid 16859)] \u001b[0m\u001b[22mTo enable them in other operations, rebuild TensorFlow with the appropriate compiler flags.\u001b[0m\n",
      "\u001b[35m2022-03-16 12:37:13.661 \u001b[0m\u001b[32m[7229/train/135729 (pid 16859)] \u001b[0m\u001b[22m2022-03-16 12:37:13.660888: I tensorflow/compiler/mlir/mlir_graph_optimization_pass.cc:116] None of the MLIR optimization passes are enabled (registered 2)\u001b[0m\n",
      "\u001b[35m2022-03-16 12:37:13.671 \u001b[0m\u001b[32m[7229/train/135729 (pid 16859)] \u001b[0m\u001b[22mEpoch 1/15\u001b[0m\n",
      "422/422 [==============================] - 11s 25ms/step - loss: 0.3612 - accuracy: 0.8901 - val_loss: 0.0809 - val_accuracy: 0.9792\u001b[0m: 2.3328 - accuracy: 0.07\n",
      "\u001b[35m2022-03-16 12:37:24.641 \u001b[0m\u001b[32m[7229/train/135729 (pid 16859)] \u001b[0m\u001b[22mEpoch 2/15\u001b[0m\n",
      "422/422 [==============================] - 10s 25ms/step - loss: 0.1126 - accuracy: 0.9656 - val_loss: 0.0615 - val_accuracy: 0.9825\u001b[0m 0.1192 - accuracy: 0.960\n",
      "\u001b[35m2022-03-16 12:37:35.099 \u001b[0m\u001b[32m[7229/train/135729 (pid 16859)] \u001b[0m\u001b[22mEpoch 3/15\u001b[0m\n",
      "422/422 [==============================] - 11s 25ms/step - loss: 0.0866 - accuracy: 0.9736 - val_loss: 0.0453 - val_accuracy: 0.9885\u001b[0m 0.1150 - accuracy: 0.960\n",
      "\u001b[35m2022-03-16 12:37:45.789 \u001b[0m\u001b[32m[7229/train/135729 (pid 16859)] \u001b[0m\u001b[22mEpoch 4/15\u001b[0m\n",
      "422/422 [==============================] - 10s 24ms/step - loss: 0.0726 - accuracy: 0.9773 - val_loss: 0.0416 - val_accuracy: 0.9888\u001b[0m 0.1333 - accuracy: 0.96\n",
      "\u001b[35m2022-03-16 12:37:56.031 \u001b[0m\u001b[32m[7229/train/135729 (pid 16859)] \u001b[0m\u001b[22mEpoch 5/15\u001b[0m\n",
      "422/422 [==============================] - 10s 24ms/step - loss: 0.0637 - accuracy: 0.9805 - val_loss: 0.0382 - val_accuracy: 0.9888\u001b[0m0.0474 - accuracy: 0.97\n",
      "\u001b[35m2022-03-16 12:38:06.349 \u001b[0m\u001b[32m[7229/train/135729 (pid 16859)] \u001b[0m\u001b[22mEpoch 6/15\u001b[0m\n",
      "422/422 [==============================] - 10s 25ms/step - loss: 0.0568 - accuracy: 0.9824 - val_loss: 0.0344 - val_accuracy: 0.9903\u001b[0m0.0232 - accuracy: 0.99=============>.............] - ETA: 4s - loss: 0.0574 - accuracy: 0.98\n",
      "\u001b[35m2022-03-16 12:38:16.720 \u001b[0m\u001b[32m[7229/train/135729 (pid 16859)] \u001b[0m\u001b[22mEpoch 7/15\u001b[0m\n",
      "422/422 [==============================] - 10s 24ms/step - loss: 0.0522 - accuracy: 0.9833 - val_loss: 0.0346 - val_accuracy: 0.9907\u001b[0m 0.0375 - accuracy: 0.97\n",
      "\u001b[35m2022-03-16 12:38:26.971 \u001b[0m\u001b[32m[7229/train/135729 (pid 16859)] \u001b[0m\u001b[22mEpoch 8/15\u001b[0m\n",
      "422/422 [==============================] - 10s 24ms/step - loss: 0.0487 - accuracy: 0.9848 - val_loss: 0.0307 - val_accuracy: 0.9910\u001b[0m 0.0299 - accuracy: 0.992\n",
      "\u001b[35m2022-03-16 12:38:37.285 \u001b[0m\u001b[32m[7229/train/135729 (pid 16859)] \u001b[0m\u001b[22mEpoch 9/15\u001b[0m\n",
      "422/422 [==============================] - 10s 24ms/step - loss: 0.0432 - accuracy: 0.9864 - val_loss: 0.0309 - val_accuracy: 0.9903\u001b[0m0.0360 - accuracy: 0.99\n",
      "\u001b[35m2022-03-16 12:38:47.535 \u001b[0m\u001b[32m[7229/train/135729 (pid 16859)] \u001b[0m\u001b[22mEpoch 10/15\u001b[0m\n",
      "422/422 [==============================] - 10s 24ms/step - loss: 0.0417 - accuracy: 0.9871 - val_loss: 0.0331 - val_accuracy: 0.9893\u001b[0m0.0023 - accuracy: 1.00\n",
      "\u001b[35m2022-03-16 12:38:57.866 \u001b[0m\u001b[32m[7229/train/135729 (pid 16859)] \u001b[0m\u001b[22mEpoch 11/15\u001b[0m\n",
      "422/422 [==============================] - 10s 24ms/step - loss: 0.0408 - accuracy: 0.9870 - val_loss: 0.0300 - val_accuracy: 0.9913\u001b[0m0.0281 - accuracy: 0.\n",
      "\u001b[35m2022-03-16 12:39:08.110 \u001b[0m\u001b[32m[7229/train/135729 (pid 16859)] \u001b[0m\u001b[22mEpoch 12/15\u001b[0m\n",
      "422/422 [==============================] - 10s 24ms/step - loss: 0.0380 - accuracy: 0.9873 - val_loss: 0.0322 - val_accuracy: 0.9910\u001b[0m 0.0773 - accuracy: 0.96\n",
      "\u001b[35m2022-03-16 12:39:18.400 \u001b[0m\u001b[32m[7229/train/135729 (pid 16859)] \u001b[0m\u001b[22mEpoch 13/15\u001b[0m\n",
      "422/422 [==============================] - 10s 24ms/step - loss: 0.0369 - accuracy: 0.9886 - val_loss: 0.0279 - val_accuracy: 0.9922\u001b[0m 0.0070 - accuracy: 1.000\n",
      "\u001b[35m2022-03-16 12:39:28.671 \u001b[0m\u001b[32m[7229/train/135729 (pid 16859)] \u001b[0m\u001b[22mEpoch 14/15\u001b[0m\n",
      "422/422 [==============================] - 10s 24ms/step - loss: 0.0339 - accuracy: 0.9890 - val_loss: 0.0279 - val_accuracy: 0.9928\u001b[0m0.0292 - accuracy: 0.99\n",
      "\u001b[35m2022-03-16 12:39:38.978 \u001b[0m\u001b[32m[7229/train/135729 (pid 16859)] \u001b[0m\u001b[22mEpoch 15/15\u001b[0m\n",
      "422/422 [==============================] - 10s 24ms/step - loss: 0.0330 - accuracy: 0.9892 - val_loss: 0.0268 - val_accuracy: 0.9937\u001b[0m0.0317 - accuracy: 0.98\n",
      "\u001b[35m2022-03-16 12:40:04.257 \u001b[0m\u001b[32m[7229/train/135729 (pid 16859)] \u001b[0m\u001b[1mTask finished successfully.\u001b[0m\n",
      "\u001b[35m2022-03-16 12:40:10.643 \u001b[0m\u001b[32m[7229/end/135730 (pid 16892)] \u001b[0m\u001b[1mTask is starting.\u001b[0m\n",
      "\u001b[35m2022-03-16 12:40:17.778 \u001b[0m\u001b[32m[7229/end/135730 (pid 16892)] \u001b[0m\u001b[22mClassificationFlow is all done.\u001b[0m\n",
      "\u001b[35m2022-03-16 12:40:27.193 \u001b[0m\u001b[32m[7229/end/135730 (pid 16892)] \u001b[0m\u001b[1mTask finished successfully.\u001b[0m\n",
      "\u001b[35m2022-03-16 12:40:28.371 \u001b[0m\u001b[1mDone!\u001b[0m\n",
      "\u001b[0m"
     ]
    }
   ],
   "source": [
    "! python flows/local/NN_flow.py run"
   ]
  },
  {
   "cell_type": "markdown",
   "id": "6968aa14-ef6d-4537-bc7e-61a5d9d314dd",
   "metadata": {},
   "source": [
    "## Flows for the Cloud"
   ]
  },
  {
   "cell_type": "code",
   "execution_count": 17,
   "id": "dd051a23-afc8-456f-bac1-37451f35d052",
   "metadata": {},
   "outputs": [
    {
     "name": "stdout",
     "output_type": "stream",
     "text": [
      "Writing flows/cloud/rf_flow_cloud.py\n"
     ]
    }
   ],
   "source": [
    "%%writefile flows/cloud/rf_flow_cloud.py\n",
    "\n",
    "from metaflow import FlowSpec, step, Parameter, JSONType, IncludeFile, card, conda, conda_base\n",
    "import json\n",
    "\n",
    "\n",
    "\n",
    "\n",
    "\n",
    "class ClassificationFlow(FlowSpec):\n",
    "    \"\"\"\n",
    "    train a random forest\n",
    "    \"\"\"\n",
    "    @conda(libraries={'scikit-learn':'1.0.2'}) \n",
    "    @card\n",
    "    @step\n",
    "    def start(self):\n",
    "        \"\"\"\n",
    "        Load the data\n",
    "        \"\"\"\n",
    "        #Import scikit-learn dataset library\n",
    "        from sklearn import datasets\n",
    "\n",
    "        #Load dataset\n",
    "        self.iris = datasets.load_iris()\n",
    "        self.X = self.iris['data']\n",
    "        self.y = self.iris['target']\n",
    "        self.next(self.rf_model)\n",
    "        \n",
    "    @conda(libraries={'scikit-learn':'1.0.2'})\n",
    "    @step\n",
    "    def rf_model(self):\n",
    "        \"\"\"\n",
    "        build random forest model\n",
    "        \"\"\"\n",
    "        from sklearn.ensemble import RandomForestClassifier\n",
    "        \n",
    "        self.clf = RandomForestClassifier(n_estimators=10, max_depth=None,\n",
    "            min_samples_split=2, random_state=0)\n",
    "        self.next(self.train)\n",
    "\n",
    "        \n",
    "    @conda(libraries={'scikit-learn':'1.0.2'})       \n",
    "    @step\n",
    "    def train(self):\n",
    "        \"\"\"\n",
    "        Train the model\n",
    "        \"\"\"\n",
    "        from sklearn.model_selection import cross_val_score\n",
    "        self.scores = cross_val_score(self.clf, self.X, self.y, cv=5)\n",
    "        self.next(self.end)\n",
    "        \n",
    "        \n",
    "    @step\n",
    "    def end(self):\n",
    "        \"\"\"\n",
    "        End of flow, yo!\n",
    "        \"\"\"\n",
    "        print(\"ClassificationFlow is all done.\")\n",
    "\n",
    "\n",
    "if __name__ == \"__main__\":\n",
    "    ClassificationFlow()"
   ]
  },
  {
   "cell_type": "markdown",
   "id": "5e5efc50-b867-4381-93b8-49cb6e457ce5",
   "metadata": {},
   "source": [
    "Execute the above from the command line with\n",
    "\n",
    "```bash\n",
    "python flows/cloud/rf_flow_cloud.py --environment=conda run --with batch\n",
    "```"
   ]
  },
  {
   "cell_type": "code",
   "execution_count": 18,
   "id": "d17677d4-b8f8-48eb-b3c8-5bc420b5f918",
   "metadata": {},
   "outputs": [
    {
     "name": "stdout",
     "output_type": "stream",
     "text": [
      "\u001b[35m\u001b[1mMetaflow 2.5.0\u001b[0m\u001b[35m\u001b[22m executing \u001b[0m\u001b[31m\u001b[1mClassificationFlow\u001b[0m\u001b[35m\u001b[22m\u001b[0m\u001b[35m\u001b[22m for \u001b[0m\u001b[31m\u001b[1muser:hba\u001b[0m\u001b[35m\u001b[22m\u001b[K\u001b[0m\u001b[35m\u001b[22m\u001b[0m\n",
      "\u001b[35m\u001b[22mValidating your flow...\u001b[K\u001b[0m\u001b[35m\u001b[22m\u001b[0m\n",
      "\u001b[32m\u001b[1m    The graph looks good!\u001b[K\u001b[0m\u001b[32m\u001b[1m\u001b[0m\n",
      "\u001b[35m\u001b[22mRunning pylint...\u001b[K\u001b[0m\u001b[35m\u001b[22m\u001b[0m\n",
      "\u001b[32m\u001b[1m    Pylint is happy!\u001b[K\u001b[0m\u001b[32m\u001b[1m\u001b[0m\n",
      "\u001b[22mBootstrapping conda environment...(this could take a few minutes)\u001b[K\u001b[0m\u001b[22m\u001b[0m\n",
      "\u001b[35m2022-03-16 12:44:06.562 \u001b[0m\u001b[1mWorkflow starting (run-id 7230):\u001b[0m\n",
      "\u001b[35m2022-03-16 12:44:17.829 \u001b[0m\u001b[32m[7230/start/135732 (pid 17269)] \u001b[0m\u001b[1mTask is starting.\u001b[0m\n",
      "\u001b[35m2022-03-16 12:44:20.408 \u001b[0m\u001b[32m[7230/start/135732 (pid 17269)] \u001b[0m\u001b[22m[d2dc4990-242e-44f3-bec0-98109e7d0c0b] Task is starting (status SUBMITTED)...\u001b[0m\n",
      "\u001b[35m2022-03-16 12:44:23.603 \u001b[0m\u001b[32m[7230/start/135732 (pid 17269)] \u001b[0m\u001b[22m[d2dc4990-242e-44f3-bec0-98109e7d0c0b] Task is starting (status RUNNABLE)...\u001b[0m\n",
      "\u001b[35m2022-03-16 12:44:53.604 \u001b[0m\u001b[32m[7230/start/135732 (pid 17269)] \u001b[0m\u001b[22m[d2dc4990-242e-44f3-bec0-98109e7d0c0b] Task is starting (status RUNNABLE)...\u001b[0m\n",
      "\u001b[35m2022-03-16 12:45:23.933 \u001b[0m\u001b[32m[7230/start/135732 (pid 17269)] \u001b[0m\u001b[22m[d2dc4990-242e-44f3-bec0-98109e7d0c0b] Task is starting (status RUNNABLE)...\u001b[0m\n",
      "\u001b[35m2022-03-16 12:45:54.044 \u001b[0m\u001b[32m[7230/start/135732 (pid 17269)] \u001b[0m\u001b[22m[d2dc4990-242e-44f3-bec0-98109e7d0c0b] Task is starting (status RUNNABLE)...\u001b[0m\n",
      "\u001b[35m2022-03-16 12:46:24.414 \u001b[0m\u001b[32m[7230/start/135732 (pid 17269)] \u001b[0m\u001b[22m[d2dc4990-242e-44f3-bec0-98109e7d0c0b] Task is starting (status RUNNABLE)...\u001b[0m\n",
      "\u001b[35m2022-03-16 12:46:54.489 \u001b[0m\u001b[32m[7230/start/135732 (pid 17269)] \u001b[0m\u001b[22m[d2dc4990-242e-44f3-bec0-98109e7d0c0b] Task is starting (status RUNNABLE)...\u001b[0m\n",
      "\u001b[35m2022-03-16 12:46:55.134 \u001b[0m\u001b[32m[7230/start/135732 (pid 17269)] \u001b[0m\u001b[22m[d2dc4990-242e-44f3-bec0-98109e7d0c0b] Task is starting (status STARTING)...\u001b[0m\n",
      "\u001b[35m2022-03-16 12:47:16.320 \u001b[0m\u001b[32m[7230/start/135732 (pid 17269)] \u001b[0m\u001b[22m[d2dc4990-242e-44f3-bec0-98109e7d0c0b] Task is starting (status RUNNING)...\u001b[0m\n",
      "\u001b[35m2022-03-16 12:47:15.420 \u001b[0m\u001b[32m[7230/start/135732 (pid 17269)] \u001b[0m\u001b[22m[d2dc4990-242e-44f3-bec0-98109e7d0c0b] Setting up task environment.\u001b[0m\n",
      "\u001b[35m2022-03-16 12:47:24.417 \u001b[0m\u001b[32m[7230/start/135732 (pid 17269)] \u001b[0m\u001b[22m[d2dc4990-242e-44f3-bec0-98109e7d0c0b] Downloading code package...\u001b[0m\n",
      "\u001b[35m2022-03-16 12:47:25.112 \u001b[0m\u001b[32m[7230/start/135732 (pid 17269)] \u001b[0m\u001b[22m[d2dc4990-242e-44f3-bec0-98109e7d0c0b] Code package downloaded.\u001b[0m\n",
      "\u001b[35m2022-03-16 12:47:25.128 \u001b[0m\u001b[32m[7230/start/135732 (pid 17269)] \u001b[0m\u001b[22m[d2dc4990-242e-44f3-bec0-98109e7d0c0b] Task is starting.\u001b[0m\n",
      "\u001b[35m2022-03-16 12:47:25.590 \u001b[0m\u001b[32m[7230/start/135732 (pid 17269)] \u001b[0m\u001b[22m[d2dc4990-242e-44f3-bec0-98109e7d0c0b] Bootstrapping environment...\u001b[0m\n",
      "\u001b[35m2022-03-16 12:48:05.317 \u001b[0m\u001b[32m[7230/start/135732 (pid 17269)] \u001b[0m\u001b[22m[d2dc4990-242e-44f3-bec0-98109e7d0c0b] Environment bootstrapped.\u001b[0m\n",
      "\u001b[35m2022-03-16 12:48:19.880 \u001b[0m\u001b[32m[7230/start/135732 (pid 17269)] \u001b[0m\u001b[22m[d2dc4990-242e-44f3-bec0-98109e7d0c0b] Task finished with exit code 0.\u001b[0m\n",
      "\u001b[35m2022-03-16 12:48:23.058 \u001b[0m\u001b[32m[7230/start/135732 (pid 17269)] \u001b[0m\u001b[1mTask finished successfully.\u001b[0m\n",
      "\u001b[35m2022-03-16 12:48:27.473 \u001b[0m\u001b[32m[7230/rf_model/135733 (pid 17857)] \u001b[0m\u001b[1mTask is starting.\u001b[0m\n",
      "\u001b[35m2022-03-16 12:48:29.941 \u001b[0m\u001b[32m[7230/rf_model/135733 (pid 17857)] \u001b[0m\u001b[22m[5bea1f68-9347-4076-9015-5f32ef86e2aa] Task is starting (status SUBMITTED)...\u001b[0m\n",
      "\u001b[35m2022-03-16 12:48:31.003 \u001b[0m\u001b[32m[7230/rf_model/135733 (pid 17857)] \u001b[0m\u001b[22m[5bea1f68-9347-4076-9015-5f32ef86e2aa] Task is starting (status RUNNABLE)...\u001b[0m\n",
      "\u001b[35m2022-03-16 12:48:33.142 \u001b[0m\u001b[32m[7230/rf_model/135733 (pid 17857)] \u001b[0m\u001b[22m[5bea1f68-9347-4076-9015-5f32ef86e2aa] Task is starting (status STARTING)...\u001b[0m\n",
      "\u001b[35m2022-03-16 12:48:35.258 \u001b[0m\u001b[32m[7230/rf_model/135733 (pid 17857)] \u001b[0m\u001b[22m[5bea1f68-9347-4076-9015-5f32ef86e2aa] Task is starting (status RUNNING)...\u001b[0m\n",
      "\u001b[35m2022-03-16 12:48:34.494 \u001b[0m\u001b[32m[7230/rf_model/135733 (pid 17857)] \u001b[0m\u001b[22m[5bea1f68-9347-4076-9015-5f32ef86e2aa] Setting up task environment.\u001b[0m\n",
      "\u001b[35m2022-03-16 12:48:43.347 \u001b[0m\u001b[32m[7230/rf_model/135733 (pid 17857)] \u001b[0m\u001b[22m[5bea1f68-9347-4076-9015-5f32ef86e2aa] Downloading code package...\u001b[0m\n",
      "\u001b[35m2022-03-16 12:48:43.964 \u001b[0m\u001b[32m[7230/rf_model/135733 (pid 17857)] \u001b[0m\u001b[22m[5bea1f68-9347-4076-9015-5f32ef86e2aa] Code package downloaded.\u001b[0m\n",
      "\u001b[35m2022-03-16 12:48:43.979 \u001b[0m\u001b[32m[7230/rf_model/135733 (pid 17857)] \u001b[0m\u001b[22m[5bea1f68-9347-4076-9015-5f32ef86e2aa] Task is starting.\u001b[0m\n",
      "\u001b[35m2022-03-16 12:48:44.444 \u001b[0m\u001b[32m[7230/rf_model/135733 (pid 17857)] \u001b[0m\u001b[22m[5bea1f68-9347-4076-9015-5f32ef86e2aa] Bootstrapping environment...\u001b[0m\n",
      "\u001b[35m2022-03-16 12:49:24.511 \u001b[0m\u001b[32m[7230/rf_model/135733 (pid 17857)] \u001b[0m\u001b[22m[5bea1f68-9347-4076-9015-5f32ef86e2aa] Environment bootstrapped.\u001b[0m\n",
      "\u001b[35m2022-03-16 12:49:37.540 \u001b[0m\u001b[32m[7230/rf_model/135733 (pid 17857)] \u001b[0m\u001b[22m[5bea1f68-9347-4076-9015-5f32ef86e2aa] Task finished with exit code 0.\u001b[0m\n",
      "\u001b[35m2022-03-16 12:49:40.884 \u001b[0m\u001b[32m[7230/rf_model/135733 (pid 17857)] \u001b[0m\u001b[1mTask finished successfully.\u001b[0m\n",
      "\u001b[35m2022-03-16 12:49:45.487 \u001b[0m\u001b[32m[7230/train/135734 (pid 17878)] \u001b[0m\u001b[1mTask is starting.\u001b[0m\n",
      "\u001b[35m2022-03-16 12:49:48.008 \u001b[0m\u001b[32m[7230/train/135734 (pid 17878)] \u001b[0m\u001b[22m[0e2891e8-47d8-4ef8-af42-a31f8b9756f8] Task is starting (status SUBMITTED)...\u001b[0m\n",
      "\u001b[35m2022-03-16 12:49:49.066 \u001b[0m\u001b[32m[7230/train/135734 (pid 17878)] \u001b[0m\u001b[22m[0e2891e8-47d8-4ef8-af42-a31f8b9756f8] Task is starting (status RUNNABLE)...\u001b[0m\n",
      "\u001b[35m2022-03-16 12:49:51.189 \u001b[0m\u001b[32m[7230/train/135734 (pid 17878)] \u001b[0m\u001b[22m[0e2891e8-47d8-4ef8-af42-a31f8b9756f8] Task is starting (status STARTING)...\u001b[0m\n",
      "\u001b[35m2022-03-16 12:49:53.300 \u001b[0m\u001b[32m[7230/train/135734 (pid 17878)] \u001b[0m\u001b[22m[0e2891e8-47d8-4ef8-af42-a31f8b9756f8] Task is starting (status RUNNING)...\u001b[0m\n",
      "\u001b[35m2022-03-16 12:49:52.458 \u001b[0m\u001b[32m[7230/train/135734 (pid 17878)] \u001b[0m\u001b[22m[0e2891e8-47d8-4ef8-af42-a31f8b9756f8] Setting up task environment.\u001b[0m\n",
      "\u001b[35m2022-03-16 12:50:02.608 \u001b[0m\u001b[32m[7230/train/135734 (pid 17878)] \u001b[0m\u001b[22m[0e2891e8-47d8-4ef8-af42-a31f8b9756f8] Downloading code package...\u001b[0m\n",
      "\u001b[35m2022-03-16 12:50:03.281 \u001b[0m\u001b[32m[7230/train/135734 (pid 17878)] \u001b[0m\u001b[22m[0e2891e8-47d8-4ef8-af42-a31f8b9756f8] Code package downloaded.\u001b[0m\n",
      "\u001b[35m2022-03-16 12:50:03.296 \u001b[0m\u001b[32m[7230/train/135734 (pid 17878)] \u001b[0m\u001b[22m[0e2891e8-47d8-4ef8-af42-a31f8b9756f8] Task is starting.\u001b[0m\n",
      "\u001b[35m2022-03-16 12:50:03.767 \u001b[0m\u001b[32m[7230/train/135734 (pid 17878)] \u001b[0m\u001b[22m[0e2891e8-47d8-4ef8-af42-a31f8b9756f8] Bootstrapping environment...\u001b[0m\n",
      "\u001b[35m2022-03-16 12:50:46.761 \u001b[0m\u001b[32m[7230/train/135734 (pid 17878)] \u001b[0m\u001b[22m[0e2891e8-47d8-4ef8-af42-a31f8b9756f8] Environment bootstrapped.\u001b[0m\n",
      "\u001b[35m2022-03-16 12:50:59.968 \u001b[0m\u001b[32m[7230/train/135734 (pid 17878)] \u001b[0m\u001b[22m[0e2891e8-47d8-4ef8-af42-a31f8b9756f8] Task finished with exit code 0.\u001b[0m\n",
      "\u001b[35m2022-03-16 12:51:03.419 \u001b[0m\u001b[32m[7230/train/135734 (pid 17878)] \u001b[0m\u001b[1mTask finished successfully.\u001b[0m\n",
      "\u001b[35m2022-03-16 12:51:07.632 \u001b[0m\u001b[32m[7230/end/135735 (pid 17905)] \u001b[0m\u001b[1mTask is starting.\u001b[0m\n",
      "\u001b[35m2022-03-16 12:51:10.140 \u001b[0m\u001b[32m[7230/end/135735 (pid 17905)] \u001b[0m\u001b[22m[1eeeeee6-e18a-45f7-bae3-cba9e1cc1641] Task is starting (status SUBMITTED)...\u001b[0m\n",
      "\u001b[35m2022-03-16 12:51:12.250 \u001b[0m\u001b[32m[7230/end/135735 (pid 17905)] \u001b[0m\u001b[22m[1eeeeee6-e18a-45f7-bae3-cba9e1cc1641] Task is starting (status RUNNABLE)...\u001b[0m\n",
      "\u001b[35m2022-03-16 12:51:15.450 \u001b[0m\u001b[32m[7230/end/135735 (pid 17905)] \u001b[0m\u001b[22m[1eeeeee6-e18a-45f7-bae3-cba9e1cc1641] Task is starting (status STARTING)...\u001b[0m\n",
      "\u001b[35m2022-03-16 12:51:18.599 \u001b[0m\u001b[32m[7230/end/135735 (pid 17905)] \u001b[0m\u001b[22m[1eeeeee6-e18a-45f7-bae3-cba9e1cc1641] Task is starting (status RUNNING)...\u001b[0m\n",
      "\u001b[35m2022-03-16 12:51:17.471 \u001b[0m\u001b[32m[7230/end/135735 (pid 17905)] \u001b[0m\u001b[22m[1eeeeee6-e18a-45f7-bae3-cba9e1cc1641] Setting up task environment.\u001b[0m\n",
      "\u001b[35m2022-03-16 12:51:26.438 \u001b[0m\u001b[32m[7230/end/135735 (pid 17905)] \u001b[0m\u001b[22m[1eeeeee6-e18a-45f7-bae3-cba9e1cc1641] Downloading code package...\u001b[0m\n",
      "\u001b[35m2022-03-16 12:51:27.066 \u001b[0m\u001b[32m[7230/end/135735 (pid 17905)] \u001b[0m\u001b[22m[1eeeeee6-e18a-45f7-bae3-cba9e1cc1641] Code package downloaded.\u001b[0m\n",
      "\u001b[35m2022-03-16 12:51:27.082 \u001b[0m\u001b[32m[7230/end/135735 (pid 17905)] \u001b[0m\u001b[22m[1eeeeee6-e18a-45f7-bae3-cba9e1cc1641] Task is starting.\u001b[0m\n",
      "\u001b[35m2022-03-16 12:51:27.549 \u001b[0m\u001b[32m[7230/end/135735 (pid 17905)] \u001b[0m\u001b[22m[1eeeeee6-e18a-45f7-bae3-cba9e1cc1641] Bootstrapping environment...\u001b[0m\n",
      "\u001b[35m2022-03-16 12:51:59.544 \u001b[0m\u001b[32m[7230/end/135735 (pid 17905)] \u001b[0m\u001b[22m[1eeeeee6-e18a-45f7-bae3-cba9e1cc1641] Environment bootstrapped.\u001b[0m\n",
      "\u001b[35m2022-03-16 12:52:00.946 \u001b[0m\u001b[32m[7230/end/135735 (pid 17905)] \u001b[0m\u001b[22m[1eeeeee6-e18a-45f7-bae3-cba9e1cc1641] ClassificationFlow is all done.\u001b[0m\n",
      "\u001b[35m2022-03-16 12:52:09.315 \u001b[0m\u001b[32m[7230/end/135735 (pid 17905)] \u001b[0m\u001b[22m[1eeeeee6-e18a-45f7-bae3-cba9e1cc1641] Task finished with exit code 0.\u001b[0m\n",
      "\u001b[35m2022-03-16 12:52:12.542 \u001b[0m\u001b[32m[7230/end/135735 (pid 17905)] \u001b[0m\u001b[1mTask finished successfully.\u001b[0m\n",
      "\u001b[35m2022-03-16 12:52:13.771 \u001b[0m\u001b[1mDone!\u001b[0m\n",
      "\u001b[0m"
     ]
    }
   ],
   "source": [
    "! python flows/cloud/rf_flow_cloud.py --environment=conda run --with batch"
   ]
  },
  {
   "cell_type": "code",
   "execution_count": 19,
   "id": "b1756870-9d37-48bf-b58b-0561e2db5264",
   "metadata": {},
   "outputs": [
    {
     "name": "stdout",
     "output_type": "stream",
     "text": [
      "Writing flows/cloud/tree_branch_flow_cloud.py\n"
     ]
    }
   ],
   "source": [
    "%%writefile flows/cloud/tree_branch_flow_cloud.py\n",
    "\n",
    "from metaflow import FlowSpec, step, Parameter, JSONType, IncludeFile, card, conda, conda_base\n",
    "import json\n",
    "\n",
    "\n",
    "\n",
    "\n",
    "\n",
    "class ClassificationFlow(FlowSpec):\n",
    "    \"\"\"\n",
    "    train multiple tree based methods\n",
    "    \"\"\"\n",
    "    @conda(libraries={'scikit-learn':'1.0.2'}) \n",
    "    @card \n",
    "    @step\n",
    "    def start(self):\n",
    "        \"\"\"\n",
    "        Load the data\n",
    "        \"\"\"\n",
    "        #Import scikit-learn dataset library\n",
    "        from sklearn import datasets\n",
    "\n",
    "        #Load dataset\n",
    "        self.iris = datasets.load_iris()\n",
    "        self.X = self.iris['data']\n",
    "        self.y = self.iris['target']\n",
    "        self.next(self.rf_model, self.xt_model, self.dt_model)\n",
    "    \n",
    "    @conda(libraries={'scikit-learn':'1.0.2'})             \n",
    "    @step\n",
    "    def rf_model(self):\n",
    "        \"\"\"\n",
    "        build random forest model\n",
    "        \"\"\"\n",
    "        from sklearn.ensemble import RandomForestClassifier\n",
    "        from sklearn.model_selection import cross_val_score\n",
    "        \n",
    "        self.clf = RandomForestClassifier(n_estimators=10, max_depth=None,\n",
    "            min_samples_split=2, random_state=0)\n",
    "        self.scores = cross_val_score(self.clf, self.X, self.y, cv=5)\n",
    "        self.next(self.choose_model)\n",
    "    \n",
    "    @conda(libraries={'scikit-learn':'1.0.2'}) \n",
    "    @step\n",
    "    def xt_model(self):\n",
    "        \"\"\"\n",
    "        build extra trees classifier\n",
    "        \"\"\"\n",
    "        from sklearn.ensemble import ExtraTreesClassifier\n",
    "        from sklearn.model_selection import cross_val_score\n",
    "        \n",
    "\n",
    "        self.clf = ExtraTreesClassifier(n_estimators=10, max_depth=None,\n",
    "            min_samples_split=2, random_state=0)\n",
    "\n",
    "        self.scores = cross_val_score(self.clf, self.X, self.y, cv=5)\n",
    "        self.next(self.choose_model)\n",
    "    \n",
    "    @conda(libraries={'scikit-learn':'1.0.2'}) \n",
    "    @step\n",
    "    def dt_model(self):\n",
    "        \"\"\"\n",
    "        build decision tree classifier\n",
    "        \"\"\"\n",
    "        from sklearn.tree import DecisionTreeClassifier\n",
    "        from sklearn.model_selection import cross_val_score\n",
    "        \n",
    "        self.clf = DecisionTreeClassifier(max_depth=None, min_samples_split=2,\n",
    "            random_state=0)\n",
    "\n",
    "        self.scores = cross_val_score(self.clf, self.X, self.y, cv=5)\n",
    "\n",
    "        self.next(self.choose_model)\n",
    "\n",
    "    @conda(libraries={'scikit-learn':'1.0.2'})                         \n",
    "    @step\n",
    "    def choose_model(self, inputs):\n",
    "        \"\"\"\n",
    "        find 'best' model\n",
    "        \"\"\"\n",
    "        import numpy as np\n",
    "\n",
    "        def score(inp):\n",
    "            return inp.clf,\\\n",
    "                   np.mean(inp.scores)\n",
    "\n",
    "            \n",
    "        self.results = sorted(map(score, inputs), key=lambda x: -x[1]) \n",
    "        self.model = self.results[0][0]\n",
    "        self.next(self.end)\n",
    "\n",
    "    @conda(libraries={'scikit-learn':'1.0.2'})         \n",
    "    @step\n",
    "    def end(self):\n",
    "        \"\"\"\n",
    "        End of flow, yo!\n",
    "        \"\"\"\n",
    "        print('Scores:')\n",
    "        print('\\n'.join('%s %f' % res for res in self.results))\n",
    "\n",
    "\n",
    "if __name__ == \"__main__\":\n",
    "    ClassificationFlow()"
   ]
  },
  {
   "cell_type": "markdown",
   "id": "9c9fd048-0f2c-4775-81ba-dd429a28689f",
   "metadata": {},
   "source": [
    "Execute the above from the command line with\n",
    "\n",
    "```bash\n",
    "python flows/cloud/tree_branch_flow_cloud.py --environment=conda run --with batch\n",
    "```"
   ]
  },
  {
   "cell_type": "code",
   "execution_count": 20,
   "id": "acc2061e-ab30-421e-9d25-803cf7c834f3",
   "metadata": {},
   "outputs": [
    {
     "name": "stdout",
     "output_type": "stream",
     "text": [
      "\u001b[35m\u001b[1mMetaflow 2.5.0\u001b[0m\u001b[35m\u001b[22m executing \u001b[0m\u001b[31m\u001b[1mClassificationFlow\u001b[0m\u001b[35m\u001b[22m\u001b[0m\u001b[35m\u001b[22m for \u001b[0m\u001b[31m\u001b[1muser:hba\u001b[0m\u001b[35m\u001b[22m\u001b[K\u001b[0m\u001b[35m\u001b[22m\u001b[0m\n",
      "\u001b[35m\u001b[22mValidating your flow...\u001b[K\u001b[0m\u001b[35m\u001b[22m\u001b[0m\n",
      "\u001b[32m\u001b[1m    The graph looks good!\u001b[K\u001b[0m\u001b[32m\u001b[1m\u001b[0m\n",
      "\u001b[35m\u001b[22mRunning pylint...\u001b[K\u001b[0m\u001b[35m\u001b[22m\u001b[0m\n",
      "\u001b[32m\u001b[1m    Pylint is happy!\u001b[K\u001b[0m\u001b[32m\u001b[1m\u001b[0m\n",
      "\u001b[22mBootstrapping conda environment...(this could take a few minutes)\u001b[K\u001b[0m\u001b[22m\u001b[0m\n",
      "\u001b[35m2022-03-16 12:54:01.664 \u001b[0m\u001b[1mWorkflow starting (run-id 7231):\u001b[0m\n",
      "\u001b[35m2022-03-16 12:54:12.959 \u001b[0m\u001b[32m[7231/start/135737 (pid 17939)] \u001b[0m\u001b[1mTask is starting.\u001b[0m\n",
      "\u001b[35m2022-03-16 12:54:15.637 \u001b[0m\u001b[32m[7231/start/135737 (pid 17939)] \u001b[0m\u001b[22m[843ed1e4-6b6c-4ab7-909a-1c277736f837] Task is starting (status SUBMITTED)...\u001b[0m\n",
      "\u001b[35m2022-03-16 12:54:16.705 \u001b[0m\u001b[32m[7231/start/135737 (pid 17939)] \u001b[0m\u001b[22m[843ed1e4-6b6c-4ab7-909a-1c277736f837] Task is starting (status RUNNABLE)...\u001b[0m\n",
      "\u001b[35m2022-03-16 12:54:46.713 \u001b[0m\u001b[32m[7231/start/135737 (pid 17939)] \u001b[0m\u001b[22m[843ed1e4-6b6c-4ab7-909a-1c277736f837] Task is starting (status RUNNABLE)...\u001b[0m\n",
      "\u001b[35m2022-03-16 12:55:17.077 \u001b[0m\u001b[32m[7231/start/135737 (pid 17939)] \u001b[0m\u001b[22m[843ed1e4-6b6c-4ab7-909a-1c277736f837] Task is starting (status RUNNABLE)...\u001b[0m\n",
      "\u001b[35m2022-03-16 12:55:47.232 \u001b[0m\u001b[32m[7231/start/135737 (pid 17939)] \u001b[0m\u001b[22m[843ed1e4-6b6c-4ab7-909a-1c277736f837] Task is starting (status RUNNABLE)...\u001b[0m\n",
      "\u001b[35m2022-03-16 12:55:51.061 \u001b[0m\u001b[32m[7231/start/135737 (pid 17939)] \u001b[0m\u001b[22m[843ed1e4-6b6c-4ab7-909a-1c277736f837] Task is starting (status STARTING)...\u001b[0m\n",
      "\u001b[35m2022-03-16 12:56:13.225 \u001b[0m\u001b[32m[7231/start/135737 (pid 17939)] \u001b[0m\u001b[22m[843ed1e4-6b6c-4ab7-909a-1c277736f837] Task is starting (status RUNNING)...\u001b[0m\n",
      "\u001b[35m2022-03-16 12:56:12.024 \u001b[0m\u001b[32m[7231/start/135737 (pid 17939)] \u001b[0m\u001b[22m[843ed1e4-6b6c-4ab7-909a-1c277736f837] Setting up task environment.\u001b[0m\n",
      "\u001b[35m2022-03-16 12:56:22.093 \u001b[0m\u001b[32m[7231/start/135737 (pid 17939)] \u001b[0m\u001b[22m[843ed1e4-6b6c-4ab7-909a-1c277736f837] Downloading code package...\u001b[0m\n",
      "\u001b[35m2022-03-16 12:56:22.745 \u001b[0m\u001b[32m[7231/start/135737 (pid 17939)] \u001b[0m\u001b[22m[843ed1e4-6b6c-4ab7-909a-1c277736f837] Code package downloaded.\u001b[0m\n",
      "\u001b[35m2022-03-16 12:56:22.760 \u001b[0m\u001b[32m[7231/start/135737 (pid 17939)] \u001b[0m\u001b[22m[843ed1e4-6b6c-4ab7-909a-1c277736f837] Task is starting.\u001b[0m\n",
      "\u001b[35m2022-03-16 12:56:23.224 \u001b[0m\u001b[32m[7231/start/135737 (pid 17939)] \u001b[0m\u001b[22m[843ed1e4-6b6c-4ab7-909a-1c277736f837] Bootstrapping environment...\u001b[0m\n",
      "\u001b[35m2022-03-16 12:57:06.277 \u001b[0m\u001b[32m[7231/start/135737 (pid 17939)] \u001b[0m\u001b[22m[843ed1e4-6b6c-4ab7-909a-1c277736f837] Environment bootstrapped.\u001b[0m\n",
      "\u001b[35m2022-03-16 12:57:20.155 \u001b[0m\u001b[32m[7231/start/135737 (pid 17939)] \u001b[0m\u001b[22m[843ed1e4-6b6c-4ab7-909a-1c277736f837] Task finished with exit code 0.\u001b[0m\n",
      "\u001b[35m2022-03-16 12:57:23.539 \u001b[0m\u001b[32m[7231/start/135737 (pid 17939)] \u001b[0m\u001b[1mTask finished successfully.\u001b[0m\n",
      "\u001b[35m2022-03-16 12:57:28.107 \u001b[0m\u001b[32m[7231/rf_model/135738 (pid 17953)] \u001b[0m\u001b[1mTask is starting.\u001b[0m\n",
      "\u001b[35m2022-03-16 12:57:31.328 \u001b[0m\u001b[32m[7231/xt_model/135739 (pid 17958)] \u001b[0m\u001b[1mTask is starting.\u001b[0m\n",
      "\u001b[35m2022-03-16 12:57:34.548 \u001b[0m\u001b[32m[7231/dt_model/135740 (pid 17965)] \u001b[0m\u001b[1mTask is starting.\u001b[0m\n",
      "\u001b[35m2022-03-16 12:57:34.549 \u001b[0m\u001b[32m[7231/rf_model/135738 (pid 17953)] \u001b[0m\u001b[22m[4b643bc9-00df-48cc-b864-1311d2cacbd3] Task is starting (status SUBMITTED)...\u001b[0m\n",
      "\u001b[35m2022-03-16 12:57:34.549 \u001b[0m\u001b[32m[7231/xt_model/135739 (pid 17958)] \u001b[0m\u001b[22m[217ddebc-09f6-4fc0-b90a-792757e56803] Task is starting (status SUBMITTED)...\u001b[0m\n",
      "\u001b[35m2022-03-16 12:57:35.015 \u001b[0m\u001b[32m[7231/rf_model/135738 (pid 17953)] \u001b[0m\u001b[22m[4b643bc9-00df-48cc-b864-1311d2cacbd3] Task is starting (status RUNNABLE)...\u001b[0m\n",
      "\u001b[35m2022-03-16 12:57:35.015 \u001b[0m\u001b[32m[7231/rf_model/135738 (pid 17953)] \u001b[0m\u001b[22m[4b643bc9-00df-48cc-b864-1311d2cacbd3] Task is starting (status STARTING)...\u001b[0m\n",
      "\u001b[35m2022-03-16 12:57:36.965 \u001b[0m\u001b[32m[7231/xt_model/135739 (pid 17958)] \u001b[0m\u001b[22m[217ddebc-09f6-4fc0-b90a-792757e56803] Task is starting (status RUNNABLE)...\u001b[0m\n",
      "\u001b[35m2022-03-16 12:57:37.061 \u001b[0m\u001b[32m[7231/dt_model/135740 (pid 17965)] \u001b[0m\u001b[22m[557e12c4-7868-41f8-9dec-70e8e2b99220] Task is starting (status RUNNABLE)...\u001b[0m\n",
      "\u001b[35m2022-03-16 12:57:37.977 \u001b[0m\u001b[32m[7231/rf_model/135738 (pid 17953)] \u001b[0m\u001b[22m[4b643bc9-00df-48cc-b864-1311d2cacbd3] Task is starting (status RUNNING)...\u001b[0m\n",
      "\u001b[35m2022-03-16 12:58:07.085 \u001b[0m\u001b[32m[7231/dt_model/135740 (pid 17965)] \u001b[0m\u001b[22m[557e12c4-7868-41f8-9dec-70e8e2b99220] Task is starting (status RUNNABLE)...\u001b[0m\n",
      "\u001b[35m2022-03-16 12:58:07.107 \u001b[0m\u001b[32m[7231/xt_model/135739 (pid 17958)] \u001b[0m\u001b[22m[217ddebc-09f6-4fc0-b90a-792757e56803] Task is starting (status RUNNABLE)...\u001b[0m\n",
      "\u001b[35m2022-03-16 12:57:36.377 \u001b[0m\u001b[32m[7231/rf_model/135738 (pid 17953)] \u001b[0m\u001b[22m[4b643bc9-00df-48cc-b864-1311d2cacbd3] Setting up task environment.\u001b[0m\n",
      "\u001b[35m2022-03-16 12:57:45.239 \u001b[0m\u001b[32m[7231/rf_model/135738 (pid 17953)] \u001b[0m\u001b[22m[4b643bc9-00df-48cc-b864-1311d2cacbd3] Downloading code package...\u001b[0m\n",
      "\u001b[35m2022-03-16 12:57:46.104 \u001b[0m\u001b[32m[7231/rf_model/135738 (pid 17953)] \u001b[0m\u001b[22m[4b643bc9-00df-48cc-b864-1311d2cacbd3] Code package downloaded.\u001b[0m\n",
      "\u001b[35m2022-03-16 12:58:37.310 \u001b[0m\u001b[32m[7231/xt_model/135739 (pid 17958)] \u001b[0m\u001b[22m[217ddebc-09f6-4fc0-b90a-792757e56803] Task is starting (status RUNNABLE)...\u001b[0m\n",
      "\u001b[35m2022-03-16 12:58:37.321 \u001b[0m\u001b[32m[7231/dt_model/135740 (pid 17965)] \u001b[0m\u001b[22m[557e12c4-7868-41f8-9dec-70e8e2b99220] Task is starting (status RUNNABLE)...\u001b[0m\n",
      "\u001b[35m2022-03-16 12:57:46.119 \u001b[0m\u001b[32m[7231/rf_model/135738 (pid 17953)] \u001b[0m\u001b[22m[4b643bc9-00df-48cc-b864-1311d2cacbd3] Task is starting.\u001b[0m\n",
      "\u001b[35m2022-03-16 12:57:46.577 \u001b[0m\u001b[32m[7231/rf_model/135738 (pid 17953)] \u001b[0m\u001b[22m[4b643bc9-00df-48cc-b864-1311d2cacbd3] Bootstrapping environment...\u001b[0m\n",
      "\u001b[35m2022-03-16 12:58:26.869 \u001b[0m\u001b[32m[7231/rf_model/135738 (pid 17953)] \u001b[0m\u001b[22m[4b643bc9-00df-48cc-b864-1311d2cacbd3] Environment bootstrapped.\u001b[0m\n",
      "\u001b[35m2022-03-16 12:58:39.715 \u001b[0m\u001b[32m[7231/rf_model/135738 (pid 17953)] \u001b[0m\u001b[22m[4b643bc9-00df-48cc-b864-1311d2cacbd3] Task finished with exit code 0.\u001b[0m\n",
      "\u001b[35m2022-03-16 12:58:43.210 \u001b[0m\u001b[32m[7231/rf_model/135738 (pid 17953)] \u001b[0m\u001b[1mTask finished successfully.\u001b[0m\n",
      "\u001b[35m2022-03-16 12:58:44.615 \u001b[0m\u001b[32m[7231/xt_model/135739 (pid 17958)] \u001b[0m\u001b[22m[217ddebc-09f6-4fc0-b90a-792757e56803] Task is starting (status STARTING)...\u001b[0m\n",
      "\u001b[35m2022-03-16 12:59:07.513 \u001b[0m\u001b[32m[7231/dt_model/135740 (pid 17965)] \u001b[0m\u001b[22m[557e12c4-7868-41f8-9dec-70e8e2b99220] Task is starting (status RUNNABLE)...\u001b[0m\n",
      "\u001b[35m2022-03-16 12:59:37.258 \u001b[0m\u001b[32m[7231/xt_model/135739 (pid 17958)] \u001b[0m\u001b[22m[217ddebc-09f6-4fc0-b90a-792757e56803] Task is starting (status RUNNING)...\u001b[0m\n",
      "\u001b[35m2022-03-16 12:58:42.977 \u001b[0m\u001b[32m[7231/xt_model/135739 (pid 17958)] \u001b[0m\u001b[22m[217ddebc-09f6-4fc0-b90a-792757e56803] Setting up task environment.\u001b[0m\n",
      "\u001b[35m2022-03-16 12:59:37.514 \u001b[0m\u001b[32m[7231/dt_model/135740 (pid 17965)] \u001b[0m\u001b[22m[557e12c4-7868-41f8-9dec-70e8e2b99220] Task is starting (status RUNNABLE)...\u001b[0m\n",
      "\u001b[35m2022-03-16 12:58:51.916 \u001b[0m\u001b[32m[7231/xt_model/135739 (pid 17958)] \u001b[0m\u001b[22m[217ddebc-09f6-4fc0-b90a-792757e56803] Downloading code package...\u001b[0m\n",
      "\u001b[35m2022-03-16 12:58:52.535 \u001b[0m\u001b[32m[7231/xt_model/135739 (pid 17958)] \u001b[0m\u001b[22m[217ddebc-09f6-4fc0-b90a-792757e56803] Code package downloaded.\u001b[0m\n",
      "\u001b[35m2022-03-16 12:58:52.550 \u001b[0m\u001b[32m[7231/xt_model/135739 (pid 17958)] \u001b[0m\u001b[22m[217ddebc-09f6-4fc0-b90a-792757e56803] Task is starting.\u001b[0m\n",
      "\u001b[35m2022-03-16 12:58:53.011 \u001b[0m\u001b[32m[7231/xt_model/135739 (pid 17958)] \u001b[0m\u001b[22m[217ddebc-09f6-4fc0-b90a-792757e56803] Bootstrapping environment...\u001b[0m\n",
      "\u001b[35m2022-03-16 12:59:34.653 \u001b[0m\u001b[32m[7231/xt_model/135739 (pid 17958)] \u001b[0m\u001b[22m[217ddebc-09f6-4fc0-b90a-792757e56803] Environment bootstrapped.\u001b[0m\n",
      "\u001b[35m2022-03-16 12:59:45.888 \u001b[0m\u001b[32m[7231/xt_model/135739 (pid 17958)] \u001b[0m\u001b[22m[217ddebc-09f6-4fc0-b90a-792757e56803] Task finished with exit code 0.\u001b[0m\n",
      "\u001b[35m2022-03-16 12:59:49.101 \u001b[0m\u001b[32m[7231/xt_model/135739 (pid 17958)] \u001b[0m\u001b[1mTask finished successfully.\u001b[0m\n",
      "\u001b[35m2022-03-16 13:00:07.671 \u001b[0m\u001b[32m[7231/dt_model/135740 (pid 17965)] \u001b[0m\u001b[22m[557e12c4-7868-41f8-9dec-70e8e2b99220] Task is starting (status RUNNABLE)...\u001b[0m\n",
      "\u001b[35m2022-03-16 13:00:12.553 \u001b[0m\u001b[32m[7231/dt_model/135740 (pid 17965)] \u001b[0m\u001b[22m[557e12c4-7868-41f8-9dec-70e8e2b99220] Task is starting (status STARTING)...\u001b[0m\n",
      "\u001b[35m2022-03-16 13:00:15.725 \u001b[0m\u001b[32m[7231/dt_model/135740 (pid 17965)] \u001b[0m\u001b[22m[557e12c4-7868-41f8-9dec-70e8e2b99220] Task is starting (status RUNNING)...\u001b[0m\n",
      "\u001b[35m2022-03-16 13:00:14.252 \u001b[0m\u001b[32m[7231/dt_model/135740 (pid 17965)] \u001b[0m\u001b[22m[557e12c4-7868-41f8-9dec-70e8e2b99220] Setting up task environment.\u001b[0m\n",
      "\u001b[35m2022-03-16 13:00:23.386 \u001b[0m\u001b[32m[7231/dt_model/135740 (pid 17965)] \u001b[0m\u001b[22m[557e12c4-7868-41f8-9dec-70e8e2b99220] Downloading code package...\u001b[0m\n",
      "\u001b[35m2022-03-16 13:00:24.052 \u001b[0m\u001b[32m[7231/dt_model/135740 (pid 17965)] \u001b[0m\u001b[22m[557e12c4-7868-41f8-9dec-70e8e2b99220] Code package downloaded.\u001b[0m\n",
      "\u001b[35m2022-03-16 13:00:24.068 \u001b[0m\u001b[32m[7231/dt_model/135740 (pid 17965)] \u001b[0m\u001b[22m[557e12c4-7868-41f8-9dec-70e8e2b99220] Task is starting.\u001b[0m\n",
      "\u001b[35m2022-03-16 13:00:24.544 \u001b[0m\u001b[32m[7231/dt_model/135740 (pid 17965)] \u001b[0m\u001b[22m[557e12c4-7868-41f8-9dec-70e8e2b99220] Bootstrapping environment...\u001b[0m\n",
      "\u001b[35m2022-03-16 13:01:12.014 \u001b[0m\u001b[32m[7231/dt_model/135740 (pid 17965)] \u001b[0m\u001b[22m[557e12c4-7868-41f8-9dec-70e8e2b99220] Environment bootstrapped.\u001b[0m\n",
      "\u001b[35m2022-03-16 13:01:26.183 \u001b[0m\u001b[32m[7231/dt_model/135740 (pid 17965)] \u001b[0m\u001b[22m[557e12c4-7868-41f8-9dec-70e8e2b99220] Task finished with exit code 0.\u001b[0m\n",
      "\u001b[35m2022-03-16 13:01:29.259 \u001b[0m\u001b[32m[7231/dt_model/135740 (pid 17965)] \u001b[0m\u001b[1mTask finished successfully.\u001b[0m\n",
      "\u001b[35m2022-03-16 13:01:33.983 \u001b[0m\u001b[32m[7231/choose_model/135741 (pid 17985)] \u001b[0m\u001b[1mTask is starting.\u001b[0m\n",
      "\u001b[35m2022-03-16 13:01:36.528 \u001b[0m\u001b[32m[7231/choose_model/135741 (pid 17985)] \u001b[0m\u001b[22m[ac8e2eb5-d890-4d1d-8e47-13c3aa6b9e78] Task is starting (status SUBMITTED)...\u001b[0m\n",
      "\u001b[35m2022-03-16 13:01:39.705 \u001b[0m\u001b[32m[7231/choose_model/135741 (pid 17985)] \u001b[0m\u001b[22m[ac8e2eb5-d890-4d1d-8e47-13c3aa6b9e78] Task is starting (status RUNNABLE)...\u001b[0m\n",
      "\u001b[35m2022-03-16 13:01:40.784 \u001b[0m\u001b[32m[7231/choose_model/135741 (pid 17985)] \u001b[0m\u001b[22m[ac8e2eb5-d890-4d1d-8e47-13c3aa6b9e78] Task is starting (status STARTING)...\u001b[0m\n",
      "\u001b[35m2022-03-16 13:02:04.023 \u001b[0m\u001b[32m[7231/choose_model/135741 (pid 17985)] \u001b[0m\u001b[22m[ac8e2eb5-d890-4d1d-8e47-13c3aa6b9e78] Task is starting (status RUNNING)...\u001b[0m\n",
      "\u001b[35m2022-03-16 13:02:02.921 \u001b[0m\u001b[32m[7231/choose_model/135741 (pid 17985)] \u001b[0m\u001b[22m[ac8e2eb5-d890-4d1d-8e47-13c3aa6b9e78] Setting up task environment.\u001b[0m\n",
      "\u001b[35m2022-03-16 13:02:11.827 \u001b[0m\u001b[32m[7231/choose_model/135741 (pid 17985)] \u001b[0m\u001b[22m[ac8e2eb5-d890-4d1d-8e47-13c3aa6b9e78] Downloading code package...\u001b[0m\n",
      "\u001b[35m2022-03-16 13:02:12.461 \u001b[0m\u001b[32m[7231/choose_model/135741 (pid 17985)] \u001b[0m\u001b[22m[ac8e2eb5-d890-4d1d-8e47-13c3aa6b9e78] Code package downloaded.\u001b[0m\n",
      "\u001b[35m2022-03-16 13:02:12.477 \u001b[0m\u001b[32m[7231/choose_model/135741 (pid 17985)] \u001b[0m\u001b[22m[ac8e2eb5-d890-4d1d-8e47-13c3aa6b9e78] Task is starting.\u001b[0m\n",
      "\u001b[35m2022-03-16 13:02:12.932 \u001b[0m\u001b[32m[7231/choose_model/135741 (pid 17985)] \u001b[0m\u001b[22m[ac8e2eb5-d890-4d1d-8e47-13c3aa6b9e78] Bootstrapping environment...\u001b[0m\n",
      "\u001b[35m2022-03-16 13:02:54.750 \u001b[0m\u001b[32m[7231/choose_model/135741 (pid 17985)] \u001b[0m\u001b[22m[ac8e2eb5-d890-4d1d-8e47-13c3aa6b9e78] Environment bootstrapped.\u001b[0m\n",
      "\u001b[35m2022-03-16 13:03:08.332 \u001b[0m\u001b[32m[7231/choose_model/135741 (pid 17985)] \u001b[0m\u001b[22m[ac8e2eb5-d890-4d1d-8e47-13c3aa6b9e78] Task finished with exit code 0.\u001b[0m\n",
      "\u001b[35m2022-03-16 13:03:11.549 \u001b[0m\u001b[32m[7231/choose_model/135741 (pid 17985)] \u001b[0m\u001b[1mTask finished successfully.\u001b[0m\n",
      "\u001b[35m2022-03-16 13:03:15.988 \u001b[0m\u001b[32m[7231/end/135742 (pid 18007)] \u001b[0m\u001b[1mTask is starting.\u001b[0m\n",
      "\u001b[35m2022-03-16 13:03:18.516 \u001b[0m\u001b[32m[7231/end/135742 (pid 18007)] \u001b[0m\u001b[22m[1655bcb2-3d1a-46f0-aa27-5f69712486a7] Task is starting (status SUBMITTED)...\u001b[0m\n",
      "\u001b[35m2022-03-16 13:03:19.569 \u001b[0m\u001b[32m[7231/end/135742 (pid 18007)] \u001b[0m\u001b[22m[1655bcb2-3d1a-46f0-aa27-5f69712486a7] Task is starting (status RUNNABLE)...\u001b[0m\n",
      "\u001b[35m2022-03-16 13:03:49.707 \u001b[0m\u001b[32m[7231/end/135742 (pid 18007)] \u001b[0m\u001b[22m[1655bcb2-3d1a-46f0-aa27-5f69712486a7] Task is starting (status RUNNABLE)...\u001b[0m\n",
      "\u001b[35m2022-03-16 13:04:19.955 \u001b[0m\u001b[32m[7231/end/135742 (pid 18007)] \u001b[0m\u001b[22m[1655bcb2-3d1a-46f0-aa27-5f69712486a7] Task is starting (status RUNNABLE)...\u001b[0m\n",
      "\u001b[35m2022-03-16 13:04:50.018 \u001b[0m\u001b[32m[7231/end/135742 (pid 18007)] \u001b[0m\u001b[22m[1655bcb2-3d1a-46f0-aa27-5f69712486a7] Task is starting (status RUNNABLE)...\u001b[0m\n",
      "\u001b[35m2022-03-16 13:05:20.121 \u001b[0m\u001b[32m[7231/end/135742 (pid 18007)] \u001b[0m\u001b[22m[1655bcb2-3d1a-46f0-aa27-5f69712486a7] Task is starting (status RUNNABLE)...\u001b[0m\n",
      "\u001b[35m2022-03-16 13:05:50.446 \u001b[0m\u001b[32m[7231/end/135742 (pid 18007)] \u001b[0m\u001b[22m[1655bcb2-3d1a-46f0-aa27-5f69712486a7] Task is starting (status RUNNABLE)...\u001b[0m\n",
      "\u001b[35m2022-03-16 13:06:20.562 \u001b[0m\u001b[32m[7231/end/135742 (pid 18007)] \u001b[0m\u001b[22m[1655bcb2-3d1a-46f0-aa27-5f69712486a7] Task is starting (status RUNNABLE)...\u001b[0m\n",
      "\u001b[35m2022-03-16 13:06:22.287 \u001b[0m\u001b[32m[7231/end/135742 (pid 18007)] \u001b[0m\u001b[22m[1655bcb2-3d1a-46f0-aa27-5f69712486a7] Task is starting (status STARTING)...\u001b[0m\n",
      "\u001b[35m2022-03-16 13:06:43.417 \u001b[0m\u001b[32m[7231/end/135742 (pid 18007)] \u001b[0m\u001b[22m[1655bcb2-3d1a-46f0-aa27-5f69712486a7] Task is starting (status RUNNING)...\u001b[0m\n",
      "\u001b[35m2022-03-16 13:06:42.474 \u001b[0m\u001b[32m[7231/end/135742 (pid 18007)] \u001b[0m\u001b[22m[1655bcb2-3d1a-46f0-aa27-5f69712486a7] Setting up task environment.\u001b[0m\n",
      "\u001b[35m2022-03-16 13:06:51.438 \u001b[0m\u001b[32m[7231/end/135742 (pid 18007)] \u001b[0m\u001b[22m[1655bcb2-3d1a-46f0-aa27-5f69712486a7] Downloading code package...\u001b[0m\n",
      "\u001b[35m2022-03-16 13:06:52.086 \u001b[0m\u001b[32m[7231/end/135742 (pid 18007)] \u001b[0m\u001b[22m[1655bcb2-3d1a-46f0-aa27-5f69712486a7] Code package downloaded.\u001b[0m\n",
      "\u001b[35m2022-03-16 13:06:52.103 \u001b[0m\u001b[32m[7231/end/135742 (pid 18007)] \u001b[0m\u001b[22m[1655bcb2-3d1a-46f0-aa27-5f69712486a7] Task is starting.\u001b[0m\n",
      "\u001b[35m2022-03-16 13:06:52.562 \u001b[0m\u001b[32m[7231/end/135742 (pid 18007)] \u001b[0m\u001b[22m[1655bcb2-3d1a-46f0-aa27-5f69712486a7] Bootstrapping environment...\u001b[0m\n",
      "\u001b[35m2022-03-16 13:07:32.899 \u001b[0m\u001b[32m[7231/end/135742 (pid 18007)] \u001b[0m\u001b[22m[1655bcb2-3d1a-46f0-aa27-5f69712486a7] Environment bootstrapped.\u001b[0m\n",
      "\u001b[35m2022-03-16 13:07:34.198 \u001b[0m\u001b[32m[7231/end/135742 (pid 18007)] \u001b[0m\u001b[22m[1655bcb2-3d1a-46f0-aa27-5f69712486a7] Scores:\u001b[0m\n",
      "\u001b[35m2022-03-16 13:07:34.822 \u001b[0m\u001b[32m[7231/end/135742 (pid 18007)] \u001b[0m\u001b[22m[1655bcb2-3d1a-46f0-aa27-5f69712486a7] DecisionTreeClassifier(random_state=0) 0.960000\u001b[0m\n",
      "\u001b[35m2022-03-16 13:07:34.823 \u001b[0m\u001b[32m[7231/end/135742 (pid 18007)] \u001b[0m\u001b[22m[1655bcb2-3d1a-46f0-aa27-5f69712486a7] RandomForestClassifier(n_estimators=10, random_state=0) 0.953333\u001b[0m\n",
      "\u001b[35m2022-03-16 13:07:34.823 \u001b[0m\u001b[32m[7231/end/135742 (pid 18007)] \u001b[0m\u001b[22m[1655bcb2-3d1a-46f0-aa27-5f69712486a7] ExtraTreesClassifier(n_estimators=10, random_state=0) 0.953333\u001b[0m\n",
      "\u001b[35m2022-03-16 13:07:45.620 \u001b[0m\u001b[32m[7231/end/135742 (pid 18007)] \u001b[0m\u001b[22m[1655bcb2-3d1a-46f0-aa27-5f69712486a7] Task finished with exit code 0.\u001b[0m\n",
      "\u001b[35m2022-03-16 13:07:48.676 \u001b[0m\u001b[32m[7231/end/135742 (pid 18007)] \u001b[0m\u001b[1mTask finished successfully.\u001b[0m\n",
      "\u001b[35m2022-03-16 13:07:49.850 \u001b[0m\u001b[1mDone!\u001b[0m\n",
      "\u001b[0m"
     ]
    }
   ],
   "source": [
    "! python flows/cloud/tree_branch_flow_cloud.py --environment=conda run --with batch"
   ]
  }
 ],
 "metadata": {
  "kernelspec": {
   "display_name": "Python [conda env:full-stack-metaflow]",
   "language": "python",
   "name": "conda-env-full-stack-metaflow-py"
  },
  "language_info": {
   "codemirror_mode": {
    "name": "ipython",
    "version": 3
   },
   "file_extension": ".py",
   "mimetype": "text/x-python",
   "name": "python",
   "nbconvert_exporter": "python",
   "pygments_lexer": "ipython3",
   "version": "3.8.10"
  }
 },
 "nbformat": 4,
 "nbformat_minor": 5
}
