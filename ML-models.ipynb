{
 "cells": [
  {
   "cell_type": "markdown",
   "id": "767f5035-57e9-4125-959f-0697b11803a3",
   "metadata": {},
   "source": [
    "# Creating flows from your laptop machine learning code"
   ]
  },
  {
   "cell_type": "markdown",
   "id": "18b212fe-0a93-4b21-a651-2e12f717e899",
   "metadata": {},
   "source": [
    "To introduce data scientists to Metaflow, it will be key to show them how they can take their pre-existing ML code and turn it into flows. Arguably, the 3 most practical types of models are\n",
    "\n",
    "* Random forests\n",
    "* Boosted trees, and\n",
    "* Neural nets.\n",
    "\n",
    "To this end, in what follows, we show how you would take code for each of these types of models and turn it into a Metaflow."
   ]
  },
  {
   "cell_type": "markdown",
   "id": "0806bcaa-a0b7-455e-b84a-d0518f16fa9c",
   "metadata": {},
   "source": [
    "## Setup instructions\n",
    "\n",
    "We'll be using `conda` to install the necessary packages but you can also use `pip` or `virtualenv`. To use `conda`, install the Anaconda distribution from [here](https://www.anaconda.com/products/individual).\n",
    "Using the command line, execute\n",
    "\n",
    "```bash\n",
    "conda env create env mf-tutorial\n",
    "```\n",
    "to create your environment. You can then activate it by executing\n",
    "\n",
    "```bash\n",
    "conda activate mf-tutorial\n",
    "```"
   ]
  },
  {
   "cell_type": "markdown",
   "id": "d17ccec6-9378-45ce-ac82-ed294592c1ef",
   "metadata": {},
   "source": [
    "## Random forests"
   ]
  },
  {
   "cell_type": "markdown",
   "id": "7da9925b-c119-47d2-8689-1d4bb91a3e50",
   "metadata": {},
   "source": [
    "This is typical random forest code:"
   ]
  },
  {
   "cell_type": "code",
   "execution_count": 1,
   "id": "9decbcc8-ef14-4081-863e-766ea206052f",
   "metadata": {},
   "outputs": [
    {
     "data": {
      "text/plain": [
       "((150, 4), (150,))"
      ]
     },
     "execution_count": 1,
     "metadata": {},
     "output_type": "execute_result"
    }
   ],
   "source": [
    "#Import scikit-learn dataset library\n",
    "from sklearn import datasets\n",
    "\n",
    "#Load dataset\n",
    "iris = datasets.load_iris()\n",
    "X = iris.data\n",
    "y = iris.target\n",
    "X.shape, y.shape"
   ]
  },
  {
   "cell_type": "code",
   "execution_count": 2,
   "id": "2350ee1d-4cfe-4a62-a0c1-5ccb2c37d606",
   "metadata": {},
   "outputs": [
    {
     "name": "stdout",
     "output_type": "stream",
     "text": [
      "[0.96666667 0.96666667 0.9        0.96666667 1.        ]\n",
      "[0.96666667 0.96666667 0.9        0.93333333 1.        ]\n",
      "[0.96666667 0.96666667 0.93333333 0.9        1.        ]\n"
     ]
    }
   ],
   "source": [
    "\n",
    "\n",
    "# https://scikit-learn.org/stable/modules/ensemble.html#forest\n",
    "from sklearn.model_selection import cross_val_score\n",
    "from sklearn.datasets import make_blobs\n",
    "from sklearn.ensemble import RandomForestClassifier\n",
    "from sklearn.ensemble import ExtraTreesClassifier\n",
    "from sklearn.tree import DecisionTreeClassifier\n",
    "\n",
    "clf = DecisionTreeClassifier(max_depth=None, min_samples_split=2,\n",
    "    random_state=0)\n",
    "scores = cross_val_score(clf, X, y, cv=5)\n",
    "print(scores)\n",
    "\n",
    "\n",
    "clf = RandomForestClassifier(n_estimators=10, max_depth=None,\n",
    "    min_samples_split=2, random_state=0)\n",
    "scores = cross_val_score(clf, X, y, cv=5)\n",
    "print(scores)\n",
    "\n",
    "\n",
    "clf = ExtraTreesClassifier(n_estimators=10, max_depth=None,\n",
    "    min_samples_split=2, random_state=0)\n",
    "scores = cross_val_score(clf, X, y, cv=5)\n",
    "print(scores)\n"
   ]
  },
  {
   "cell_type": "markdown",
   "id": "a4636c5c-511f-4de1-9218-45d8578019d3",
   "metadata": {},
   "source": [
    "## Boosted trees\n",
    "\n"
   ]
  },
  {
   "cell_type": "markdown",
   "id": "49546aba-ded5-421f-a8b7-21827a995371",
   "metadata": {},
   "source": [
    "This is typical boosted tree code:"
   ]
  },
  {
   "cell_type": "code",
   "execution_count": 3,
   "id": "a04f5ea0-db93-4589-97ee-86f23da1a5d4",
   "metadata": {},
   "outputs": [
    {
     "name": "stdout",
     "output_type": "stream",
     "text": [
      "[11:06:36] WARNING: /Users/runner/miniforge3/conda-bld/xgboost-split_1645117948562/work/src/learner.cc:1115: Starting in XGBoost 1.3.0, the default evaluation metric used with the objective 'binary:logistic' was changed from 'error' to 'logloss'. Explicitly set eval_metric if you'd like to restore the old behavior.\n",
      "[0.28583017 0.9239239  0.28583017 ... 0.9239239  0.05169873 0.9239239 ]\n"
     ]
    }
   ],
   "source": [
    "import xgboost as xgb\n",
    "# read in data\n",
    "dtrain = xgb.DMatrix('data/agaricus.txt.train')\n",
    "dtest = xgb.DMatrix('data/agaricus.txt.test')\n",
    "# specify parameters via map|\n",
    "param = {'max_depth':2, 'eta':1, 'objective':'binary:logistic' }\n",
    "num_round = 2\n",
    "bst = xgb.train(param, dtrain, num_round)\n",
    "# make prediction\n",
    "preds = bst.predict(dtest)\n",
    "print(preds)"
   ]
  },
  {
   "cell_type": "markdown",
   "id": "2e82c397-d206-440f-a85e-ebc8a53fbe87",
   "metadata": {},
   "source": [
    "## Neural nets"
   ]
  },
  {
   "cell_type": "markdown",
   "id": "97ed7261-7263-44a0-af9a-cbb54533869e",
   "metadata": {},
   "source": [
    "This is (somewhat) typical deep learning code:"
   ]
  },
  {
   "cell_type": "code",
   "execution_count": 4,
   "id": "2718e0ab-b848-4a0d-af38-2d1e9fc0672f",
   "metadata": {},
   "outputs": [],
   "source": [
    "# https://keras.io/examples/vision/mnist_convnet/\n",
    "import numpy as np\n",
    "from tensorflow import keras\n",
    "from tensorflow.keras import layers"
   ]
  },
  {
   "cell_type": "code",
   "execution_count": 5,
   "id": "aace2c3e-7dbb-492a-9fc6-bfb71bdd05f4",
   "metadata": {},
   "outputs": [
    {
     "name": "stdout",
     "output_type": "stream",
     "text": [
      "x_train shape: (60000, 28, 28, 1)\n",
      "60000 train samples\n",
      "10000 test samples\n"
     ]
    }
   ],
   "source": [
    "# Model / data parameters\n",
    "num_classes = 10\n",
    "input_shape = (28, 28, 1)\n",
    "\n",
    "# the data, split between train and test sets\n",
    "(x_train, y_train), (x_test, y_test) = keras.datasets.mnist.load_data()\n",
    "\n",
    "# Scale images to the [0, 1] range\n",
    "x_train = x_train.astype(\"float32\") / 255\n",
    "x_test = x_test.astype(\"float32\") / 255\n",
    "# Make sure images have shape (28, 28, 1)\n",
    "x_train = np.expand_dims(x_train, -1)\n",
    "x_test = np.expand_dims(x_test, -1)\n",
    "print(\"x_train shape:\", x_train.shape)\n",
    "print(x_train.shape[0], \"train samples\")\n",
    "print(x_test.shape[0], \"test samples\")\n",
    "\n",
    "\n",
    "# convert class vectors to binary class matrices\n",
    "y_train = keras.utils.to_categorical(y_train, num_classes)\n",
    "y_test = keras.utils.to_categorical(y_test, num_classes)\n"
   ]
  },
  {
   "cell_type": "code",
   "execution_count": 6,
   "id": "906402cf-8a86-4506-80a8-a10f0edb0d9c",
   "metadata": {},
   "outputs": [
    {
     "name": "stdout",
     "output_type": "stream",
     "text": [
      "Model: \"sequential\"\n",
      "_________________________________________________________________\n",
      "Layer (type)                 Output Shape              Param #   \n",
      "=================================================================\n",
      "conv2d (Conv2D)              (None, 26, 26, 32)        320       \n",
      "_________________________________________________________________\n",
      "max_pooling2d (MaxPooling2D) (None, 13, 13, 32)        0         \n",
      "_________________________________________________________________\n",
      "conv2d_1 (Conv2D)            (None, 11, 11, 64)        18496     \n",
      "_________________________________________________________________\n",
      "max_pooling2d_1 (MaxPooling2 (None, 5, 5, 64)          0         \n",
      "_________________________________________________________________\n",
      "flatten (Flatten)            (None, 1600)              0         \n",
      "_________________________________________________________________\n",
      "dropout (Dropout)            (None, 1600)              0         \n",
      "_________________________________________________________________\n",
      "dense (Dense)                (None, 10)                16010     \n",
      "=================================================================\n",
      "Total params: 34,826\n",
      "Trainable params: 34,826\n",
      "Non-trainable params: 0\n",
      "_________________________________________________________________\n"
     ]
    },
    {
     "name": "stderr",
     "output_type": "stream",
     "text": [
      "2022-03-16 11:06:44.515311: I tensorflow/core/platform/cpu_feature_guard.cc:142] This TensorFlow binary is optimized with oneAPI Deep Neural Network Library (oneDNN) to use the following CPU instructions in performance-critical operations:  SSE4.1 SSE4.2\n",
      "To enable them in other operations, rebuild TensorFlow with the appropriate compiler flags.\n"
     ]
    }
   ],
   "source": [
    "model = keras.Sequential(\n",
    "    [\n",
    "        keras.Input(shape=input_shape),\n",
    "        layers.Conv2D(32, kernel_size=(3, 3), activation=\"relu\"),\n",
    "        layers.MaxPooling2D(pool_size=(2, 2)),\n",
    "        layers.Conv2D(64, kernel_size=(3, 3), activation=\"relu\"),\n",
    "        layers.MaxPooling2D(pool_size=(2, 2)),\n",
    "        layers.Flatten(),\n",
    "        layers.Dropout(0.5),\n",
    "        layers.Dense(num_classes, activation=\"softmax\"),\n",
    "    ]\n",
    ")\n",
    "\n",
    "model.summary()\n"
   ]
  },
  {
   "cell_type": "code",
   "execution_count": 7,
   "id": "d2b376cd-62a5-420e-947a-babfa55d1261",
   "metadata": {},
   "outputs": [
    {
     "name": "stderr",
     "output_type": "stream",
     "text": [
      "2022-03-16 11:06:49.013027: I tensorflow/compiler/mlir/mlir_graph_optimization_pass.cc:116] None of the MLIR optimization passes are enabled (registered 2)\n"
     ]
    },
    {
     "name": "stdout",
     "output_type": "stream",
     "text": [
      "Epoch 1/15\n",
      "422/422 [==============================] - 11s 26ms/step - loss: 0.7804 - accuracy: 0.7562 - val_loss: 0.0828 - val_accuracy: 0.9778\n",
      "Epoch 2/15\n",
      "422/422 [==============================] - 11s 25ms/step - loss: 0.1229 - accuracy: 0.9611 - val_loss: 0.0588 - val_accuracy: 0.9835\n",
      "Epoch 3/15\n",
      "422/422 [==============================] - 11s 26ms/step - loss: 0.0888 - accuracy: 0.9744 - val_loss: 0.0517 - val_accuracy: 0.9860\n",
      "Epoch 4/15\n",
      "422/422 [==============================] - 11s 25ms/step - loss: 0.0758 - accuracy: 0.9761 - val_loss: 0.0431 - val_accuracy: 0.9887\n",
      "Epoch 5/15\n",
      "422/422 [==============================] - 10s 25ms/step - loss: 0.0629 - accuracy: 0.9808 - val_loss: 0.0400 - val_accuracy: 0.9893\n",
      "Epoch 6/15\n",
      "422/422 [==============================] - 11s 25ms/step - loss: 0.0577 - accuracy: 0.9822 - val_loss: 0.0377 - val_accuracy: 0.9903\n",
      "Epoch 7/15\n",
      "422/422 [==============================] - 11s 25ms/step - loss: 0.0515 - accuracy: 0.9840 - val_loss: 0.0352 - val_accuracy: 0.9897\n",
      "Epoch 8/15\n",
      "422/422 [==============================] - 11s 25ms/step - loss: 0.0471 - accuracy: 0.9852 - val_loss: 0.0348 - val_accuracy: 0.9907\n",
      "Epoch 9/15\n",
      "422/422 [==============================] - 11s 25ms/step - loss: 0.0474 - accuracy: 0.9848 - val_loss: 0.0331 - val_accuracy: 0.9900\n",
      "Epoch 10/15\n",
      "422/422 [==============================] - 10s 25ms/step - loss: 0.0413 - accuracy: 0.9864 - val_loss: 0.0319 - val_accuracy: 0.9918\n",
      "Epoch 11/15\n",
      "422/422 [==============================] - 11s 26ms/step - loss: 0.0410 - accuracy: 0.9864 - val_loss: 0.0317 - val_accuracy: 0.9903\n",
      "Epoch 12/15\n",
      "422/422 [==============================] - 11s 25ms/step - loss: 0.0363 - accuracy: 0.9883 - val_loss: 0.0297 - val_accuracy: 0.9925\n",
      "Epoch 13/15\n",
      "422/422 [==============================] - 11s 25ms/step - loss: 0.0356 - accuracy: 0.9880 - val_loss: 0.0289 - val_accuracy: 0.9923\n",
      "Epoch 14/15\n",
      "422/422 [==============================] - 10s 25ms/step - loss: 0.0346 - accuracy: 0.9889 - val_loss: 0.0281 - val_accuracy: 0.9922\n",
      "Epoch 15/15\n",
      "422/422 [==============================] - 10s 25ms/step - loss: 0.0327 - accuracy: 0.9892 - val_loss: 0.0257 - val_accuracy: 0.9925\n"
     ]
    },
    {
     "data": {
      "text/plain": [
       "<tensorflow.python.keras.callbacks.History at 0x7fb1804fd7c0>"
      ]
     },
     "execution_count": 7,
     "metadata": {},
     "output_type": "execute_result"
    }
   ],
   "source": [
    "batch_size = 128\n",
    "epochs = 15\n",
    "\n",
    "model.compile(loss=\"categorical_crossentropy\", optimizer=\"adam\", metrics=[\"accuracy\"])\n",
    "\n",
    "model.fit(x_train, y_train, batch_size=batch_size, epochs=epochs, validation_split=0.1)"
   ]
  },
  {
   "cell_type": "code",
   "execution_count": null,
   "id": "2fba1ae3-8e0d-498a-9b6a-1e232b00fd8a",
   "metadata": {},
   "outputs": [],
   "source": [
    "score = model.evaluate(x_test, y_test, verbose=0)\n",
    "print(\"Test loss:\", score[0])\n",
    "print(\"Test accuracy:\", score[1])\n"
   ]
  },
  {
   "cell_type": "markdown",
   "id": "923b9a08-9b88-424d-9512-4fef84a51b4f",
   "metadata": {},
   "source": [
    "## Writing Local Machine Learning Flows\n"
   ]
  },
  {
   "cell_type": "markdown",
   "id": "4b756922-edf6-44d9-8994-e4414ceb290a",
   "metadata": {},
   "source": [
    "### Random Forests"
   ]
  },
  {
   "cell_type": "code",
   "execution_count": 8,
   "id": "e5a864d3-32ad-4841-a684-66a53c3c4a95",
   "metadata": {},
   "outputs": [
    {
     "name": "stdout",
     "output_type": "stream",
     "text": [
      "Writing flows/local/rf_flow.py\n"
     ]
    }
   ],
   "source": [
    "%%writefile flows/local/rf_flow.py\n",
    "\n",
    "from metaflow import FlowSpec, step, Parameter, JSONType, IncludeFile, card\n",
    "import json\n",
    "\n",
    "class ClassificationFlow(FlowSpec):\n",
    "    \"\"\"\n",
    "    train a random forest\n",
    "    \"\"\"\n",
    "    @card \n",
    "    @step\n",
    "    def start(self):\n",
    "        \"\"\"\n",
    "        Load the data\n",
    "        \"\"\"\n",
    "        #Import scikit-learn dataset library\n",
    "        from sklearn import datasets\n",
    "\n",
    "        #Load dataset\n",
    "        self.iris = datasets.load_iris()\n",
    "        self.X = self.iris['data']\n",
    "        self.y = self.iris['target']\n",
    "        self.next(self.rf_model)\n",
    "        \n",
    "\n",
    "    @step\n",
    "    def rf_model(self):\n",
    "        \"\"\"\n",
    "        build random forest model\n",
    "        \"\"\"\n",
    "        from sklearn.ensemble import RandomForestClassifier\n",
    "        \n",
    "        self.clf = RandomForestClassifier(n_estimators=10, max_depth=None,\n",
    "            min_samples_split=2, random_state=0)\n",
    "        self.next(self.train)\n",
    "\n",
    "        \n",
    "        \n",
    "    @step\n",
    "    def train(self):\n",
    "        \"\"\"\n",
    "        Train the model\n",
    "        \"\"\"\n",
    "        from sklearn.model_selection import cross_val_score\n",
    "        self.scores = cross_val_score(self.clf, self.X, self.y, cv=5)\n",
    "        self.next(self.end)\n",
    "        \n",
    "        \n",
    "    @step\n",
    "    def end(self):\n",
    "        \"\"\"\n",
    "        End of flow, yo!\n",
    "        \"\"\"\n",
    "        print(\"ClassificationFlow is all done.\")\n",
    "\n",
    "\n",
    "if __name__ == \"__main__\":\n",
    "    ClassificationFlow()"
   ]
  },
  {
   "cell_type": "markdown",
   "id": "c7703623-d4cb-4641-81f1-19ddb43c6fb0",
   "metadata": {},
   "source": [
    "Execute the above from the command line with\n",
    "\n",
    "```bash\n",
    "python flows/local/rf_flow.py run\n",
    "```"
   ]
  },
  {
   "cell_type": "code",
   "execution_count": 9,
   "id": "37f0883b-a118-4aa6-a340-f0afde05c376",
   "metadata": {},
   "outputs": [
    {
     "name": "stdout",
     "output_type": "stream",
     "text": [
      "\u001b[35m\u001b[1mMetaflow 2.5.0\u001b[0m\u001b[35m\u001b[22m executing \u001b[0m\u001b[31m\u001b[1mClassificationFlow\u001b[0m\u001b[35m\u001b[22m\u001b[0m\u001b[35m\u001b[22m for \u001b[0m\u001b[31m\u001b[1muser:hba\u001b[0m\u001b[35m\u001b[22m\u001b[K\u001b[0m\u001b[35m\u001b[22m\u001b[0m\n",
      "\u001b[22mCreating local datastore in current directory (/Users/hba/Documents/Projects/tutorial-metaflow/.metaflow)\u001b[K\u001b[0m\u001b[22m\u001b[0m\n",
      "\u001b[35m\u001b[22mValidating your flow...\u001b[K\u001b[0m\u001b[35m\u001b[22m\u001b[0m\n",
      "\u001b[32m\u001b[1m    The graph looks good!\u001b[K\u001b[0m\u001b[32m\u001b[1m\u001b[0m\n",
      "\u001b[35m\u001b[22mRunning pylint...\u001b[K\u001b[0m\u001b[35m\u001b[22m\u001b[0m\n",
      "\u001b[32m\u001b[1m    Pylint is happy!\u001b[K\u001b[0m\u001b[32m\u001b[1m\u001b[0m\n",
      "\u001b[35m2022-03-16 11:28:50.805 \u001b[0m\u001b[1mWorkflow starting (run-id 1647390530800029):\u001b[0m\n",
      "\u001b[35m2022-03-16 11:28:50.816 \u001b[0m\u001b[32m[1647390530800029/start/1 (pid 12483)] \u001b[0m\u001b[1mTask is starting.\u001b[0m\n",
      "\u001b[35m2022-03-16 11:28:52.625 \u001b[0m\u001b[32m[1647390530800029/start/1 (pid 12483)] \u001b[0m\u001b[1mTask finished successfully.\u001b[0m\n",
      "\u001b[35m2022-03-16 11:28:52.635 \u001b[0m\u001b[32m[1647390530800029/rf_model/2 (pid 12491)] \u001b[0m\u001b[1mTask is starting.\u001b[0m\n",
      "\u001b[35m2022-03-16 11:28:53.581 \u001b[0m\u001b[32m[1647390530800029/rf_model/2 (pid 12491)] \u001b[0m\u001b[1mTask finished successfully.\u001b[0m\n",
      "\u001b[35m2022-03-16 11:28:53.590 \u001b[0m\u001b[32m[1647390530800029/train/3 (pid 12495)] \u001b[0m\u001b[1mTask is starting.\u001b[0m\n",
      "\u001b[35m2022-03-16 11:28:54.590 \u001b[0m\u001b[32m[1647390530800029/train/3 (pid 12495)] \u001b[0m\u001b[1mTask finished successfully.\u001b[0m\n",
      "\u001b[35m2022-03-16 11:28:54.600 \u001b[0m\u001b[32m[1647390530800029/end/4 (pid 12499)] \u001b[0m\u001b[1mTask is starting.\u001b[0m\n",
      "\u001b[35m2022-03-16 11:28:55.121 \u001b[0m\u001b[32m[1647390530800029/end/4 (pid 12499)] \u001b[0m\u001b[22mClassificationFlow is all done.\u001b[0m\n",
      "\u001b[35m2022-03-16 11:28:55.197 \u001b[0m\u001b[32m[1647390530800029/end/4 (pid 12499)] \u001b[0m\u001b[1mTask finished successfully.\u001b[0m\n",
      "\u001b[35m2022-03-16 11:28:55.198 \u001b[0m\u001b[1mDone!\u001b[0m\n",
      "\u001b[0m"
     ]
    }
   ],
   "source": [
    "! python flows/local/rf_flow.py run"
   ]
  },
  {
   "cell_type": "code",
   "execution_count": 10,
   "id": "5545fc2d-dcc4-4a37-bc8b-37ed28f98ecd",
   "metadata": {},
   "outputs": [
    {
     "name": "stdout",
     "output_type": "stream",
     "text": [
      "Writing flows/local/tree_branch_flow.py\n"
     ]
    }
   ],
   "source": [
    "%%writefile flows/local/tree_branch_flow.py\n",
    "\n",
    "from metaflow import FlowSpec, step, Parameter, JSONType, IncludeFile, card\n",
    "import json\n",
    "\n",
    "\n",
    "\n",
    "\n",
    "\n",
    "class ClassificationFlow(FlowSpec):\n",
    "    \"\"\"\n",
    "    train multiple tree based methods\n",
    "    \"\"\"\n",
    "    @card \n",
    "    @step\n",
    "    def start(self):\n",
    "        \"\"\"\n",
    "        Load the data\n",
    "        \"\"\"\n",
    "        #Import scikit-learn dataset library\n",
    "        from sklearn import datasets\n",
    "\n",
    "        #Load dataset\n",
    "        self.iris = datasets.load_iris()\n",
    "        self.X = self.iris['data']\n",
    "        self.y = self.iris['target']\n",
    "        self.next(self.rf_model, self.xt_model, self.dt_model)\n",
    "    \n",
    "                \n",
    "    @step\n",
    "    def rf_model(self):\n",
    "        \"\"\"\n",
    "        build random forest model\n",
    "        \"\"\"\n",
    "        from sklearn.ensemble import RandomForestClassifier\n",
    "        from sklearn.model_selection import cross_val_score\n",
    "        \n",
    "        self.clf = RandomForestClassifier(n_estimators=10, max_depth=None,\n",
    "            min_samples_split=2, random_state=0)\n",
    "        self.scores = cross_val_score(self.clf, self.X, self.y, cv=5)\n",
    "        self.next(self.choose_model)\n",
    "\n",
    "    @step\n",
    "    def xt_model(self):\n",
    "        \"\"\"\n",
    "        build extra trees classifier\n",
    "        \"\"\"\n",
    "        from sklearn.ensemble import ExtraTreesClassifier\n",
    "        from sklearn.model_selection import cross_val_score\n",
    "        \n",
    "\n",
    "        self.clf = ExtraTreesClassifier(n_estimators=10, max_depth=None,\n",
    "            min_samples_split=2, random_state=0)\n",
    "\n",
    "        self.scores = cross_val_score(self.clf, self.X, self.y, cv=5)\n",
    "        self.next(self.choose_model)\n",
    "\n",
    "    @step\n",
    "    def dt_model(self):\n",
    "        \"\"\"\n",
    "        build decision tree classifier\n",
    "        \"\"\"\n",
    "        from sklearn.tree import DecisionTreeClassifier\n",
    "        from sklearn.model_selection import cross_val_score\n",
    "        \n",
    "        self.clf = DecisionTreeClassifier(max_depth=None, min_samples_split=2,\n",
    "            random_state=0)\n",
    "\n",
    "        self.scores = cross_val_score(self.clf, self.X, self.y, cv=5)\n",
    "\n",
    "        self.next(self.choose_model)\n",
    "                        \n",
    "    @step\n",
    "    def choose_model(self, inputs):\n",
    "        \"\"\"\n",
    "        find 'best' model\n",
    "        \"\"\"\n",
    "        import numpy as np\n",
    "\n",
    "        def score(inp):\n",
    "            return inp.clf,\\\n",
    "                   np.mean(inp.scores)\n",
    "\n",
    "            \n",
    "        self.results = sorted(map(score, inputs), key=lambda x: -x[1]) \n",
    "        self.model = self.results[0][0]\n",
    "        self.next(self.end)\n",
    "        \n",
    "    @step\n",
    "    def end(self):\n",
    "        \"\"\"\n",
    "        End of flow, yo!\n",
    "        \"\"\"\n",
    "        print('Scores:')\n",
    "        print('\\n'.join('%s %f' % res for res in self.results))\n",
    "\n",
    "\n",
    "if __name__ == \"__main__\":\n",
    "    ClassificationFlow()"
   ]
  },
  {
   "cell_type": "markdown",
   "id": "0a6fc354-9ef2-4326-a913-f2299fd3d8b4",
   "metadata": {},
   "source": [
    "Execute the above from the command line with\n",
    "\n",
    "```bash\n",
    "python flows/local/tree_branch_flow.py run\n",
    "```"
   ]
  },
  {
   "cell_type": "code",
   "execution_count": 11,
   "id": "3aa5a415-63b2-412f-a625-c7ccaeb30f4c",
   "metadata": {},
   "outputs": [
    {
     "name": "stdout",
     "output_type": "stream",
     "text": [
      "\u001b[35m\u001b[1mMetaflow 2.5.0\u001b[0m\u001b[35m\u001b[22m executing \u001b[0m\u001b[31m\u001b[1mClassificationFlow\u001b[0m\u001b[35m\u001b[22m\u001b[0m\u001b[35m\u001b[22m for \u001b[0m\u001b[31m\u001b[1muser:hba\u001b[0m\u001b[35m\u001b[22m\u001b[K\u001b[0m\u001b[35m\u001b[22m\u001b[0m\n",
      "\u001b[35m\u001b[22mValidating your flow...\u001b[K\u001b[0m\u001b[35m\u001b[22m\u001b[0m\n",
      "\u001b[32m\u001b[1m    The graph looks good!\u001b[K\u001b[0m\u001b[32m\u001b[1m\u001b[0m\n",
      "\u001b[35m\u001b[22mRunning pylint...\u001b[K\u001b[0m\u001b[35m\u001b[22m\u001b[0m\n",
      "\u001b[32m\u001b[1m    Pylint is happy!\u001b[K\u001b[0m\u001b[32m\u001b[1m\u001b[0m\n",
      "\u001b[35m2022-03-16 11:29:10.194 \u001b[0m\u001b[1mWorkflow starting (run-id 1647390550190432):\u001b[0m\n",
      "\u001b[35m2022-03-16 11:29:10.202 \u001b[0m\u001b[32m[1647390550190432/start/1 (pid 12508)] \u001b[0m\u001b[1mTask is starting.\u001b[0m\n",
      "\u001b[35m2022-03-16 11:29:11.998 \u001b[0m\u001b[32m[1647390550190432/start/1 (pid 12508)] \u001b[0m\u001b[1mTask finished successfully.\u001b[0m\n",
      "\u001b[35m2022-03-16 11:29:12.006 \u001b[0m\u001b[32m[1647390550190432/rf_model/2 (pid 12516)] \u001b[0m\u001b[1mTask is starting.\u001b[0m\n",
      "\u001b[35m2022-03-16 11:29:12.958 \u001b[0m\u001b[32m[1647390550190432/rf_model/2 (pid 12516)] \u001b[0m\u001b[1mTask finished successfully.\u001b[0m\n",
      "\u001b[35m2022-03-16 11:29:12.966 \u001b[0m\u001b[32m[1647390550190432/train/3 (pid 12520)] \u001b[0m\u001b[1mTask is starting.\u001b[0m\n",
      "\u001b[35m2022-03-16 11:29:13.959 \u001b[0m\u001b[32m[1647390550190432/train/3 (pid 12520)] \u001b[0m\u001b[1mTask finished successfully.\u001b[0m\n",
      "\u001b[35m2022-03-16 11:29:13.966 \u001b[0m\u001b[32m[1647390550190432/end/4 (pid 12524)] \u001b[0m\u001b[1mTask is starting.\u001b[0m\n",
      "\u001b[35m2022-03-16 11:29:14.462 \u001b[0m\u001b[32m[1647390550190432/end/4 (pid 12524)] \u001b[0m\u001b[22mClassificationFlow is all done.\u001b[0m\n",
      "\u001b[35m2022-03-16 11:29:14.541 \u001b[0m\u001b[32m[1647390550190432/end/4 (pid 12524)] \u001b[0m\u001b[1mTask finished successfully.\u001b[0m\n",
      "\u001b[35m2022-03-16 11:29:14.541 \u001b[0m\u001b[1mDone!\u001b[0m\n",
      "\u001b[0m"
     ]
    }
   ],
   "source": [
    "! python flows/local/rf_flow.py run"
   ]
  },
  {
   "cell_type": "markdown",
   "id": "a2dd4a43-3ea3-43f5-9d2f-c96ee7d18bb3",
   "metadata": {},
   "source": [
    "### Boosted Trees"
   ]
  },
  {
   "cell_type": "code",
   "execution_count": 12,
   "id": "6e0b86aa-498d-474f-bde4-1e183b5dd7a7",
   "metadata": {},
   "outputs": [
    {
     "name": "stdout",
     "output_type": "stream",
     "text": [
      "Writing flows/local/boosted_flow.py\n"
     ]
    }
   ],
   "source": [
    "%%writefile flows/local/boosted_flow.py\n",
    "\n",
    "from metaflow import FlowSpec, step, Parameter, JSONType, IncludeFile\n",
    "\n",
    "\n",
    "\n",
    "\n",
    "class BSTFlow(FlowSpec):\n",
    "    \"\"\"\n",
    "    train a boosted tree\n",
    "    \"\"\"\n",
    "\n",
    "    @step\n",
    "    def start(self):\n",
    "        \"\"\"\n",
    "        Load the data & train model\n",
    "        \"\"\"\n",
    "        import xgboost as xgb\n",
    "        # from io import StringIO\n",
    "        # read in data\n",
    "        dtrain = xgb.DMatrix('data/agaricus.txt.train')\n",
    "        #dtest = xgb.DMatrix('data/agaricus.txt.test')\n",
    "\n",
    "                # specify parameters\n",
    "        param = {'max_depth':2, 'eta':1, 'objective':'binary:logistic' }\n",
    "        num_round = 2\n",
    "        bst = xgb.train(param, dtrain, num_round)\n",
    "        bst.save_model(\"model.json\")\n",
    "        self.next(self.predict)\n",
    "        \n",
    "\n",
    "        \n",
    "        \n",
    "    @step\n",
    "    def predict(self):\n",
    "        \"\"\"\n",
    "        make predictions\n",
    "        \"\"\"\n",
    "        import xgboost as xgb\n",
    "\n",
    "        dtest = xgb.DMatrix('data/agaricus.txt.test')\n",
    "        # make prediction\n",
    "        bst = xgb.Booster()\n",
    "        bst.load_model(\"model.json\")\n",
    "        preds = bst.predict(dtest)\n",
    "        self.next(self.end)\n",
    "        \n",
    "        \n",
    "    @step\n",
    "    def end(self):\n",
    "        \"\"\"\n",
    "        End of flow, yo!\n",
    "        \"\"\"\n",
    "        print(\"ClassificationFlow is all done.\")\n",
    "\n",
    "\n",
    "if __name__ == \"__main__\":\n",
    "    BSTFlow()"
   ]
  },
  {
   "cell_type": "markdown",
   "id": "83a1fce4-47cd-4c23-b770-7af10f785aee",
   "metadata": {},
   "source": [
    "Execute the above from the command line with\n",
    "\n",
    "```bash\n",
    "python flows/local/boosted_flow.py run\n",
    "```"
   ]
  },
  {
   "cell_type": "code",
   "execution_count": 13,
   "id": "2e817331-98cf-4eca-bea4-036fc41965c9",
   "metadata": {},
   "outputs": [
    {
     "name": "stdout",
     "output_type": "stream",
     "text": [
      "\u001b[35m\u001b[1mMetaflow 2.5.0\u001b[0m\u001b[35m\u001b[22m executing \u001b[0m\u001b[31m\u001b[1mBSTFlow\u001b[0m\u001b[35m\u001b[22m\u001b[0m\u001b[35m\u001b[22m for \u001b[0m\u001b[31m\u001b[1muser:hba\u001b[0m\u001b[35m\u001b[22m\u001b[K\u001b[0m\u001b[35m\u001b[22m\u001b[0m\n",
      "\u001b[35m\u001b[22mValidating your flow...\u001b[K\u001b[0m\u001b[35m\u001b[22m\u001b[0m\n",
      "\u001b[32m\u001b[1m    The graph looks good!\u001b[K\u001b[0m\u001b[32m\u001b[1m\u001b[0m\n",
      "\u001b[35m\u001b[22mRunning pylint...\u001b[K\u001b[0m\u001b[35m\u001b[22m\u001b[0m\n",
      "\u001b[32m\u001b[1m    Pylint is happy!\u001b[K\u001b[0m\u001b[32m\u001b[1m\u001b[0m\n",
      "\u001b[35m2022-03-16 11:29:33.542 \u001b[0m\u001b[1mWorkflow starting (run-id 1647390573537743):\u001b[0m\n",
      "\u001b[35m2022-03-16 11:29:33.551 \u001b[0m\u001b[32m[1647390573537743/start/1 (pid 12532)] \u001b[0m\u001b[1mTask is starting.\u001b[0m\n",
      "\u001b[35m2022-03-16 11:29:34.564 \u001b[0m\u001b[32m[1647390573537743/start/1 (pid 12532)] \u001b[0m\u001b[22m[11:29:34] WARNING: /Users/runner/miniforge3/conda-bld/xgboost-split_1645117948562/work/src/learner.cc:1115: Starting in XGBoost 1.3.0, the default evaluation metric used with the objective 'binary:logistic' was changed from 'error' to 'logloss'. Explicitly set eval_metric if you'd like to restore the old behavior.\u001b[0m\n",
      "\u001b[35m2022-03-16 11:29:34.692 \u001b[0m\u001b[32m[1647390573537743/start/1 (pid 12532)] \u001b[0m\u001b[1mTask finished successfully.\u001b[0m\n",
      "\u001b[35m2022-03-16 11:29:34.700 \u001b[0m\u001b[32m[1647390573537743/predict/2 (pid 12536)] \u001b[0m\u001b[1mTask is starting.\u001b[0m\n",
      "\u001b[35m2022-03-16 11:29:35.849 \u001b[0m\u001b[32m[1647390573537743/predict/2 (pid 12536)] \u001b[0m\u001b[1mTask finished successfully.\u001b[0m\n",
      "\u001b[35m2022-03-16 11:29:35.856 \u001b[0m\u001b[32m[1647390573537743/end/3 (pid 12540)] \u001b[0m\u001b[1mTask is starting.\u001b[0m\n",
      "\u001b[35m2022-03-16 11:29:36.393 \u001b[0m\u001b[32m[1647390573537743/end/3 (pid 12540)] \u001b[0m\u001b[22mClassificationFlow is all done.\u001b[0m\n",
      "\u001b[35m2022-03-16 11:29:36.468 \u001b[0m\u001b[32m[1647390573537743/end/3 (pid 12540)] \u001b[0m\u001b[1mTask finished successfully.\u001b[0m\n",
      "\u001b[35m2022-03-16 11:29:36.469 \u001b[0m\u001b[1mDone!\u001b[0m\n",
      "\u001b[0m"
     ]
    }
   ],
   "source": [
    "! python flows/local/boosted_flow.py run"
   ]
  },
  {
   "cell_type": "markdown",
   "id": "f757332f-b475-4e42-b546-c97a75068fc9",
   "metadata": {},
   "source": [
    "### Deep Learning"
   ]
  },
  {
   "cell_type": "code",
   "execution_count": 14,
   "id": "92adeacf-5396-42d0-bed2-32a8a9763d1e",
   "metadata": {},
   "outputs": [
    {
     "name": "stdout",
     "output_type": "stream",
     "text": [
      "Writing flows/local/NN_flow.py\n"
     ]
    }
   ],
   "source": [
    "%%writefile flows/local/NN_flow.py\n",
    "\n",
    "from metaflow import FlowSpec, step, Parameter, JSONType, IncludeFile\n",
    "from taxi_modules import init, MODELS, MODEL_LIBRARIES\n",
    "import json\n",
    "\n",
    "\n",
    "class NNFlow(FlowSpec):\n",
    "    \"\"\"\n",
    "    train a NN\n",
    "    \"\"\"\n",
    "\n",
    "    @step\n",
    "    def start(self):\n",
    "        \"\"\"\n",
    "        Load the data\n",
    "        \"\"\"\n",
    "        from tensorflow import keras\n",
    "\n",
    "        # the data, split between train and test sets\n",
    "        (self.x_train, self.y_train), (self.x_test, self.y_test) = keras.datasets.mnist.load_data()\n",
    "        self.next(self.wrangle)\n",
    "        \n",
    "    @step\n",
    "    def wrangle(self):\n",
    "        \"\"\"\n",
    "        massage data\n",
    "        \"\"\"\n",
    "        import numpy as np\n",
    "        from tensorflow import keras\n",
    "        # Model / data parameters\n",
    "        self.num_classes = 10\n",
    "        self.input_shape = (28, 28, 1)\n",
    "\n",
    "        # Scale images to the [0, 1] range\n",
    "        self.x_train = self.x_train.astype(\"float32\") / 255\n",
    "        self.x_test = self.x_test.astype(\"float32\") / 255\n",
    "        # Make sure images have shape (28, 28, 1)\n",
    "        self.x_train = np.expand_dims(self.x_train, -1)\n",
    "        self.x_test = np.expand_dims(self.x_test, -1)\n",
    "\n",
    "        # convert class vectors to binary class matrices\n",
    "        self.y_train = keras.utils.to_categorical(self.y_train, self.num_classes)\n",
    "        self.y_test = keras.utils.to_categorical(self.y_test, self.num_classes)\n",
    "        \n",
    "        self.next(self.build_model)\n",
    "\n",
    "\n",
    "    @step\n",
    "    def build_model(self):\n",
    "        \"\"\"\n",
    "        build NN model\n",
    "        \"\"\"\n",
    "        import tempfile\n",
    "        import numpy as np\n",
    "        import tensorflow as tf\n",
    "        from tensorflow import keras\n",
    "        from tensorflow.keras import layers\n",
    "\n",
    "        model = keras.Sequential(\n",
    "            [\n",
    "                keras.Input(shape=self.input_shape),\n",
    "                layers.Conv2D(32, kernel_size=(3, 3), activation=\"relu\"),\n",
    "                layers.MaxPooling2D(pool_size=(2, 2)),\n",
    "                layers.Conv2D(64, kernel_size=(3, 3), activation=\"relu\"),\n",
    "                layers.MaxPooling2D(pool_size=(2, 2)),\n",
    "                layers.Flatten(),\n",
    "                layers.Dropout(0.5),\n",
    "                layers.Dense(self.num_classes, activation=\"softmax\"),\n",
    "            ]\n",
    "        )\n",
    "        model.compile(loss=\"categorical_crossentropy\", optimizer=\"adam\", metrics=[\"accuracy\"])\n",
    "        with tempfile.NamedTemporaryFile() as f:\n",
    "            tf.keras.models.save_model(model, f.name, save_format='h5')\n",
    "            self.model = f.read()\n",
    "        self.next(self.train)\n",
    "\n",
    "        \n",
    "        \n",
    "    @step\n",
    "    def train(self):\n",
    "        \"\"\"\n",
    "        Train the model\n",
    "        \"\"\"\n",
    "        import tempfile\n",
    "        import tensorflow as tf\n",
    "        self.batch_size = 128\n",
    "        self.epochs = 15\n",
    "        \n",
    "        with tempfile.NamedTemporaryFile() as f:\n",
    "            f.write(self.model)\n",
    "            f.flush()\n",
    "            model =  tf.keras.models.load_model(f.name)\n",
    "        model.fit(self.x_train, self.y_train, batch_size=self.batch_size, epochs=self.epochs, validation_split=0.1)\n",
    "        \n",
    "        self.next(self.end)\n",
    "        \n",
    "        \n",
    "    @step\n",
    "    def end(self):\n",
    "        \"\"\"\n",
    "        End of flow, yo!\n",
    "        \"\"\"\n",
    "        print(\"ClassificationFlow is all done.\")\n",
    "\n",
    "\n",
    "if __name__ == \"__main__\":\n",
    "    NNFlow()"
   ]
  },
  {
   "cell_type": "markdown",
   "id": "68bf1b5f-d6b9-4b89-be19-b3d22a5db0bd",
   "metadata": {},
   "source": [
    "Execute the above from the command line with\n",
    "\n",
    "```bash\n",
    "python flows/local/NN_flow.py run\n",
    "```"
   ]
  },
  {
   "cell_type": "code",
   "execution_count": 16,
   "id": "6aa50054-916d-4b5c-8f5b-4159996d95a3",
   "metadata": {},
   "outputs": [
    {
     "name": "stdout",
     "output_type": "stream",
     "text": [
      "\u001b[35m\u001b[1mMetaflow 2.5.0\u001b[0m\u001b[35m\u001b[22m executing \u001b[0m\u001b[31m\u001b[1mNNFlow\u001b[0m\u001b[35m\u001b[22m\u001b[0m\u001b[35m\u001b[22m for \u001b[0m\u001b[31m\u001b[1muser:hba\u001b[0m\u001b[35m\u001b[22m\u001b[K\u001b[0m\u001b[35m\u001b[22m\u001b[0m\n",
      "\u001b[35m\u001b[22mValidating your flow...\u001b[K\u001b[0m\u001b[35m\u001b[22m\u001b[0m\n",
      "\u001b[32m\u001b[1m    The graph looks good!\u001b[K\u001b[0m\u001b[32m\u001b[1m\u001b[0m\n",
      "\u001b[35m\u001b[22mRunning pylint...\u001b[K\u001b[0m\u001b[35m\u001b[22m\u001b[0m\n",
      "\u001b[32m\u001b[1m    Pylint is happy!\u001b[K\u001b[0m\u001b[32m\u001b[1m\u001b[0m\n",
      "\u001b[35m2022-03-16 11:30:40.446 \u001b[0m\u001b[1mWorkflow starting (run-id 1647390640441582):\u001b[0m\n",
      "\u001b[35m2022-03-16 11:30:40.459 \u001b[0m\u001b[32m[1647390640441582/start/1 (pid 12566)] \u001b[0m\u001b[1mTask is starting.\u001b[0m\n",
      "\u001b[35m2022-03-16 11:30:43.742 \u001b[0m\u001b[32m[1647390640441582/start/1 (pid 12566)] \u001b[0m\u001b[1mTask finished successfully.\u001b[0m\n",
      "\u001b[35m2022-03-16 11:30:43.752 \u001b[0m\u001b[32m[1647390640441582/wrangle/2 (pid 12573)] \u001b[0m\u001b[1mTask is starting.\u001b[0m\n",
      "\u001b[35m2022-03-16 11:30:48.318 \u001b[0m\u001b[32m[1647390640441582/wrangle/2 (pid 12573)] \u001b[0m\u001b[1mTask finished successfully.\u001b[0m\n",
      "\u001b[35m2022-03-16 11:30:48.328 \u001b[0m\u001b[32m[1647390640441582/build_model/3 (pid 12577)] \u001b[0m\u001b[1mTask is starting.\u001b[0m\n",
      "\u001b[35m2022-03-16 11:30:50.111 \u001b[0m\u001b[32m[1647390640441582/build_model/3 (pid 12577)] \u001b[0m\u001b[22m2022-03-16 11:30:50.111520: I tensorflow/core/platform/cpu_feature_guard.cc:142] This TensorFlow binary is optimized with oneAPI Deep Neural Network Library (oneDNN) to use the following CPU instructions in performance-critical operations:  SSE4.1 SSE4.2\u001b[0m\n",
      "\u001b[35m2022-03-16 11:30:50.360 \u001b[0m\u001b[32m[1647390640441582/build_model/3 (pid 12577)] \u001b[0m\u001b[22mTo enable them in other operations, rebuild TensorFlow with the appropriate compiler flags.\u001b[0m\n",
      "\u001b[35m2022-03-16 11:30:50.362 \u001b[0m\u001b[32m[1647390640441582/build_model/3 (pid 12577)] \u001b[0m\u001b[1mTask finished successfully.\u001b[0m\n",
      "\u001b[35m2022-03-16 11:30:50.372 \u001b[0m\u001b[32m[1647390640441582/train/4 (pid 12581)] \u001b[0m\u001b[1mTask is starting.\u001b[0m\n",
      "\u001b[35m2022-03-16 11:30:52.170 \u001b[0m\u001b[32m[1647390640441582/train/4 (pid 12581)] \u001b[0m\u001b[22m2022-03-16 11:30:52.170068: I tensorflow/core/platform/cpu_feature_guard.cc:142] This TensorFlow binary is optimized with oneAPI Deep Neural Network Library (oneDNN) to use the following CPU instructions in performance-critical operations:  SSE4.1 SSE4.2\u001b[0m\n",
      "\u001b[35m2022-03-16 11:30:53.111 \u001b[0m\u001b[32m[1647390640441582/train/4 (pid 12581)] \u001b[0m\u001b[22mTo enable them in other operations, rebuild TensorFlow with the appropriate compiler flags.\u001b[0m\n",
      "\u001b[35m2022-03-16 11:30:53.111 \u001b[0m\u001b[32m[1647390640441582/train/4 (pid 12581)] \u001b[0m\u001b[22m2022-03-16 11:30:53.111624: I tensorflow/compiler/mlir/mlir_graph_optimization_pass.cc:116] None of the MLIR optimization passes are enabled (registered 2)\u001b[0m\n",
      "\u001b[35m2022-03-16 11:30:53.121 \u001b[0m\u001b[32m[1647390640441582/train/4 (pid 12581)] \u001b[0m\u001b[22mEpoch 1/15\u001b[0m\n",
      "422/422 [==============================] - 11s 26ms/step - loss: 0.3756 - accuracy: 0.8853 - val_loss: 0.0812 - val_accuracy: 0.9785\u001b[0m - loss: 2.3227 - accuracy: 0.0753/422 [==>...........................] - ETA: 9s - loss: 1.4125 - accuracy: 0.56\n",
      "\u001b[35m2022-03-16 11:31:04.249 \u001b[0m\u001b[32m[1647390640441582/train/4 (pid 12581)] \u001b[0m\u001b[22mEpoch 2/15\u001b[0m\n",
      "422/422 [==============================] - 11s 25ms/step - loss: 0.1120 - accuracy: 0.9659 - val_loss: 0.0553 - val_accuracy: 0.9852\u001b[0m- loss: 0.1011 - accuracy: 0.960\n",
      "\u001b[35m2022-03-16 11:31:14.867 \u001b[0m\u001b[32m[1647390640441582/train/4 (pid 12581)] \u001b[0m\u001b[22mEpoch 3/15\u001b[0m\n",
      "422/422 [==============================] - 10s 25ms/step - loss: 0.0843 - accuracy: 0.9741 - val_loss: 0.0516 - val_accuracy: 0.9857\u001b[0m loss: 0.0589 - accuracy: 0.98\n",
      "\u001b[35m2022-03-16 11:31:25.298 \u001b[0m\u001b[32m[1647390640441582/train/4 (pid 12581)] \u001b[0m\u001b[22mEpoch 4/15\u001b[0m\n",
      "422/422 [==============================] - 11s 25ms/step - loss: 0.0698 - accuracy: 0.9778 - val_loss: 0.0442 - val_accuracy: 0.9875\u001b[0m loss: 0.1111 - accuracy: 0.96\n",
      "\u001b[35m2022-03-16 11:31:35.978 \u001b[0m\u001b[32m[1647390640441582/train/4 (pid 12581)] \u001b[0m\u001b[22mEpoch 5/15\u001b[0m\n",
      "422/422 [==============================] - 10s 25ms/step - loss: 0.0630 - accuracy: 0.9806 - val_loss: 0.0422 - val_accuracy: 0.9875\u001b[0m- loss: 0.0533 - accuracy: 0.9\n",
      "\u001b[35m2022-03-16 11:31:46.369 \u001b[0m\u001b[32m[1647390640441582/train/4 (pid 12581)] \u001b[0m\u001b[22mEpoch 6/15\u001b[0m\n",
      "422/422 [==============================] - 11s 26ms/step - loss: 0.0564 - accuracy: 0.9828 - val_loss: 0.0383 - val_accuracy: 0.9888\u001b[0m- loss: 0.0239 - accuracy: 0.992\n",
      "\u001b[35m2022-03-16 11:31:57.188 \u001b[0m\u001b[32m[1647390640441582/train/4 (pid 12581)] \u001b[0m\u001b[22mEpoch 7/15\u001b[0m\n",
      "422/422 [==============================] - 11s 26ms/step - loss: 0.0505 - accuracy: 0.9839 - val_loss: 0.0381 - val_accuracy: 0.9895\u001b[0m loss: 0.0402 - accuracy: 0.98\n",
      "\u001b[35m2022-03-16 11:32:07.999 \u001b[0m\u001b[32m[1647390640441582/train/4 (pid 12581)] \u001b[0m\u001b[22mEpoch 8/15\u001b[0m\n",
      "422/422 [==============================] - 11s 26ms/step - loss: 0.0485 - accuracy: 0.9844 - val_loss: 0.0355 - val_accuracy: 0.9908\u001b[0m loss: 0.0257 - accuracy: 0.99\n",
      "\u001b[35m2022-03-16 11:32:18.807 \u001b[0m\u001b[32m[1647390640441582/train/4 (pid 12581)] \u001b[0m\u001b[22mEpoch 9/15\u001b[0m\n",
      "422/422 [==============================] - 11s 25ms/step - loss: 0.0444 - accuracy: 0.9860 - val_loss: 0.0321 - val_accuracy: 0.9915\u001b[0m- loss: 0.0528 - accuracy: 0.992\n",
      "\u001b[35m2022-03-16 11:32:29.348 \u001b[0m\u001b[32m[1647390640441582/train/4 (pid 12581)] \u001b[0m\u001b[22mEpoch 10/15\u001b[0m\n",
      "422/422 [==============================] - 10s 24ms/step - loss: 0.0410 - accuracy: 0.9870 - val_loss: 0.0309 - val_accuracy: 0.9927\u001b[0m- loss: 0.0241 - accuracy: 1.000\n",
      "\u001b[35m2022-03-16 11:32:39.636 \u001b[0m\u001b[32m[1647390640441582/train/4 (pid 12581)] \u001b[0m\u001b[22mEpoch 11/15\u001b[0m\n",
      "422/422 [==============================] - 10s 25ms/step - loss: 0.0390 - accuracy: 0.9876 - val_loss: 0.0337 - val_accuracy: 0.9912\u001b[0m loss: 0.0237 - accuracy: 1.00\n",
      "\u001b[35m2022-03-16 11:32:50.107 \u001b[0m\u001b[32m[1647390640441582/train/4 (pid 12581)] \u001b[0m\u001b[22mEpoch 12/15\u001b[0m\n",
      "422/422 [==============================] - 11s 26ms/step - loss: 0.0368 - accuracy: 0.9880 - val_loss: 0.0330 - val_accuracy: 0.9917\u001b[0m- loss: 0.0479 - accuracy: 0.976\n",
      "\u001b[35m2022-03-16 11:33:00.905 \u001b[0m\u001b[32m[1647390640441582/train/4 (pid 12581)] \u001b[0m\u001b[22mEpoch 13/15\u001b[0m\n",
      "422/422 [==============================] - 11s 27ms/step - loss: 0.0344 - accuracy: 0.9887 - val_loss: 0.0310 - val_accuracy: 0.9925\u001b[0m- loss: 0.0779 - accuracy: 0.960\n",
      "\u001b[35m2022-03-16 11:33:12.294 \u001b[0m\u001b[32m[1647390640441582/train/4 (pid 12581)] \u001b[0m\u001b[22mEpoch 14/15\u001b[0m\n",
      "422/422 [==============================] - 10s 25ms/step - loss: 0.0327 - accuracy: 0.9894 - val_loss: 0.0312 - val_accuracy: 0.9923\u001b[0m loss: 0.0050 - accuracy: 1.00\n",
      "\u001b[35m2022-03-16 11:33:22.788 \u001b[0m\u001b[32m[1647390640441582/train/4 (pid 12581)] \u001b[0m\u001b[22mEpoch 15/15\u001b[0m\n",
      "422/422 [==============================] - 10s 25ms/step - loss: 0.0333 - accuracy: 0.9894 - val_loss: 0.0311 - val_accuracy: 0.9913\u001b[0m loss: 0.0088 - accuracy: 1.00\n",
      "\u001b[35m2022-03-16 11:33:34.306 \u001b[0m\u001b[32m[1647390640441582/train/4 (pid 12581)] \u001b[0m\u001b[1mTask finished successfully.\u001b[0m\n",
      "\u001b[35m2022-03-16 11:33:34.317 \u001b[0m\u001b[32m[1647390640441582/end/5 (pid 12598)] \u001b[0m\u001b[1mTask is starting.\u001b[0m\n",
      "\u001b[35m2022-03-16 11:33:35.023 \u001b[0m\u001b[32m[1647390640441582/end/5 (pid 12598)] \u001b[0m\u001b[22mClassificationFlow is all done.\u001b[0m\n",
      "\u001b[35m2022-03-16 11:33:35.100 \u001b[0m\u001b[32m[1647390640441582/end/5 (pid 12598)] \u001b[0m\u001b[1mTask finished successfully.\u001b[0m\n",
      "\u001b[35m2022-03-16 11:33:35.101 \u001b[0m\u001b[1mDone!\u001b[0m\n",
      "\u001b[0m"
     ]
    }
   ],
   "source": [
    "! python flows/local/NN_flow.py run"
   ]
  },
  {
   "cell_type": "markdown",
   "id": "6968aa14-ef6d-4537-bc7e-61a5d9d314dd",
   "metadata": {},
   "source": [
    "## Flows for the Cloud"
   ]
  },
  {
   "cell_type": "code",
   "execution_count": 1,
   "id": "dd051a23-afc8-456f-bac1-37451f35d052",
   "metadata": {},
   "outputs": [
    {
     "name": "stdout",
     "output_type": "stream",
     "text": [
      "Overwriting flows/cloud/rf_flow_cloud.py\n"
     ]
    }
   ],
   "source": [
    "%%writefile flows/cloud/rf_flow_cloud.py\n",
    "\n",
    "from metaflow import FlowSpec, step, Parameter, JSONType, IncludeFile, card, conda, conda_base\n",
    "import json\n",
    "\n",
    "\n",
    "\n",
    "\n",
    "\n",
    "class ClassificationFlow(FlowSpec):\n",
    "    \"\"\"\n",
    "    train a random forest\n",
    "    \"\"\"\n",
    "    @conda(libraries={'scikit-learn':'1.0.2'}) \n",
    "    @card\n",
    "    @step\n",
    "    def start(self):\n",
    "        \"\"\"\n",
    "        Load the data\n",
    "        \"\"\"\n",
    "        #Import scikit-learn dataset library\n",
    "        from sklearn import datasets\n",
    "\n",
    "        #Load dataset\n",
    "        self.iris = datasets.load_iris()\n",
    "        self.X = self.iris['data']\n",
    "        self.y = self.iris['target']\n",
    "        self.next(self.rf_model)\n",
    "        \n",
    "    @conda(libraries={'scikit-learn':'1.0.2'})\n",
    "    @step\n",
    "    def rf_model(self):\n",
    "        \"\"\"\n",
    "        build random forest model\n",
    "        \"\"\"\n",
    "        from sklearn.ensemble import RandomForestClassifier\n",
    "        \n",
    "        self.clf = RandomForestClassifier(n_estimators=10, max_depth=None,\n",
    "            min_samples_split=2, random_state=0)\n",
    "        self.next(self.train)\n",
    "\n",
    "        \n",
    "    @conda(libraries={'scikit-learn':'1.0.2'})       \n",
    "    @step\n",
    "    def train(self):\n",
    "        \"\"\"\n",
    "        Train the model\n",
    "        \"\"\"\n",
    "        from sklearn.model_selection import cross_val_score\n",
    "        self.scores = cross_val_score(self.clf, self.X, self.y, cv=5)\n",
    "        self.next(self.end)\n",
    "        \n",
    "        \n",
    "    @step\n",
    "    def end(self):\n",
    "        \"\"\"\n",
    "        End of flow, yo!\n",
    "        \"\"\"\n",
    "        print(\"ClassificationFlow is all done.\")\n",
    "\n",
    "\n",
    "if __name__ == \"__main__\":\n",
    "    ClassificationFlow()"
   ]
  },
  {
   "cell_type": "markdown",
   "id": "5e5efc50-b867-4381-93b8-49cb6e457ce5",
   "metadata": {},
   "source": [
    "Execute the above from the command line with\n",
    "\n",
    "```bash\n",
    "python flows/cloud/rf_flow_cloud.py --environment=conda run --with batch\n",
    "```"
   ]
  },
  {
   "cell_type": "code",
   "execution_count": 3,
   "id": "d17677d4-b8f8-48eb-b3c8-5bc420b5f918",
   "metadata": {},
   "outputs": [
    {
     "name": "stdout",
     "output_type": "stream",
     "text": [
      "\u001b[35m\u001b[1mMetaflow 2.5.0\u001b[0m\u001b[35m\u001b[22m executing \u001b[0m\u001b[31m\u001b[1mClassificationFlow\u001b[0m\u001b[35m\u001b[22m\u001b[0m\u001b[35m\u001b[22m for \u001b[0m\u001b[31m\u001b[1muser:hba\u001b[0m\u001b[35m\u001b[22m\u001b[K\u001b[0m\u001b[35m\u001b[22m\u001b[0m\n",
      "\u001b[35m\u001b[22mValidating your flow...\u001b[K\u001b[0m\u001b[35m\u001b[22m\u001b[0m\n",
      "\u001b[32m\u001b[1m    The graph looks good!\u001b[K\u001b[0m\u001b[32m\u001b[1m\u001b[0m\n",
      "\u001b[35m\u001b[22mRunning pylint...\u001b[K\u001b[0m\u001b[35m\u001b[22m\u001b[0m\n",
      "\u001b[32m\u001b[1m    Pylint is happy!\u001b[K\u001b[0m\u001b[32m\u001b[1m\u001b[0m\n",
      "\u001b[22mBootstrapping conda environment...(this could take a few minutes)\u001b[K\u001b[0m\u001b[22m\u001b[0m\n",
      "\u001b[35m2022-03-16 11:40:52.815 \u001b[0m\u001b[1mWorkflow starting (run-id 7224):\u001b[0m\n",
      "\u001b[35m2022-03-16 11:41:03.883 \u001b[0m\u001b[32m[7224/start/135700 (pid 13067)] \u001b[0m\u001b[1mTask is starting.\u001b[0m\n",
      "\u001b[35m2022-03-16 11:41:06.449 \u001b[0m\u001b[32m[7224/start/135700 (pid 13067)] \u001b[0m\u001b[22m[37af24cc-085b-43b9-8e1f-045c3e8fc0ba] Task is starting (status SUBMITTED)...\u001b[0m\n",
      "\u001b[35m2022-03-16 11:41:10.704 \u001b[0m\u001b[32m[7224/start/135700 (pid 13067)] \u001b[0m\u001b[22m[37af24cc-085b-43b9-8e1f-045c3e8fc0ba] Task is starting (status RUNNABLE)...\u001b[0m\n",
      "\u001b[35m2022-03-16 11:41:40.735 \u001b[0m\u001b[32m[7224/start/135700 (pid 13067)] \u001b[0m\u001b[22m[37af24cc-085b-43b9-8e1f-045c3e8fc0ba] Task is starting (status RUNNABLE)...\u001b[0m\n",
      "\u001b[35m2022-03-16 11:42:11.028 \u001b[0m\u001b[32m[7224/start/135700 (pid 13067)] \u001b[0m\u001b[22m[37af24cc-085b-43b9-8e1f-045c3e8fc0ba] Task is starting (status RUNNABLE)...\u001b[0m\n",
      "\u001b[35m2022-03-16 11:42:41.032 \u001b[0m\u001b[32m[7224/start/135700 (pid 13067)] \u001b[0m\u001b[22m[37af24cc-085b-43b9-8e1f-045c3e8fc0ba] Task is starting (status RUNNABLE)...\u001b[0m\n",
      "\u001b[35m2022-03-16 11:43:11.117 \u001b[0m\u001b[32m[7224/start/135700 (pid 13067)] \u001b[0m\u001b[22m[37af24cc-085b-43b9-8e1f-045c3e8fc0ba] Task is starting (status RUNNABLE)...\u001b[0m\n",
      "\u001b[35m2022-03-16 11:43:41.316 \u001b[0m\u001b[32m[7224/start/135700 (pid 13067)] \u001b[0m\u001b[22m[37af24cc-085b-43b9-8e1f-045c3e8fc0ba] Task is starting (status RUNNABLE)...\u001b[0m\n",
      "\u001b[35m2022-03-16 11:43:47.447 \u001b[0m\u001b[32m[7224/start/135700 (pid 13067)] \u001b[0m\u001b[22m[37af24cc-085b-43b9-8e1f-045c3e8fc0ba] Task is starting (status STARTING)...\u001b[0m\n",
      "\u001b[35m2022-03-16 11:44:09.738 \u001b[0m\u001b[32m[7224/start/135700 (pid 13067)] \u001b[0m\u001b[22m[37af24cc-085b-43b9-8e1f-045c3e8fc0ba] Task is starting (status RUNNING)...\u001b[0m\n",
      "\u001b[35m2022-03-16 11:44:08.211 \u001b[0m\u001b[32m[7224/start/135700 (pid 13067)] \u001b[0m\u001b[22m[37af24cc-085b-43b9-8e1f-045c3e8fc0ba] Setting up task environment.\u001b[0m\n",
      "\u001b[35m2022-03-16 11:44:17.090 \u001b[0m\u001b[32m[7224/start/135700 (pid 13067)] \u001b[0m\u001b[22m[37af24cc-085b-43b9-8e1f-045c3e8fc0ba] Downloading code package...\u001b[0m\n",
      "\u001b[35m2022-03-16 11:44:17.744 \u001b[0m\u001b[32m[7224/start/135700 (pid 13067)] \u001b[0m\u001b[22m[37af24cc-085b-43b9-8e1f-045c3e8fc0ba] Code package downloaded.\u001b[0m\n",
      "\u001b[35m2022-03-16 11:44:17.762 \u001b[0m\u001b[32m[7224/start/135700 (pid 13067)] \u001b[0m\u001b[22m[37af24cc-085b-43b9-8e1f-045c3e8fc0ba] Task is starting.\u001b[0m\n",
      "\u001b[35m2022-03-16 11:44:18.218 \u001b[0m\u001b[32m[7224/start/135700 (pid 13067)] \u001b[0m\u001b[22m[37af24cc-085b-43b9-8e1f-045c3e8fc0ba] Bootstrapping environment...\u001b[0m\n",
      "\u001b[35m2022-03-16 11:44:58.128 \u001b[0m\u001b[32m[7224/start/135700 (pid 13067)] \u001b[0m\u001b[22m[37af24cc-085b-43b9-8e1f-045c3e8fc0ba] Environment bootstrapped.\u001b[0m\n",
      "\u001b[35m2022-03-16 11:45:13.323 \u001b[0m\u001b[32m[7224/start/135700 (pid 13067)] \u001b[0m\u001b[22m[37af24cc-085b-43b9-8e1f-045c3e8fc0ba] Task finished with exit code 0.\u001b[0m\n",
      "\u001b[35m2022-03-16 11:45:16.441 \u001b[0m\u001b[32m[7224/start/135700 (pid 13067)] \u001b[0m\u001b[1mTask finished successfully.\u001b[0m\n",
      "\u001b[35m2022-03-16 11:45:20.881 \u001b[0m\u001b[32m[7224/rf_model/135701 (pid 13685)] \u001b[0m\u001b[1mTask is starting.\u001b[0m\n",
      "\u001b[35m2022-03-16 11:45:23.444 \u001b[0m\u001b[32m[7224/rf_model/135701 (pid 13685)] \u001b[0m\u001b[22m[9fa11152-5499-4d99-b95c-7d3974c5c619] Task is starting (status SUBMITTED)...\u001b[0m\n",
      "\u001b[35m2022-03-16 11:45:24.491 \u001b[0m\u001b[32m[7224/rf_model/135701 (pid 13685)] \u001b[0m\u001b[22m[9fa11152-5499-4d99-b95c-7d3974c5c619] Task is starting (status RUNNABLE)...\u001b[0m\n",
      "\u001b[35m2022-03-16 11:45:26.604 \u001b[0m\u001b[32m[7224/rf_model/135701 (pid 13685)] \u001b[0m\u001b[22m[9fa11152-5499-4d99-b95c-7d3974c5c619] Task is starting (status STARTING)...\u001b[0m\n",
      "\u001b[35m2022-03-16 11:45:30.879 \u001b[0m\u001b[32m[7224/rf_model/135701 (pid 13685)] \u001b[0m\u001b[22m[9fa11152-5499-4d99-b95c-7d3974c5c619] Task is starting (status RUNNING)...\u001b[0m\n",
      "\u001b[35m2022-03-16 11:45:29.148 \u001b[0m\u001b[32m[7224/rf_model/135701 (pid 13685)] \u001b[0m\u001b[22m[9fa11152-5499-4d99-b95c-7d3974c5c619] Setting up task environment.\u001b[0m\n",
      "\u001b[35m2022-03-16 11:45:38.061 \u001b[0m\u001b[32m[7224/rf_model/135701 (pid 13685)] \u001b[0m\u001b[22m[9fa11152-5499-4d99-b95c-7d3974c5c619] Downloading code package...\u001b[0m\n",
      "\u001b[35m2022-03-16 11:45:38.702 \u001b[0m\u001b[32m[7224/rf_model/135701 (pid 13685)] \u001b[0m\u001b[22m[9fa11152-5499-4d99-b95c-7d3974c5c619] Code package downloaded.\u001b[0m\n",
      "\u001b[35m2022-03-16 11:45:38.717 \u001b[0m\u001b[32m[7224/rf_model/135701 (pid 13685)] \u001b[0m\u001b[22m[9fa11152-5499-4d99-b95c-7d3974c5c619] Task is starting.\u001b[0m\n",
      "\u001b[35m2022-03-16 11:45:39.176 \u001b[0m\u001b[32m[7224/rf_model/135701 (pid 13685)] \u001b[0m\u001b[22m[9fa11152-5499-4d99-b95c-7d3974c5c619] Bootstrapping environment...\u001b[0m\n",
      "\u001b[35m2022-03-16 11:46:18.332 \u001b[0m\u001b[32m[7224/rf_model/135701 (pid 13685)] \u001b[0m\u001b[22m[9fa11152-5499-4d99-b95c-7d3974c5c619] Environment bootstrapped.\u001b[0m\n",
      "\u001b[35m2022-03-16 11:46:31.291 \u001b[0m\u001b[32m[7224/rf_model/135701 (pid 13685)] \u001b[0m\u001b[22m[9fa11152-5499-4d99-b95c-7d3974c5c619] Task finished with exit code 0.\u001b[0m\n",
      "\u001b[35m2022-03-16 11:46:34.422 \u001b[0m\u001b[32m[7224/rf_model/135701 (pid 13685)] \u001b[0m\u001b[1mTask finished successfully.\u001b[0m\n",
      "\u001b[35m2022-03-16 11:46:38.847 \u001b[0m\u001b[32m[7224/train/135702 (pid 13693)] \u001b[0m\u001b[1mTask is starting.\u001b[0m\n",
      "\u001b[35m2022-03-16 11:46:41.496 \u001b[0m\u001b[32m[7224/train/135702 (pid 13693)] \u001b[0m\u001b[22m[caa6fb13-2e62-4601-a27c-ccbfd2d11807] Task is starting (status SUBMITTED)...\u001b[0m\n",
      "\u001b[35m2022-03-16 11:46:43.580 \u001b[0m\u001b[32m[7224/train/135702 (pid 13693)] \u001b[0m\u001b[22m[caa6fb13-2e62-4601-a27c-ccbfd2d11807] Task is starting (status RUNNABLE)...\u001b[0m\n",
      "\u001b[35m2022-03-16 11:46:45.697 \u001b[0m\u001b[32m[7224/train/135702 (pid 13693)] \u001b[0m\u001b[22m[caa6fb13-2e62-4601-a27c-ccbfd2d11807] Task is starting (status STARTING)...\u001b[0m\n",
      "\u001b[35m2022-03-16 11:46:47.803 \u001b[0m\u001b[32m[7224/train/135702 (pid 13693)] \u001b[0m\u001b[22m[caa6fb13-2e62-4601-a27c-ccbfd2d11807] Task is starting (status RUNNING)...\u001b[0m\n",
      "\u001b[35m2022-03-16 11:46:46.208 \u001b[0m\u001b[32m[7224/train/135702 (pid 13693)] \u001b[0m\u001b[22m[caa6fb13-2e62-4601-a27c-ccbfd2d11807] Setting up task environment.\u001b[0m\n",
      "\u001b[35m2022-03-16 11:46:55.245 \u001b[0m\u001b[32m[7224/train/135702 (pid 13693)] \u001b[0m\u001b[22m[caa6fb13-2e62-4601-a27c-ccbfd2d11807] Downloading code package...\u001b[0m\n",
      "\u001b[35m2022-03-16 11:46:55.881 \u001b[0m\u001b[32m[7224/train/135702 (pid 13693)] \u001b[0m\u001b[22m[caa6fb13-2e62-4601-a27c-ccbfd2d11807] Code package downloaded.\u001b[0m\n",
      "\u001b[35m2022-03-16 11:46:55.899 \u001b[0m\u001b[32m[7224/train/135702 (pid 13693)] \u001b[0m\u001b[22m[caa6fb13-2e62-4601-a27c-ccbfd2d11807] Task is starting.\u001b[0m\n",
      "\u001b[35m2022-03-16 11:46:56.358 \u001b[0m\u001b[32m[7224/train/135702 (pid 13693)] \u001b[0m\u001b[22m[caa6fb13-2e62-4601-a27c-ccbfd2d11807] Bootstrapping environment...\u001b[0m\n",
      "\u001b[35m2022-03-16 11:47:36.097 \u001b[0m\u001b[32m[7224/train/135702 (pid 13693)] \u001b[0m\u001b[22m[caa6fb13-2e62-4601-a27c-ccbfd2d11807] Environment bootstrapped.\u001b[0m\n",
      "\u001b[35m2022-03-16 11:47:49.508 \u001b[0m\u001b[32m[7224/train/135702 (pid 13693)] \u001b[0m\u001b[22m[caa6fb13-2e62-4601-a27c-ccbfd2d11807] Task finished with exit code 0.\u001b[0m\n",
      "\u001b[35m2022-03-16 11:47:52.902 \u001b[0m\u001b[32m[7224/train/135702 (pid 13693)] \u001b[0m\u001b[1mTask finished successfully.\u001b[0m\n",
      "\u001b[35m2022-03-16 11:47:57.170 \u001b[0m\u001b[32m[7224/end/135703 (pid 13705)] \u001b[0m\u001b[1mTask is starting.\u001b[0m\n",
      "\u001b[35m2022-03-16 11:47:59.619 \u001b[0m\u001b[32m[7224/end/135703 (pid 13705)] \u001b[0m\u001b[22m[e745ae89-c646-4c36-b8ee-d863bd772f81] Task is starting (status SUBMITTED)...\u001b[0m\n",
      "\u001b[35m2022-03-16 11:48:00.670 \u001b[0m\u001b[32m[7224/end/135703 (pid 13705)] \u001b[0m\u001b[22m[e745ae89-c646-4c36-b8ee-d863bd772f81] Task is starting (status RUNNABLE)...\u001b[0m\n",
      "\u001b[35m2022-03-16 11:48:03.834 \u001b[0m\u001b[32m[7224/end/135703 (pid 13705)] \u001b[0m\u001b[22m[e745ae89-c646-4c36-b8ee-d863bd772f81] Task is starting (status STARTING)...\u001b[0m\n",
      "\u001b[35m2022-03-16 11:48:07.019 \u001b[0m\u001b[32m[7224/end/135703 (pid 13705)] \u001b[0m\u001b[22m[e745ae89-c646-4c36-b8ee-d863bd772f81] Task is starting (status RUNNING)...\u001b[0m\n",
      "\u001b[35m2022-03-16 11:48:06.155 \u001b[0m\u001b[32m[7224/end/135703 (pid 13705)] \u001b[0m\u001b[22m[e745ae89-c646-4c36-b8ee-d863bd772f81] Setting up task environment.\u001b[0m\n",
      "\u001b[35m2022-03-16 11:48:15.348 \u001b[0m\u001b[32m[7224/end/135703 (pid 13705)] \u001b[0m\u001b[22m[e745ae89-c646-4c36-b8ee-d863bd772f81] Downloading code package...\u001b[0m\n",
      "\u001b[35m2022-03-16 11:48:15.985 \u001b[0m\u001b[32m[7224/end/135703 (pid 13705)] \u001b[0m\u001b[22m[e745ae89-c646-4c36-b8ee-d863bd772f81] Code package downloaded.\u001b[0m\n",
      "\u001b[35m2022-03-16 11:48:16.000 \u001b[0m\u001b[32m[7224/end/135703 (pid 13705)] \u001b[0m\u001b[22m[e745ae89-c646-4c36-b8ee-d863bd772f81] Task is starting.\u001b[0m\n",
      "\u001b[35m2022-03-16 11:48:16.463 \u001b[0m\u001b[32m[7224/end/135703 (pid 13705)] \u001b[0m\u001b[22m[e745ae89-c646-4c36-b8ee-d863bd772f81] Bootstrapping environment...\u001b[0m\n",
      "\u001b[35m2022-03-16 11:48:47.818 \u001b[0m\u001b[32m[7224/end/135703 (pid 13705)] \u001b[0m\u001b[22m[e745ae89-c646-4c36-b8ee-d863bd772f81] Environment bootstrapped.\u001b[0m\n",
      "\u001b[35m2022-03-16 11:48:49.114 \u001b[0m\u001b[32m[7224/end/135703 (pid 13705)] \u001b[0m\u001b[22m[e745ae89-c646-4c36-b8ee-d863bd772f81] ClassificationFlow is all done.\u001b[0m\n",
      "\u001b[35m2022-03-16 11:48:56.948 \u001b[0m\u001b[32m[7224/end/135703 (pid 13705)] \u001b[0m\u001b[22m[e745ae89-c646-4c36-b8ee-d863bd772f81] Task finished with exit code 0.\u001b[0m\n",
      "\u001b[35m2022-03-16 11:49:00.187 \u001b[0m\u001b[32m[7224/end/135703 (pid 13705)] \u001b[0m\u001b[1mTask finished successfully.\u001b[0m\n",
      "\u001b[35m2022-03-16 11:49:01.644 \u001b[0m\u001b[1mDone!\u001b[0m\n",
      "\u001b[0m"
     ]
    }
   ],
   "source": [
    "! python flows/cloud/rf_flow_cloud.py --environment=conda run --with batch"
   ]
  },
  {
   "cell_type": "code",
   "execution_count": 4,
   "id": "b1756870-9d37-48bf-b58b-0561e2db5264",
   "metadata": {},
   "outputs": [
    {
     "name": "stdout",
     "output_type": "stream",
     "text": [
      "Writing flows/cloud/tree_branch_flow_cloud.py\n"
     ]
    }
   ],
   "source": [
    "%%writefile flows/cloud/tree_branch_flow_cloud.py\n",
    "\n",
    "from metaflow import FlowSpec, step, Parameter, JSONType, IncludeFile, card, conda, conda_base\n",
    "import json\n",
    "\n",
    "\n",
    "\n",
    "\n",
    "\n",
    "class ClassificationFlow(FlowSpec):\n",
    "    \"\"\"\n",
    "    train multiple tree based methods\n",
    "    \"\"\"\n",
    "    @conda(libraries={'scikit-learn':'1.0.2'}) \n",
    "    @card \n",
    "    @step\n",
    "    def start(self):\n",
    "        \"\"\"\n",
    "        Load the data\n",
    "        \"\"\"\n",
    "        #Import scikit-learn dataset library\n",
    "        from sklearn import datasets\n",
    "\n",
    "        #Load dataset\n",
    "        self.iris = datasets.load_iris()\n",
    "        self.X = self.iris['data']\n",
    "        self.y = self.iris['target']\n",
    "        self.next(self.rf_model, self.xt_model, self.dt_model)\n",
    "    \n",
    "    @conda(libraries={'scikit-learn':'1.0.2'})             \n",
    "    @step\n",
    "    def rf_model(self):\n",
    "        \"\"\"\n",
    "        build random forest model\n",
    "        \"\"\"\n",
    "        from sklearn.ensemble import RandomForestClassifier\n",
    "        from sklearn.model_selection import cross_val_score\n",
    "        \n",
    "        self.clf = RandomForestClassifier(n_estimators=10, max_depth=None,\n",
    "            min_samples_split=2, random_state=0)\n",
    "        self.scores = cross_val_score(self.clf, self.X, self.y, cv=5)\n",
    "        self.next(self.choose_model)\n",
    "    \n",
    "    @conda(libraries={'scikit-learn':'1.0.2'}) \n",
    "    @step\n",
    "    def xt_model(self):\n",
    "        \"\"\"\n",
    "        build extra trees classifier\n",
    "        \"\"\"\n",
    "        from sklearn.ensemble import ExtraTreesClassifier\n",
    "        from sklearn.model_selection import cross_val_score\n",
    "        \n",
    "\n",
    "        self.clf = ExtraTreesClassifier(n_estimators=10, max_depth=None,\n",
    "            min_samples_split=2, random_state=0)\n",
    "\n",
    "        self.scores = cross_val_score(self.clf, self.X, self.y, cv=5)\n",
    "        self.next(self.choose_model)\n",
    "    \n",
    "    @conda(libraries={'scikit-learn':'1.0.2'}) \n",
    "    @step\n",
    "    def dt_model(self):\n",
    "        \"\"\"\n",
    "        build decision tree classifier\n",
    "        \"\"\"\n",
    "        from sklearn.tree import DecisionTreeClassifier\n",
    "        from sklearn.model_selection import cross_val_score\n",
    "        \n",
    "        self.clf = DecisionTreeClassifier(max_depth=None, min_samples_split=2,\n",
    "            random_state=0)\n",
    "\n",
    "        self.scores = cross_val_score(self.clf, self.X, self.y, cv=5)\n",
    "\n",
    "        self.next(self.choose_model)\n",
    "\n",
    "    @conda(libraries={'scikit-learn':'1.0.2'})                         \n",
    "    @step\n",
    "    def choose_model(self, inputs):\n",
    "        \"\"\"\n",
    "        find 'best' model\n",
    "        \"\"\"\n",
    "        import numpy as np\n",
    "\n",
    "        def score(inp):\n",
    "            return inp.clf,\\\n",
    "                   np.mean(inp.scores)\n",
    "\n",
    "            \n",
    "        self.results = sorted(map(score, inputs), key=lambda x: -x[1]) \n",
    "        self.model = self.results[0][0]\n",
    "        self.next(self.end)\n",
    "\n",
    "    @conda(libraries={'scikit-learn':'1.0.2'})         \n",
    "    @step\n",
    "    def end(self):\n",
    "        \"\"\"\n",
    "        End of flow, yo!\n",
    "        \"\"\"\n",
    "        print('Scores:')\n",
    "        print('\\n'.join('%s %f' % res for res in self.results))\n",
    "\n",
    "\n",
    "if __name__ == \"__main__\":\n",
    "    ClassificationFlow()"
   ]
  },
  {
   "cell_type": "markdown",
   "id": "9c9fd048-0f2c-4775-81ba-dd429a28689f",
   "metadata": {},
   "source": [
    "Execute the above from the command line with\n",
    "\n",
    "```bash\n",
    "python flows/cloud/tree_branch_flow_cloud.py --environment=conda run --with batch\n",
    "```"
   ]
  },
  {
   "cell_type": "code",
   "execution_count": 5,
   "id": "acc2061e-ab30-421e-9d25-803cf7c834f3",
   "metadata": {},
   "outputs": [
    {
     "name": "stdout",
     "output_type": "stream",
     "text": [
      "\u001b[35m\u001b[1mMetaflow 2.5.0\u001b[0m\u001b[35m\u001b[22m executing \u001b[0m\u001b[31m\u001b[1mClassificationFlow\u001b[0m\u001b[35m\u001b[22m\u001b[0m\u001b[35m\u001b[22m for \u001b[0m\u001b[31m\u001b[1muser:hba\u001b[0m\u001b[35m\u001b[22m\u001b[K\u001b[0m\u001b[35m\u001b[22m\u001b[0m\n",
      "\u001b[35m\u001b[22mValidating your flow...\u001b[K\u001b[0m\u001b[35m\u001b[22m\u001b[0m\n",
      "\u001b[32m\u001b[1m    The graph looks good!\u001b[K\u001b[0m\u001b[32m\u001b[1m\u001b[0m\n",
      "\u001b[35m\u001b[22mRunning pylint...\u001b[K\u001b[0m\u001b[35m\u001b[22m\u001b[0m\n",
      "\u001b[32m\u001b[1m    Pylint is happy!\u001b[K\u001b[0m\u001b[32m\u001b[1m\u001b[0m\n",
      "\u001b[22mBootstrapping conda environment...(this could take a few minutes)\u001b[K\u001b[0m\u001b[22m\u001b[0m\n",
      "\u001b[35m2022-03-16 11:50:02.709 \u001b[0m\u001b[1mWorkflow starting (run-id 7225):\u001b[0m\n",
      "\u001b[35m2022-03-16 11:50:14.018 \u001b[0m\u001b[32m[7225/start/135705 (pid 13733)] \u001b[0m\u001b[1mTask is starting.\u001b[0m\n",
      "\u001b[35m2022-03-16 11:50:16.538 \u001b[0m\u001b[32m[7225/start/135705 (pid 13733)] \u001b[0m\u001b[22m[86b488ca-24a6-4219-8738-9782818ed21b] Task is starting (status SUBMITTED)...\u001b[0m\n",
      "\u001b[35m2022-03-16 11:50:18.644 \u001b[0m\u001b[32m[7225/start/135705 (pid 13733)] \u001b[0m\u001b[22m[86b488ca-24a6-4219-8738-9782818ed21b] Task is starting (status RUNNABLE)...\u001b[0m\n",
      "\u001b[35m2022-03-16 11:50:20.766 \u001b[0m\u001b[32m[7225/start/135705 (pid 13733)] \u001b[0m\u001b[22m[86b488ca-24a6-4219-8738-9782818ed21b] Task is starting (status STARTING)...\u001b[0m\n",
      "\u001b[35m2022-03-16 11:50:22.874 \u001b[0m\u001b[32m[7225/start/135705 (pid 13733)] \u001b[0m\u001b[22m[86b488ca-24a6-4219-8738-9782818ed21b] Task is starting (status RUNNING)...\u001b[0m\n",
      "\u001b[35m2022-03-16 11:50:21.951 \u001b[0m\u001b[32m[7225/start/135705 (pid 13733)] \u001b[0m\u001b[22m[86b488ca-24a6-4219-8738-9782818ed21b] Setting up task environment.\u001b[0m\n",
      "\u001b[35m2022-03-16 11:50:31.052 \u001b[0m\u001b[32m[7225/start/135705 (pid 13733)] \u001b[0m\u001b[22m[86b488ca-24a6-4219-8738-9782818ed21b] Downloading code package...\u001b[0m\n",
      "\u001b[35m2022-03-16 11:50:31.719 \u001b[0m\u001b[32m[7225/start/135705 (pid 13733)] \u001b[0m\u001b[22m[86b488ca-24a6-4219-8738-9782818ed21b] Code package downloaded.\u001b[0m\n",
      "\u001b[35m2022-03-16 11:50:31.735 \u001b[0m\u001b[32m[7225/start/135705 (pid 13733)] \u001b[0m\u001b[22m[86b488ca-24a6-4219-8738-9782818ed21b] Task is starting.\u001b[0m\n",
      "\u001b[35m2022-03-16 11:50:32.195 \u001b[0m\u001b[32m[7225/start/135705 (pid 13733)] \u001b[0m\u001b[22m[86b488ca-24a6-4219-8738-9782818ed21b] Bootstrapping environment...\u001b[0m\n",
      "\u001b[35m2022-03-16 11:51:12.132 \u001b[0m\u001b[32m[7225/start/135705 (pid 13733)] \u001b[0m\u001b[22m[86b488ca-24a6-4219-8738-9782818ed21b] Environment bootstrapped.\u001b[0m\n",
      "\u001b[35m2022-03-16 11:51:26.808 \u001b[0m\u001b[32m[7225/start/135705 (pid 13733)] \u001b[0m\u001b[22m[86b488ca-24a6-4219-8738-9782818ed21b] Task finished with exit code 0.\u001b[0m\n",
      "\u001b[35m2022-03-16 11:51:30.014 \u001b[0m\u001b[32m[7225/start/135705 (pid 13733)] \u001b[0m\u001b[1mTask finished successfully.\u001b[0m\n",
      "\u001b[35m2022-03-16 11:51:34.651 \u001b[0m\u001b[32m[7225/rf_model/135706 (pid 13742)] \u001b[0m\u001b[1mTask is starting.\u001b[0m\n",
      "\u001b[35m2022-03-16 11:51:37.877 \u001b[0m\u001b[32m[7225/xt_model/135707 (pid 13747)] \u001b[0m\u001b[1mTask is starting.\u001b[0m\n",
      "\u001b[35m2022-03-16 11:51:41.080 \u001b[0m\u001b[32m[7225/dt_model/135708 (pid 13752)] \u001b[0m\u001b[1mTask is starting.\u001b[0m\n",
      "\u001b[35m2022-03-16 11:51:41.081 \u001b[0m\u001b[32m[7225/rf_model/135706 (pid 13742)] \u001b[0m\u001b[22m[f45ea87e-67b5-44c9-a64c-0da28226139d] Task is starting (status SUBMITTED)...\u001b[0m\n",
      "\u001b[35m2022-03-16 11:51:41.081 \u001b[0m\u001b[32m[7225/xt_model/135707 (pid 13747)] \u001b[0m\u001b[22m[3bfc21bd-2df9-4596-9592-19a704b01f0f] Task is starting (status SUBMITTED)...\u001b[0m\n",
      "\u001b[35m2022-03-16 11:51:41.352 \u001b[0m\u001b[32m[7225/rf_model/135706 (pid 13742)] \u001b[0m\u001b[22m[f45ea87e-67b5-44c9-a64c-0da28226139d] Task is starting (status STARTING)...\u001b[0m\n",
      "\u001b[35m2022-03-16 11:51:41.352 \u001b[0m\u001b[32m[7225/rf_model/135706 (pid 13742)] \u001b[0m\u001b[22m[f45ea87e-67b5-44c9-a64c-0da28226139d] Task is starting (status RUNNING)...\u001b[0m\n",
      "\u001b[35m2022-03-16 11:51:43.567 \u001b[0m\u001b[32m[7225/dt_model/135708 (pid 13752)] \u001b[0m\u001b[22m[53955fa4-f74e-4866-8953-437a21789b4b] Task is starting (status SUBMITTED)...\u001b[0m\n",
      "\u001b[35m2022-03-16 11:51:44.556 \u001b[0m\u001b[32m[7225/xt_model/135707 (pid 13747)] \u001b[0m\u001b[22m[3bfc21bd-2df9-4596-9592-19a704b01f0f] Task is starting (status RUNNABLE)...\u001b[0m\n",
      "\u001b[35m2022-03-16 11:51:44.627 \u001b[0m\u001b[32m[7225/dt_model/135708 (pid 13752)] \u001b[0m\u001b[22m[53955fa4-f74e-4866-8953-437a21789b4b] Task is starting (status RUNNABLE)...\u001b[0m\n",
      "\u001b[35m2022-03-16 11:52:14.698 \u001b[0m\u001b[32m[7225/xt_model/135707 (pid 13747)] \u001b[0m\u001b[22m[3bfc21bd-2df9-4596-9592-19a704b01f0f] Task is starting (status RUNNABLE)...\u001b[0m\n",
      "\u001b[35m2022-03-16 11:52:14.781 \u001b[0m\u001b[32m[7225/dt_model/135708 (pid 13752)] \u001b[0m\u001b[22m[53955fa4-f74e-4866-8953-437a21789b4b] Task is starting (status RUNNABLE)...\u001b[0m\n",
      "\u001b[35m2022-03-16 11:51:40.151 \u001b[0m\u001b[32m[7225/rf_model/135706 (pid 13742)] \u001b[0m\u001b[22m[f45ea87e-67b5-44c9-a64c-0da28226139d] Setting up task environment.\u001b[0m\n",
      "\u001b[35m2022-03-16 11:51:50.312 \u001b[0m\u001b[32m[7225/rf_model/135706 (pid 13742)] \u001b[0m\u001b[22m[f45ea87e-67b5-44c9-a64c-0da28226139d] Downloading code package...\u001b[0m\n",
      "\u001b[35m2022-03-16 11:51:50.950 \u001b[0m\u001b[32m[7225/rf_model/135706 (pid 13742)] \u001b[0m\u001b[22m[f45ea87e-67b5-44c9-a64c-0da28226139d] Code package downloaded.\u001b[0m\n",
      "\u001b[35m2022-03-16 11:51:50.966 \u001b[0m\u001b[32m[7225/rf_model/135706 (pid 13742)] \u001b[0m\u001b[22m[f45ea87e-67b5-44c9-a64c-0da28226139d] Task is starting.\u001b[0m\n",
      "\u001b[35m2022-03-16 11:51:51.430 \u001b[0m\u001b[32m[7225/rf_model/135706 (pid 13742)] \u001b[0m\u001b[22m[f45ea87e-67b5-44c9-a64c-0da28226139d] Bootstrapping environment...\u001b[0m\n",
      "\u001b[35m2022-03-16 11:52:30.557 \u001b[0m\u001b[32m[7225/rf_model/135706 (pid 13742)] \u001b[0m\u001b[22m[f45ea87e-67b5-44c9-a64c-0da28226139d] Environment bootstrapped.\u001b[0m\n",
      "\u001b[35m2022-03-16 11:52:41.753 \u001b[0m\u001b[32m[7225/rf_model/135706 (pid 13742)] \u001b[0m\u001b[22m[f45ea87e-67b5-44c9-a64c-0da28226139d] Task finished with exit code 0.\u001b[0m\n",
      "\u001b[35m2022-03-16 11:52:44.854 \u001b[0m\u001b[32m[7225/rf_model/135706 (pid 13742)] \u001b[0m\u001b[1mTask finished successfully.\u001b[0m\n",
      "\u001b[35m2022-03-16 11:52:46.188 \u001b[0m\u001b[32m[7225/xt_model/135707 (pid 13747)] \u001b[0m\u001b[22m[3bfc21bd-2df9-4596-9592-19a704b01f0f] Task is starting (status RUNNABLE)...\u001b[0m\n",
      "\u001b[35m2022-03-16 11:52:46.189 \u001b[0m\u001b[32m[7225/dt_model/135708 (pid 13752)] \u001b[0m\u001b[22m[53955fa4-f74e-4866-8953-437a21789b4b] Task is starting (status RUNNABLE)...\u001b[0m\n",
      "\u001b[35m2022-03-16 11:52:49.963 \u001b[0m\u001b[32m[7225/xt_model/135707 (pid 13747)] \u001b[0m\u001b[22m[3bfc21bd-2df9-4596-9592-19a704b01f0f] Task is starting (status STARTING)...\u001b[0m\n",
      "\u001b[35m2022-03-16 11:52:52.071 \u001b[0m\u001b[32m[7225/xt_model/135707 (pid 13747)] \u001b[0m\u001b[22m[3bfc21bd-2df9-4596-9592-19a704b01f0f] Task is starting (status RUNNING)...\u001b[0m\n",
      "\u001b[35m2022-03-16 11:53:15.409 \u001b[0m\u001b[32m[7225/dt_model/135708 (pid 13752)] \u001b[0m\u001b[22m[53955fa4-f74e-4866-8953-437a21789b4b] Task is starting (status RUNNABLE)...\u001b[0m\n",
      "\u001b[35m2022-03-16 11:52:50.937 \u001b[0m\u001b[32m[7225/xt_model/135707 (pid 13747)] \u001b[0m\u001b[22m[3bfc21bd-2df9-4596-9592-19a704b01f0f] Setting up task environment.\u001b[0m\n",
      "\u001b[35m2022-03-16 11:53:00.132 \u001b[0m\u001b[32m[7225/xt_model/135707 (pid 13747)] \u001b[0m\u001b[22m[3bfc21bd-2df9-4596-9592-19a704b01f0f] Downloading code package...\u001b[0m\n",
      "\u001b[35m2022-03-16 11:53:45.581 \u001b[0m\u001b[32m[7225/dt_model/135708 (pid 13752)] \u001b[0m\u001b[22m[53955fa4-f74e-4866-8953-437a21789b4b] Task is starting (status RUNNABLE)...\u001b[0m\n",
      "\u001b[35m2022-03-16 11:53:00.749 \u001b[0m\u001b[32m[7225/xt_model/135707 (pid 13747)] \u001b[0m\u001b[22m[3bfc21bd-2df9-4596-9592-19a704b01f0f] Code package downloaded.\u001b[0m\n",
      "\u001b[35m2022-03-16 11:53:00.764 \u001b[0m\u001b[32m[7225/xt_model/135707 (pid 13747)] \u001b[0m\u001b[22m[3bfc21bd-2df9-4596-9592-19a704b01f0f] Task is starting.\u001b[0m\n",
      "\u001b[35m2022-03-16 11:53:01.242 \u001b[0m\u001b[32m[7225/xt_model/135707 (pid 13747)] \u001b[0m\u001b[22m[3bfc21bd-2df9-4596-9592-19a704b01f0f] Bootstrapping environment...\u001b[0m\n",
      "\u001b[35m2022-03-16 11:53:40.466 \u001b[0m\u001b[32m[7225/xt_model/135707 (pid 13747)] \u001b[0m\u001b[22m[3bfc21bd-2df9-4596-9592-19a704b01f0f] Environment bootstrapped.\u001b[0m\n",
      "\u001b[35m2022-03-16 11:53:48.580 \u001b[0m\u001b[32m[7225/xt_model/135707 (pid 13747)] \u001b[0m\u001b[22m[3bfc21bd-2df9-4596-9592-19a704b01f0f] Task finished with exit code 0.\u001b[0m\n",
      "\u001b[35m2022-03-16 11:53:51.777 \u001b[0m\u001b[32m[7225/xt_model/135707 (pid 13747)] \u001b[0m\u001b[1mTask finished successfully.\u001b[0m\n",
      "\u001b[35m2022-03-16 11:53:53.223 \u001b[0m\u001b[32m[7225/dt_model/135708 (pid 13752)] \u001b[0m\u001b[22m[53955fa4-f74e-4866-8953-437a21789b4b] Task is starting (status STARTING)...\u001b[0m\n",
      "\u001b[35m2022-03-16 11:53:53.429 \u001b[0m\u001b[32m[7225/dt_model/135708 (pid 13752)] \u001b[0m\u001b[22m[53955fa4-f74e-4866-8953-437a21789b4b] Task is starting (status RUNNING)...\u001b[0m\n",
      "\u001b[35m2022-03-16 11:53:51.560 \u001b[0m\u001b[32m[7225/dt_model/135708 (pid 13752)] \u001b[0m\u001b[22m[53955fa4-f74e-4866-8953-437a21789b4b] Setting up task environment.\u001b[0m\n",
      "\u001b[35m2022-03-16 11:54:00.388 \u001b[0m\u001b[32m[7225/dt_model/135708 (pid 13752)] \u001b[0m\u001b[22m[53955fa4-f74e-4866-8953-437a21789b4b] Downloading code package...\u001b[0m\n",
      "\u001b[35m2022-03-16 11:54:00.998 \u001b[0m\u001b[32m[7225/dt_model/135708 (pid 13752)] \u001b[0m\u001b[22m[53955fa4-f74e-4866-8953-437a21789b4b] Code package downloaded.\u001b[0m\n",
      "\u001b[35m2022-03-16 11:54:01.013 \u001b[0m\u001b[32m[7225/dt_model/135708 (pid 13752)] \u001b[0m\u001b[22m[53955fa4-f74e-4866-8953-437a21789b4b] Task is starting.\u001b[0m\n",
      "\u001b[35m2022-03-16 11:54:01.472 \u001b[0m\u001b[32m[7225/dt_model/135708 (pid 13752)] \u001b[0m\u001b[22m[53955fa4-f74e-4866-8953-437a21789b4b] Bootstrapping environment...\u001b[0m\n",
      "\u001b[35m2022-03-16 11:54:40.833 \u001b[0m\u001b[32m[7225/dt_model/135708 (pid 13752)] \u001b[0m\u001b[22m[53955fa4-f74e-4866-8953-437a21789b4b] Environment bootstrapped.\u001b[0m\n",
      "\u001b[35m2022-03-16 11:54:49.215 \u001b[0m\u001b[32m[7225/dt_model/135708 (pid 13752)] \u001b[0m\u001b[22m[53955fa4-f74e-4866-8953-437a21789b4b] Task finished with exit code 0.\u001b[0m\n",
      "\u001b[35m2022-03-16 11:54:52.233 \u001b[0m\u001b[32m[7225/dt_model/135708 (pid 13752)] \u001b[0m\u001b[1mTask finished successfully.\u001b[0m\n",
      "\u001b[35m2022-03-16 11:54:56.877 \u001b[0m\u001b[32m[7225/choose_model/135709 (pid 13770)] \u001b[0m\u001b[1mTask is starting.\u001b[0m\n",
      "\u001b[35m2022-03-16 11:54:59.416 \u001b[0m\u001b[32m[7225/choose_model/135709 (pid 13770)] \u001b[0m\u001b[22m[44affb12-a424-4aaa-aba5-8fae4d238ebd] Task is starting (status SUBMITTED)...\u001b[0m\n",
      "\u001b[35m2022-03-16 11:55:00.469 \u001b[0m\u001b[32m[7225/choose_model/135709 (pid 13770)] \u001b[0m\u001b[22m[44affb12-a424-4aaa-aba5-8fae4d238ebd] Task is starting (status RUNNABLE)...\u001b[0m\n",
      "\u001b[35m2022-03-16 11:55:01.522 \u001b[0m\u001b[32m[7225/choose_model/135709 (pid 13770)] \u001b[0m\u001b[22m[44affb12-a424-4aaa-aba5-8fae4d238ebd] Task is starting (status STARTING)...\u001b[0m\n",
      "\u001b[35m2022-03-16 11:55:23.605 \u001b[0m\u001b[32m[7225/choose_model/135709 (pid 13770)] \u001b[0m\u001b[22m[44affb12-a424-4aaa-aba5-8fae4d238ebd] Task is starting (status RUNNING)...\u001b[0m\n",
      "\u001b[35m2022-03-16 11:55:22.712 \u001b[0m\u001b[32m[7225/choose_model/135709 (pid 13770)] \u001b[0m\u001b[22m[44affb12-a424-4aaa-aba5-8fae4d238ebd] Setting up task environment.\u001b[0m\n",
      "\u001b[35m2022-03-16 11:55:31.575 \u001b[0m\u001b[32m[7225/choose_model/135709 (pid 13770)] \u001b[0m\u001b[22m[44affb12-a424-4aaa-aba5-8fae4d238ebd] Downloading code package...\u001b[0m\n",
      "\u001b[35m2022-03-16 11:55:32.174 \u001b[0m\u001b[32m[7225/choose_model/135709 (pid 13770)] \u001b[0m\u001b[22m[44affb12-a424-4aaa-aba5-8fae4d238ebd] Code package downloaded.\u001b[0m\n",
      "\u001b[35m2022-03-16 11:55:32.190 \u001b[0m\u001b[32m[7225/choose_model/135709 (pid 13770)] \u001b[0m\u001b[22m[44affb12-a424-4aaa-aba5-8fae4d238ebd] Task is starting.\u001b[0m\n",
      "\u001b[35m2022-03-16 11:55:32.641 \u001b[0m\u001b[32m[7225/choose_model/135709 (pid 13770)] \u001b[0m\u001b[22m[44affb12-a424-4aaa-aba5-8fae4d238ebd] Bootstrapping environment...\u001b[0m\n",
      "\u001b[35m2022-03-16 11:56:12.594 \u001b[0m\u001b[32m[7225/choose_model/135709 (pid 13770)] \u001b[0m\u001b[22m[44affb12-a424-4aaa-aba5-8fae4d238ebd] Environment bootstrapped.\u001b[0m\n",
      "\u001b[35m2022-03-16 11:56:25.097 \u001b[0m\u001b[32m[7225/choose_model/135709 (pid 13770)] \u001b[0m\u001b[22m[44affb12-a424-4aaa-aba5-8fae4d238ebd] Task finished with exit code 0.\u001b[0m\n",
      "\u001b[35m2022-03-16 11:56:28.200 \u001b[0m\u001b[32m[7225/choose_model/135709 (pid 13770)] \u001b[0m\u001b[1mTask finished successfully.\u001b[0m\n",
      "\u001b[35m2022-03-16 11:56:32.616 \u001b[0m\u001b[32m[7225/end/135710 (pid 13784)] \u001b[0m\u001b[1mTask is starting.\u001b[0m\n",
      "\u001b[35m2022-03-16 11:56:35.083 \u001b[0m\u001b[32m[7225/end/135710 (pid 13784)] \u001b[0m\u001b[22m[08b7d852-0a5c-45fd-83b0-241d9a7a7faa] Task is starting (status SUBMITTED)...\u001b[0m\n",
      "\u001b[35m2022-03-16 11:56:38.265 \u001b[0m\u001b[32m[7225/end/135710 (pid 13784)] \u001b[0m\u001b[22m[08b7d852-0a5c-45fd-83b0-241d9a7a7faa] Task is starting (status RUNNABLE)...\u001b[0m\n",
      "\u001b[35m2022-03-16 11:56:39.314 \u001b[0m\u001b[32m[7225/end/135710 (pid 13784)] \u001b[0m\u001b[22m[08b7d852-0a5c-45fd-83b0-241d9a7a7faa] Task is starting (status STARTING)...\u001b[0m\n",
      "\u001b[35m2022-03-16 11:56:42.484 \u001b[0m\u001b[32m[7225/end/135710 (pid 13784)] \u001b[0m\u001b[22m[08b7d852-0a5c-45fd-83b0-241d9a7a7faa] Task is starting (status RUNNING)...\u001b[0m\n",
      "\u001b[35m2022-03-16 11:56:41.687 \u001b[0m\u001b[32m[7225/end/135710 (pid 13784)] \u001b[0m\u001b[22m[08b7d852-0a5c-45fd-83b0-241d9a7a7faa] Setting up task environment.\u001b[0m\n",
      "\u001b[35m2022-03-16 11:56:50.544 \u001b[0m\u001b[32m[7225/end/135710 (pid 13784)] \u001b[0m\u001b[22m[08b7d852-0a5c-45fd-83b0-241d9a7a7faa] Downloading code package...\u001b[0m\n",
      "\u001b[35m2022-03-16 11:56:51.145 \u001b[0m\u001b[32m[7225/end/135710 (pid 13784)] \u001b[0m\u001b[22m[08b7d852-0a5c-45fd-83b0-241d9a7a7faa] Code package downloaded.\u001b[0m\n",
      "\u001b[35m2022-03-16 11:56:51.160 \u001b[0m\u001b[32m[7225/end/135710 (pid 13784)] \u001b[0m\u001b[22m[08b7d852-0a5c-45fd-83b0-241d9a7a7faa] Task is starting.\u001b[0m\n",
      "\u001b[35m2022-03-16 11:56:51.613 \u001b[0m\u001b[32m[7225/end/135710 (pid 13784)] \u001b[0m\u001b[22m[08b7d852-0a5c-45fd-83b0-241d9a7a7faa] Bootstrapping environment...\u001b[0m\n",
      "\u001b[35m2022-03-16 11:57:30.699 \u001b[0m\u001b[32m[7225/end/135710 (pid 13784)] \u001b[0m\u001b[22m[08b7d852-0a5c-45fd-83b0-241d9a7a7faa] Environment bootstrapped.\u001b[0m\n",
      "\u001b[35m2022-03-16 11:57:31.890 \u001b[0m\u001b[32m[7225/end/135710 (pid 13784)] \u001b[0m\u001b[22m[08b7d852-0a5c-45fd-83b0-241d9a7a7faa] Scores:\u001b[0m\n",
      "\u001b[35m2022-03-16 11:57:32.418 \u001b[0m\u001b[32m[7225/end/135710 (pid 13784)] \u001b[0m\u001b[22m[08b7d852-0a5c-45fd-83b0-241d9a7a7faa] DecisionTreeClassifier(random_state=0) 0.960000\u001b[0m\n",
      "\u001b[35m2022-03-16 11:57:32.418 \u001b[0m\u001b[32m[7225/end/135710 (pid 13784)] \u001b[0m\u001b[22m[08b7d852-0a5c-45fd-83b0-241d9a7a7faa] RandomForestClassifier(n_estimators=10, random_state=0) 0.953333\u001b[0m\n",
      "\u001b[35m2022-03-16 11:57:32.419 \u001b[0m\u001b[32m[7225/end/135710 (pid 13784)] \u001b[0m\u001b[22m[08b7d852-0a5c-45fd-83b0-241d9a7a7faa] ExtraTreesClassifier(n_estimators=10, random_state=0) 0.953333\u001b[0m\n",
      "\u001b[35m2022-03-16 11:57:42.195 \u001b[0m\u001b[32m[7225/end/135710 (pid 13784)] \u001b[0m\u001b[22m[08b7d852-0a5c-45fd-83b0-241d9a7a7faa] Task finished with exit code 0.\u001b[0m\n",
      "\u001b[35m2022-03-16 11:57:45.207 \u001b[0m\u001b[32m[7225/end/135710 (pid 13784)] \u001b[0m\u001b[1mTask finished successfully.\u001b[0m\n",
      "\u001b[35m2022-03-16 11:57:46.345 \u001b[0m\u001b[1mDone!\u001b[0m\n",
      "\u001b[0m"
     ]
    }
   ],
   "source": [
    "! python flows/cloud/tree_branch_flow_cloud.py --environment=conda run --with batch"
   ]
  }
 ],
 "metadata": {
  "kernelspec": {
   "display_name": "Python [conda env:mf-tutorial-test] *",
   "language": "python",
   "name": "conda-env-mf-tutorial-test-py"
  },
  "language_info": {
   "codemirror_mode": {
    "name": "ipython",
    "version": 3
   },
   "file_extension": ".py",
   "mimetype": "text/x-python",
   "name": "python",
   "nbconvert_exporter": "python",
   "pygments_lexer": "ipython3",
   "version": "3.8.10"
  }
 },
 "nbformat": 4,
 "nbformat_minor": 5
}
