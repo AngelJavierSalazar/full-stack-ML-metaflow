{
 "cells": [
  {
   "cell_type": "markdown",
   "id": "b78d30c4-4b6c-4ed2-a61a-6e434f6db9d3",
   "metadata": {},
   "source": [
    "# Metaflow and the MLOps ecosystem"
   ]
  },
  {
   "cell_type": "markdown",
   "id": "c1aae4cc-32d8-4c93-8c4c-3096557e6656",
   "metadata": {},
   "source": [
    "_Human-centricity_ is a foundational principle of Metaflow. As a result, MF strives to be compatible with all the other ML tools that you already use (and ones you may want to use!). In this lesson, we'll show how to incorporate 2 _types of tools_, those for \n",
    "* experiment tracking and\n",
    "* data validation.\n",
    "\n",
    "We'll be using Weights & Biases for the former and Great Expectations for the latter, but keep in mind that Metaflow is agnostic with respect to the other tools you use. Let's jump in:"
   ]
  },
  {
   "cell_type": "markdown",
   "id": "c332dddb-cea3-4cb0-ac41-ef8af6db24fc",
   "metadata": {},
   "source": [
    "## Experiment Tracking"
   ]
  },
  {
   "cell_type": "markdown",
   "id": "5c3755bb-e811-4e66-8b8e-25cf7f8d3b27",
   "metadata": {},
   "source": [
    "[TO-DO: provide brief intro to experiment tracking]"
   ]
  },
  {
   "cell_type": "markdown",
   "id": "adfde6ba-7bad-4122-b503-690e948fe498",
   "metadata": {},
   "source": [
    "Note that I've already logged into wandb using my terminal. \n",
    "\n",
    "[TO DO: include instructions on this, or a link, or instructions on putting credentials as env vars]"
   ]
  },
  {
   "cell_type": "code",
   "execution_count": 10,
   "id": "e6a57436-3384-4d2d-bebc-6c5280c3e85c",
   "metadata": {},
   "outputs": [
    {
     "name": "stdout",
     "output_type": "stream",
     "text": [
      "Overwriting ../flows/rf_flow_monitor.py\n"
     ]
    }
   ],
   "source": [
    "%%writefile ../flows/rf_flow_monitor.py\n",
    "from metaflow import FlowSpec, step, Parameter, JSONType, IncludeFile, card\n",
    "import json\n",
    "\n",
    "class ClassificationFlow(FlowSpec):\n",
    "    \"\"\"\n",
    "    train a random forest\n",
    "    \"\"\"\n",
    "    @card \n",
    "    @step\n",
    "    def start(self):\n",
    "        \"\"\"\n",
    "        Load the data\n",
    "        \"\"\"\n",
    "        #Import scikit-learn dataset library\n",
    "        from sklearn import datasets\n",
    "        from sklearn.model_selection import train_test_split\n",
    "\n",
    "        #Load dataset\n",
    "        self.iris = datasets.load_iris()\n",
    "        self.X = self.iris['data']\n",
    "        self.y = self.iris['target']\n",
    "        self.labels = self.iris['target_names']\n",
    "\n",
    "        self.X_train, self.X_test, self.y_train, self.y_test = train_test_split(self.X, self.y, test_size=0.2)\n",
    "        self.next(self.rf_model)\n",
    "        \n",
    "\n",
    "    @step\n",
    "    def rf_model(self):\n",
    "        \"\"\"\n",
    "        build random forest model\n",
    "        \"\"\"\n",
    "        from sklearn.ensemble import RandomForestClassifier\n",
    "        \n",
    "        \n",
    "        self.clf = RandomForestClassifier(n_estimators=10, max_depth=None,\n",
    "            min_samples_split=2, random_state=0)\n",
    "        self.next(self.train)\n",
    "\n",
    "        \n",
    "        \n",
    "    @step\n",
    "    def train(self):\n",
    "        \"\"\"\n",
    "        Train the model\n",
    "        \"\"\"\n",
    "        import wandb\n",
    "        from sklearn.model_selection import cross_val_score\n",
    "        self.clf.fit(self.X_train, self.y_train)\n",
    "        self.y_pred = self.clf.predict(self.X_test)\n",
    "        self.y_probs = self.clf.predict_proba(self.X_test)\n",
    "        self.next(self.monitor)\n",
    "        \n",
    "\n",
    "    \n",
    "        \n",
    "    @step\n",
    "    def monitor(self):\n",
    "        \"\"\"\n",
    "        plot some things using an experiment tracker\n",
    "        \n",
    "        \"\"\"\n",
    "        import wandb\n",
    "        wandb.init(project=\"mf-rf-wandb\", entity=\"hugobowne\", name=\"mf-tutorial-iris\")\n",
    "\n",
    "        wandb.sklearn.plot_class_proportions(self.y_train, self.y_test, self.labels)\n",
    "        wandb.sklearn.plot_learning_curve(self.clf, self.X_train, self.y_train)\n",
    "        wandb.sklearn.plot_roc(self.y_test, self.y_probs, self.labels)\n",
    "        wandb.sklearn.plot_precision_recall(self.y_test, self.y_probs, self.labels)\n",
    "        wandb.sklearn.plot_feature_importances(self.clf)\n",
    "\n",
    "        wandb.sklearn.plot_classifier(self.clf, \n",
    "                              self.X_train, self.X_test, \n",
    "                              self.y_train, self.y_test, \n",
    "                              self.y_pred, self.y_probs, \n",
    "                              self.labels, \n",
    "                              is_binary=True, \n",
    "                              model_name='RandomForest')\n",
    "\n",
    "        wandb.finish()\n",
    "        self.next(self.end)\n",
    "    \n",
    "    @step\n",
    "    def end(self):\n",
    "        \"\"\"\n",
    "        End of flow, yo!\n",
    "        \"\"\"\n",
    "        print(\"ClassificationFlow is all done.\")\n",
    "\n",
    "\n",
    "if __name__ == \"__main__\":\n",
    "    ClassificationFlow()\n"
   ]
  },
  {
   "cell_type": "markdown",
   "id": "94dd347c-d95f-4a6e-92be-e803c55b5e96",
   "metadata": {},
   "source": [
    "Execute the above from the command line with\n",
    "\n",
    "```bash\n",
    "! python ../flows/rf_flow_monitor.py run\n",
    "```"
   ]
  },
  {
   "cell_type": "code",
   "execution_count": 11,
   "id": "0c94e4be-e6fd-4cfe-b45b-98bbe2ac4efa",
   "metadata": {},
   "outputs": [
    {
     "name": "stdout",
     "output_type": "stream",
     "text": [
      "\u001b[35m\u001b[1mMetaflow 2.5.0\u001b[0m\u001b[35m\u001b[22m executing \u001b[0m\u001b[31m\u001b[1mClassificationFlow\u001b[0m\u001b[35m\u001b[22m\u001b[0m\u001b[35m\u001b[22m for \u001b[0m\u001b[31m\u001b[1muser:hba\u001b[0m\u001b[35m\u001b[22m\u001b[K\u001b[0m\u001b[35m\u001b[22m\u001b[0m\n",
      "\u001b[35m\u001b[22mValidating your flow...\u001b[K\u001b[0m\u001b[35m\u001b[22m\u001b[0m\n",
      "\u001b[32m\u001b[1m    The graph looks good!\u001b[K\u001b[0m\u001b[32m\u001b[1m\u001b[0m\n",
      "\u001b[35m\u001b[22mRunning pylint...\u001b[K\u001b[0m\u001b[35m\u001b[22m\u001b[0m\n",
      "\u001b[32m\u001b[1m    Pylint is happy!\u001b[K\u001b[0m\u001b[32m\u001b[1m\u001b[0m\n",
      "\u001b[35m2022-03-23 10:58:51.705 \u001b[0m\u001b[1mWorkflow starting (run-id 1647993531702023):\u001b[0m\n",
      "\u001b[35m2022-03-23 10:58:51.714 \u001b[0m\u001b[32m[1647993531702023/start/1 (pid 2066)] \u001b[0m\u001b[1mTask is starting.\u001b[0m\n",
      "\u001b[35m2022-03-23 10:58:53.619 \u001b[0m\u001b[32m[1647993531702023/start/1 (pid 2066)] \u001b[0m\u001b[1mTask finished successfully.\u001b[0m\n",
      "\u001b[35m2022-03-23 10:58:53.628 \u001b[0m\u001b[32m[1647993531702023/rf_model/2 (pid 2075)] \u001b[0m\u001b[1mTask is starting.\u001b[0m\n",
      "\u001b[35m2022-03-23 10:58:54.597 \u001b[0m\u001b[32m[1647993531702023/rf_model/2 (pid 2075)] \u001b[0m\u001b[1mTask finished successfully.\u001b[0m\n",
      "\u001b[35m2022-03-23 10:58:54.607 \u001b[0m\u001b[32m[1647993531702023/train/3 (pid 2079)] \u001b[0m\u001b[1mTask is starting.\u001b[0m\n",
      "\u001b[35m2022-03-23 10:58:55.990 \u001b[0m\u001b[32m[1647993531702023/train/3 (pid 2079)] \u001b[0m\u001b[1mTask finished successfully.\u001b[0m\n",
      "\u001b[35m2022-03-23 10:58:55.998 \u001b[0m\u001b[32m[1647993531702023/monitor/4 (pid 2085)] \u001b[0m\u001b[1mTask is starting.\u001b[0m\n",
      "\u001b[35m2022-03-23 10:58:57.428 \u001b[0m\u001b[32m[1647993531702023/monitor/4 (pid 2085)] \u001b[0m\u001b[22mwandb: Currently logged in as: hugobowne (use `wandb login --relogin` to force relogin)\u001b[0m\n",
      "\u001b[35m2022-03-23 10:59:01.953 \u001b[0m\u001b[32m[1647993531702023/monitor/4 (pid 2085)] \u001b[0m\u001b[22mwandb: Tracking run with wandb version 0.12.11\u001b[0m\n",
      "\u001b[35m2022-03-23 10:59:01.953 \u001b[0m\u001b[32m[1647993531702023/monitor/4 (pid 2085)] \u001b[0m\u001b[22mwandb: Run data is saved locally in /Users/hba/Documents/Projects/full-stack-ML-metaflow-tutorial-main/notebooks/wandb/run-20220323_105857-3jrloqzu\u001b[0m\n",
      "\u001b[35m2022-03-23 10:59:01.954 \u001b[0m\u001b[32m[1647993531702023/monitor/4 (pid 2085)] \u001b[0m\u001b[22mwandb: Run `wandb offline` to turn off syncing.\u001b[0m\n",
      "\u001b[35m2022-03-23 10:59:01.954 \u001b[0m\u001b[32m[1647993531702023/monitor/4 (pid 2085)] \u001b[0m\u001b[22mwandb: Syncing run mf-tutorial-iris\u001b[0m\n",
      "\u001b[35m2022-03-23 10:59:05.142 \u001b[0m\u001b[32m[1647993531702023/monitor/4 (pid 2085)] \u001b[0m\u001b[22mwandb: ⭐️ View project at https://wandb.ai/hugobowne/mf-rf-wandb\u001b[0m\n",
      "\u001b[35m2022-03-23 10:59:05.144 \u001b[0m\u001b[32m[1647993531702023/monitor/4 (pid 2085)] \u001b[0m\u001b[22mwandb: 🚀 View run at https://wandb.ai/hugobowne/mf-rf-wandb/runs/3jrloqzu\u001b[0m\n",
      "\u001b[35m2022-03-23 10:59:05.144 \u001b[0m\u001b[32m[1647993531702023/monitor/4 (pid 2085)] \u001b[0m\u001b[22m\u001b[34m\u001b[1mwandb\u001b[0m: \u001b[33mWARNING\u001b[0m wandb.plots.* functions are deprecated and will be removed in a future release. Please use wandb.plot.* instead.\u001b[0m\n",
      "\u001b[35m2022-03-23 10:59:07.930 \u001b[0m\u001b[32m[1647993531702023/monitor/4 (pid 2085)] \u001b[0m\u001b[22m\u001b[34m\u001b[1mwandb\u001b[0m:\u001b[0m\n",
      "\u001b[35m2022-03-23 10:59:09.315 \u001b[0m\u001b[32m[1647993531702023/monitor/4 (pid 2085)] \u001b[0m\u001b[22m\u001b[34m\u001b[1mwandb\u001b[0m: Plotting RandomForest.\u001b[0m\n",
      "\u001b[35m2022-03-23 10:59:09.315 \u001b[0m\u001b[32m[1647993531702023/monitor/4 (pid 2085)] \u001b[0m\u001b[22m\u001b[34m\u001b[1mwandb\u001b[0m: Logged feature importances.\u001b[0m\n",
      "\u001b[35m2022-03-23 10:59:10.106 \u001b[0m\u001b[32m[1647993531702023/monitor/4 (pid 2085)] \u001b[0m\u001b[22m\u001b[34m\u001b[1mwandb\u001b[0m: Logged confusion matrix.\u001b[0m\n",
      "\u001b[35m2022-03-23 10:59:10.905 \u001b[0m\u001b[32m[1647993531702023/monitor/4 (pid 2085)] \u001b[0m\u001b[22m\u001b[34m\u001b[1mwandb\u001b[0m: Logged summary metrics.\u001b[0m\n",
      "\u001b[35m2022-03-23 10:59:11.665 \u001b[0m\u001b[32m[1647993531702023/monitor/4 (pid 2085)] \u001b[0m\u001b[22m\u001b[34m\u001b[1mwandb\u001b[0m: Logged class proportions.\u001b[0m\n",
      "\u001b[35m2022-03-23 10:59:11.666 \u001b[0m\u001b[32m[1647993531702023/monitor/4 (pid 2085)] \u001b[0m\u001b[22m\u001b[34m\u001b[1mwandb\u001b[0m: \u001b[33mWARNING\u001b[0m This function only supports binary classification at the moment and therefore expects labels to be binary. Skipping calibration curve.\u001b[0m\n",
      "\u001b[35m2022-03-23 10:59:12.438 \u001b[0m\u001b[32m[1647993531702023/monitor/4 (pid 2085)] \u001b[0m\u001b[22m\u001b[34m\u001b[1mwandb\u001b[0m: Logged calibration curve.\u001b[0m\n",
      "\u001b[35m2022-03-23 10:59:12.438 \u001b[0m\u001b[32m[1647993531702023/monitor/4 (pid 2085)] \u001b[0m\u001b[22m\u001b[34m\u001b[1mwandb\u001b[0m: Logged roc curve.\u001b[0m\n",
      "\u001b[35m2022-03-23 10:59:13.194 \u001b[0m\u001b[32m[1647993531702023/monitor/4 (pid 2085)] \u001b[0m\u001b[22m\u001b[34m\u001b[1mwandb\u001b[0m: Logged precision-recall curve.\u001b[0m\n",
      "\u001b[35m2022-03-23 10:59:15.554 \u001b[0m\u001b[32m[1647993531702023/monitor/4 (pid 2085)] \u001b[0m\u001b[22m\u001b[0m\n",
      "\u001b[35m2022-03-23 10:59:15.554 \u001b[0m\u001b[32m[1647993531702023/monitor/4 (pid 2085)] \u001b[0m\u001b[22mwandb: Waiting for W&B process to finish... (success).\u001b[0m\n",
      "wandb:\u001b[0m.029 MB of 0.029 MB uploaded (0.000 MB deduped)onitor/4 (pid 2085)] \u001b[0m\u001b[22mwandb: - 0.011 MB of 0.011 MB uploaded (0.000 MB deduped)\n",
      "\u001b[35m2022-03-23 10:59:30.700 \u001b[0m\u001b[32m[1647993531702023/monitor/4 (pid 2085)] \u001b[0m\u001b[22mwandb: Synced mf-tutorial-iris: https://wandb.ai/hugobowne/mf-rf-wandb/runs/3jrloqzu\u001b[0m\n",
      "\u001b[35m2022-03-23 10:59:30.700 \u001b[0m\u001b[32m[1647993531702023/monitor/4 (pid 2085)] \u001b[0m\u001b[22mwandb: Synced 6 W&B file(s), 11 media file(s), 7 artifact file(s) and 0 other file(s)\u001b[0m\n",
      "\u001b[35m2022-03-23 10:59:30.700 \u001b[0m\u001b[32m[1647993531702023/monitor/4 (pid 2085)] \u001b[0m\u001b[22mwandb: Find logs at: ./wandb/run-20220323_105857-3jrloqzu/logs\u001b[0m\n",
      "\u001b[35m2022-03-23 10:59:30.914 \u001b[0m\u001b[32m[1647993531702023/monitor/4 (pid 2085)] \u001b[0m\u001b[1mTask finished successfully.\u001b[0m\n",
      "\u001b[35m2022-03-23 10:59:30.923 \u001b[0m\u001b[32m[1647993531702023/end/5 (pid 2107)] \u001b[0m\u001b[1mTask is starting.\u001b[0m\n",
      "\u001b[35m2022-03-23 10:59:31.439 \u001b[0m\u001b[32m[1647993531702023/end/5 (pid 2107)] \u001b[0m\u001b[22mClassificationFlow is all done.\u001b[0m\n",
      "\u001b[35m2022-03-23 10:59:31.527 \u001b[0m\u001b[32m[1647993531702023/end/5 (pid 2107)] \u001b[0m\u001b[1mTask finished successfully.\u001b[0m\n",
      "\u001b[35m2022-03-23 10:59:31.528 \u001b[0m\u001b[1mDone!\u001b[0m\n",
      "\u001b[0m"
     ]
    }
   ],
   "source": [
    "! python ../flows/rf_flow_monitor.py run"
   ]
  },
  {
   "cell_type": "code",
   "execution_count": 12,
   "id": "4d6ed88c-1cf1-491b-8c85-c1dfe142a294",
   "metadata": {},
   "outputs": [
    {
     "data": {
      "text/html": [
       "<iframe src=\"https://wandb.ai/hugobowne/mf-rf-wandb/workspace?jupyter=true\" style=\"border:none;width:100%;height:420px;\"></iframe>"
      ],
      "text/plain": [
       "<wandb.jupyter.IFrame at 0x7f79a802df70>"
      ]
     },
     "metadata": {},
     "output_type": "display_data"
    }
   ],
   "source": [
    "%wandb hugobowne/mf-rf-wandb"
   ]
  }
 ],
 "metadata": {
  "kernelspec": {
   "display_name": "Python 3 (ipykernel)",
   "language": "python",
   "name": "python3"
  },
  "language_info": {
   "codemirror_mode": {
    "name": "ipython",
    "version": 3
   },
   "file_extension": ".py",
   "mimetype": "text/x-python",
   "name": "python",
   "nbconvert_exporter": "python",
   "pygments_lexer": "ipython3",
   "version": "3.8.10"
  }
 },
 "nbformat": 4,
 "nbformat_minor": 5
}
