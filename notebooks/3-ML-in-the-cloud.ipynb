{
 "cells": [
  {
   "cell_type": "markdown",
   "id": "6968aa14-ef6d-4537-bc7e-61a5d9d314dd",
   "metadata": {},
   "source": [
    "## Writing Flows for the Cloud"
   ]
  },
  {
   "cell_type": "markdown",
   "id": "7a7885b6-2ff0-4551-a486-0529ccf89309",
   "metadata": {},
   "source": [
    "In this section, we'll show how to get Metaflow working on the cloud for when you need to access more compute, for example. We'll be using AWS for the purposes of this lesson. I've configured my AWS so that I can access it from this Jupyter notebook. To reproduce this, you'll need access to AWS instances\n",
    "\n",
    "**to do:** provide link to instructions on how to do this OR let them know about the Outerbounds sandbox ;)\n",
    "\n",
    "_note_: there's lots of stuff to explain here, e.g. `conda` decorator etc..."
   ]
  },
  {
   "cell_type": "markdown",
   "id": "32626d12-31ad-481b-a75d-5aeea1b648ca",
   "metadata": {},
   "source": [
    "### Random Forest flows on the cloud"
   ]
  },
  {
   "cell_type": "markdown",
   "id": "e4c868e0-5a3e-43e8-b5bf-8a34c6170166",
   "metadata": {},
   "source": [
    "In this section, we'll get our random forest flows up and running on AWS:"
   ]
  },
  {
   "cell_type": "code",
   "execution_count": 1,
   "id": "dd051a23-afc8-456f-bac1-37451f35d052",
   "metadata": {},
   "outputs": [
    {
     "name": "stdout",
     "output_type": "stream",
     "text": [
      "Overwriting ../flows/cloud/rf_flow_cloud.py\n"
     ]
    }
   ],
   "source": [
    "%%writefile ../flows/cloud/rf_flow_cloud.py\n",
    "\n",
    "from metaflow import FlowSpec, step, Parameter, JSONType, IncludeFile, card, conda, conda_base\n",
    "import json\n",
    "\n",
    "\n",
    "\n",
    "\n",
    "\n",
    "class ClassificationFlow(FlowSpec):\n",
    "    \"\"\"\n",
    "    train a random forest\n",
    "    \"\"\"\n",
    "    @conda(libraries={'scikit-learn':'1.0.2'}) \n",
    "    @card\n",
    "    @step\n",
    "    def start(self):\n",
    "        \"\"\"\n",
    "        Load the data\n",
    "        \"\"\"\n",
    "        #Import scikit-learn dataset library\n",
    "        from sklearn import datasets\n",
    "\n",
    "        #Load dataset\n",
    "        self.iris = datasets.load_iris()\n",
    "        self.X = self.iris['data']\n",
    "        self.y = self.iris['target']\n",
    "        self.next(self.rf_model)\n",
    "        \n",
    "    @conda(libraries={'scikit-learn':'1.0.2'})\n",
    "    @step\n",
    "    def rf_model(self):\n",
    "        \"\"\"\n",
    "        build random forest model\n",
    "        \"\"\"\n",
    "        from sklearn.ensemble import RandomForestClassifier\n",
    "        \n",
    "        self.clf = RandomForestClassifier(n_estimators=10, max_depth=None,\n",
    "            min_samples_split=2, random_state=0)\n",
    "        self.next(self.train)\n",
    "\n",
    "        \n",
    "    @conda(libraries={'scikit-learn':'1.0.2'})       \n",
    "    @step\n",
    "    def train(self):\n",
    "        \"\"\"\n",
    "        Train the model\n",
    "        \"\"\"\n",
    "        from sklearn.model_selection import cross_val_score\n",
    "        self.scores = cross_val_score(self.clf, self.X, self.y, cv=5)\n",
    "        self.next(self.end)\n",
    "        \n",
    "        \n",
    "    @step\n",
    "    def end(self):\n",
    "        \"\"\"\n",
    "        End of flow, yo!\n",
    "        \"\"\"\n",
    "        print(\"ClassificationFlow is all done.\")\n",
    "\n",
    "\n",
    "if __name__ == \"__main__\":\n",
    "    ClassificationFlow()"
   ]
  },
  {
   "cell_type": "markdown",
   "id": "5e5efc50-b867-4381-93b8-49cb6e457ce5",
   "metadata": {},
   "source": [
    "Execute the above from the command line with\n",
    "\n",
    "```bash\n",
    "python flows/cloud/rf_flow_cloud.py --environment=conda run --with batch\n",
    "```"
   ]
  },
  {
   "cell_type": "code",
   "execution_count": 2,
   "id": "d17677d4-b8f8-48eb-b3c8-5bc420b5f918",
   "metadata": {},
   "outputs": [
    {
     "name": "stdout",
     "output_type": "stream",
     "text": [
      "\u001b[35m\u001b[1mMetaflow 2.5.0\u001b[0m\u001b[35m\u001b[22m executing \u001b[0m\u001b[31m\u001b[1mClassificationFlow\u001b[0m\u001b[35m\u001b[22m\u001b[0m\u001b[35m\u001b[22m for \u001b[0m\u001b[31m\u001b[1muser:hba\u001b[0m\u001b[35m\u001b[22m\u001b[K\u001b[0m\u001b[35m\u001b[22m\u001b[0m\n",
      "\u001b[35m\u001b[22mValidating your flow...\u001b[K\u001b[0m\u001b[35m\u001b[22m\u001b[0m\n",
      "\u001b[32m\u001b[1m    The graph looks good!\u001b[K\u001b[0m\u001b[32m\u001b[1m\u001b[0m\n",
      "\u001b[35m\u001b[22mRunning pylint...\u001b[K\u001b[0m\u001b[35m\u001b[22m\u001b[0m\n",
      "\u001b[32m\u001b[1m    Pylint is happy!\u001b[K\u001b[0m\u001b[32m\u001b[1m\u001b[0m\n",
      "\u001b[22mBootstrapping conda environment...(this could take a few minutes)\u001b[K\u001b[0m\u001b[22m\u001b[0m\n",
      "\u001b[35m2022-03-16 18:15:14.489 \u001b[0m\u001b[1mWorkflow starting (run-id 7244):\u001b[0m\n",
      "\u001b[35m2022-03-16 18:15:21.130 \u001b[0m\u001b[32m[7244/start/135808 (pid 20305)] \u001b[0m\u001b[1mTask is starting.\u001b[0m\n",
      "\u001b[35m2022-03-16 18:15:23.826 \u001b[0m\u001b[32m[7244/start/135808 (pid 20305)] \u001b[0m\u001b[22m[ede20ec9-8453-47ea-aca9-538ceca0a7e8] Task is starting (status SUBMITTED)...\u001b[0m\n",
      "\u001b[35m2022-03-16 18:15:28.023 \u001b[0m\u001b[32m[7244/start/135808 (pid 20305)] \u001b[0m\u001b[22m[ede20ec9-8453-47ea-aca9-538ceca0a7e8] Task is starting (status RUNNABLE)...\u001b[0m\n",
      "\u001b[35m2022-03-16 18:15:58.040 \u001b[0m\u001b[32m[7244/start/135808 (pid 20305)] \u001b[0m\u001b[22m[ede20ec9-8453-47ea-aca9-538ceca0a7e8] Task is starting (status RUNNABLE)...\u001b[0m\n",
      "\u001b[35m2022-03-16 18:16:28.122 \u001b[0m\u001b[32m[7244/start/135808 (pid 20305)] \u001b[0m\u001b[22m[ede20ec9-8453-47ea-aca9-538ceca0a7e8] Task is starting (status RUNNABLE)...\u001b[0m\n",
      "\u001b[35m2022-03-16 18:16:58.211 \u001b[0m\u001b[32m[7244/start/135808 (pid 20305)] \u001b[0m\u001b[22m[ede20ec9-8453-47ea-aca9-538ceca0a7e8] Task is starting (status RUNNABLE)...\u001b[0m\n",
      "\u001b[35m2022-03-16 18:17:28.276 \u001b[0m\u001b[32m[7244/start/135808 (pid 20305)] \u001b[0m\u001b[22m[ede20ec9-8453-47ea-aca9-538ceca0a7e8] Task is starting (status RUNNABLE)...\u001b[0m\n",
      "\u001b[35m2022-03-16 18:17:58.407 \u001b[0m\u001b[32m[7244/start/135808 (pid 20305)] \u001b[0m\u001b[22m[ede20ec9-8453-47ea-aca9-538ceca0a7e8] Task is starting (status RUNNABLE)...\u001b[0m\n",
      "\u001b[35m2022-03-16 18:18:28.543 \u001b[0m\u001b[32m[7244/start/135808 (pid 20305)] \u001b[0m\u001b[22m[ede20ec9-8453-47ea-aca9-538ceca0a7e8] Task is starting (status RUNNABLE)...\u001b[0m\n",
      "\u001b[35m2022-03-16 18:18:58.950 \u001b[0m\u001b[32m[7244/start/135808 (pid 20305)] \u001b[0m\u001b[22m[ede20ec9-8453-47ea-aca9-538ceca0a7e8] Task is starting (status RUNNABLE)...\u001b[0m\n",
      "\u001b[35m2022-03-16 18:19:04.210 \u001b[0m\u001b[32m[7244/start/135808 (pid 20305)] \u001b[0m\u001b[22m[ede20ec9-8453-47ea-aca9-538ceca0a7e8] Task is starting (status STARTING)...\u001b[0m\n",
      "\u001b[35m2022-03-16 18:19:26.337 \u001b[0m\u001b[32m[7244/start/135808 (pid 20305)] \u001b[0m\u001b[22m[ede20ec9-8453-47ea-aca9-538ceca0a7e8] Task is starting (status RUNNING)...\u001b[0m\n",
      "\u001b[35m2022-03-16 18:19:24.920 \u001b[0m\u001b[32m[7244/start/135808 (pid 20305)] \u001b[0m\u001b[22m[ede20ec9-8453-47ea-aca9-538ceca0a7e8] Setting up task environment.\u001b[0m\n",
      "\u001b[35m2022-03-16 18:19:33.724 \u001b[0m\u001b[32m[7244/start/135808 (pid 20305)] \u001b[0m\u001b[22m[ede20ec9-8453-47ea-aca9-538ceca0a7e8] Downloading code package...\u001b[0m\n",
      "\u001b[35m2022-03-16 18:19:34.417 \u001b[0m\u001b[32m[7244/start/135808 (pid 20305)] \u001b[0m\u001b[22m[ede20ec9-8453-47ea-aca9-538ceca0a7e8] Code package downloaded.\u001b[0m\n",
      "\u001b[35m2022-03-16 18:19:34.433 \u001b[0m\u001b[32m[7244/start/135808 (pid 20305)] \u001b[0m\u001b[22m[ede20ec9-8453-47ea-aca9-538ceca0a7e8] Task is starting.\u001b[0m\n",
      "\u001b[35m2022-03-16 18:19:34.895 \u001b[0m\u001b[32m[7244/start/135808 (pid 20305)] \u001b[0m\u001b[22m[ede20ec9-8453-47ea-aca9-538ceca0a7e8] Bootstrapping environment...\u001b[0m\n",
      "\u001b[35m2022-03-16 18:20:14.994 \u001b[0m\u001b[32m[7244/start/135808 (pid 20305)] \u001b[0m\u001b[22m[ede20ec9-8453-47ea-aca9-538ceca0a7e8] Environment bootstrapped.\u001b[0m\n",
      "\u001b[35m2022-03-16 18:20:30.131 \u001b[0m\u001b[32m[7244/start/135808 (pid 20305)] \u001b[0m\u001b[22m[ede20ec9-8453-47ea-aca9-538ceca0a7e8] Task finished with exit code 0.\u001b[0m\n",
      "\u001b[35m2022-03-16 18:20:33.271 \u001b[0m\u001b[32m[7244/start/135808 (pid 20305)] \u001b[0m\u001b[1mTask finished successfully.\u001b[0m\n",
      "\u001b[35m2022-03-16 18:20:37.918 \u001b[0m\u001b[32m[7244/rf_model/135820 (pid 20413)] \u001b[0m\u001b[1mTask is starting.\u001b[0m\n",
      "\u001b[35m2022-03-16 18:20:40.472 \u001b[0m\u001b[32m[7244/rf_model/135820 (pid 20413)] \u001b[0m\u001b[22m[41344978-588b-4138-8315-3a20eeee788c] Task is starting (status SUBMITTED)...\u001b[0m\n",
      "\u001b[35m2022-03-16 18:20:43.654 \u001b[0m\u001b[32m[7244/rf_model/135820 (pid 20413)] \u001b[0m\u001b[22m[41344978-588b-4138-8315-3a20eeee788c] Task is starting (status RUNNABLE)...\u001b[0m\n",
      "\u001b[35m2022-03-16 18:20:48.939 \u001b[0m\u001b[32m[7244/rf_model/135820 (pid 20413)] \u001b[0m\u001b[22m[41344978-588b-4138-8315-3a20eeee788c] Task is starting (status STARTING)...\u001b[0m\n",
      "\u001b[35m2022-03-16 18:20:51.058 \u001b[0m\u001b[32m[7244/rf_model/135820 (pid 20413)] \u001b[0m\u001b[22m[41344978-588b-4138-8315-3a20eeee788c] Task is starting (status RUNNING)...\u001b[0m\n",
      "\u001b[35m2022-03-16 18:20:49.749 \u001b[0m\u001b[32m[7244/rf_model/135820 (pid 20413)] \u001b[0m\u001b[22m[41344978-588b-4138-8315-3a20eeee788c] Setting up task environment.\u001b[0m\n",
      "\u001b[35m2022-03-16 18:20:58.516 \u001b[0m\u001b[32m[7244/rf_model/135820 (pid 20413)] \u001b[0m\u001b[22m[41344978-588b-4138-8315-3a20eeee788c] Downloading code package...\u001b[0m\n",
      "\u001b[35m2022-03-16 18:20:59.138 \u001b[0m\u001b[32m[7244/rf_model/135820 (pid 20413)] \u001b[0m\u001b[22m[41344978-588b-4138-8315-3a20eeee788c] Code package downloaded.\u001b[0m\n",
      "\u001b[35m2022-03-16 18:20:59.154 \u001b[0m\u001b[32m[7244/rf_model/135820 (pid 20413)] \u001b[0m\u001b[22m[41344978-588b-4138-8315-3a20eeee788c] Task is starting.\u001b[0m\n",
      "\u001b[35m2022-03-16 18:20:59.615 \u001b[0m\u001b[32m[7244/rf_model/135820 (pid 20413)] \u001b[0m\u001b[22m[41344978-588b-4138-8315-3a20eeee788c] Bootstrapping environment...\u001b[0m\n",
      "\u001b[35m2022-03-16 18:21:42.289 \u001b[0m\u001b[32m[7244/rf_model/135820 (pid 20413)] \u001b[0m\u001b[22m[41344978-588b-4138-8315-3a20eeee788c] Environment bootstrapped.\u001b[0m\n",
      "\u001b[35m2022-03-16 18:21:55.048 \u001b[0m\u001b[32m[7244/rf_model/135820 (pid 20413)] \u001b[0m\u001b[22m[41344978-588b-4138-8315-3a20eeee788c] Task finished with exit code 0.\u001b[0m\n",
      "\u001b[35m2022-03-16 18:21:58.223 \u001b[0m\u001b[32m[7244/rf_model/135820 (pid 20413)] \u001b[0m\u001b[1mTask finished successfully.\u001b[0m\n",
      "\u001b[35m2022-03-16 18:22:02.657 \u001b[0m\u001b[32m[7244/train/135826 (pid 20449)] \u001b[0m\u001b[1mTask is starting.\u001b[0m\n",
      "\u001b[35m2022-03-16 18:22:05.151 \u001b[0m\u001b[32m[7244/train/135826 (pid 20449)] \u001b[0m\u001b[22m[ea1787b9-987a-4b35-ab73-225a8fad32b2] Task is starting (status SUBMITTED)...\u001b[0m\n",
      "\u001b[35m2022-03-16 18:22:06.207 \u001b[0m\u001b[32m[7244/train/135826 (pid 20449)] \u001b[0m\u001b[22m[ea1787b9-987a-4b35-ab73-225a8fad32b2] Task is starting (status RUNNABLE)...\u001b[0m\n",
      "\u001b[35m2022-03-16 18:22:11.490 \u001b[0m\u001b[32m[7244/train/135826 (pid 20449)] \u001b[0m\u001b[22m[ea1787b9-987a-4b35-ab73-225a8fad32b2] Task is starting (status STARTING)...\u001b[0m\n",
      "\u001b[35m2022-03-16 18:22:14.637 \u001b[0m\u001b[32m[7244/train/135826 (pid 20449)] \u001b[0m\u001b[22m[ea1787b9-987a-4b35-ab73-225a8fad32b2] Task is starting (status RUNNING)...\u001b[0m\n",
      "\u001b[35m2022-03-16 18:22:12.898 \u001b[0m\u001b[32m[7244/train/135826 (pid 20449)] \u001b[0m\u001b[22m[ea1787b9-987a-4b35-ab73-225a8fad32b2] Setting up task environment.\u001b[0m\n",
      "\u001b[35m2022-03-16 18:22:21.611 \u001b[0m\u001b[32m[7244/train/135826 (pid 20449)] \u001b[0m\u001b[22m[ea1787b9-987a-4b35-ab73-225a8fad32b2] Downloading code package...\u001b[0m\n",
      "\u001b[35m2022-03-16 18:22:22.264 \u001b[0m\u001b[32m[7244/train/135826 (pid 20449)] \u001b[0m\u001b[22m[ea1787b9-987a-4b35-ab73-225a8fad32b2] Code package downloaded.\u001b[0m\n",
      "\u001b[35m2022-03-16 18:22:22.280 \u001b[0m\u001b[32m[7244/train/135826 (pid 20449)] \u001b[0m\u001b[22m[ea1787b9-987a-4b35-ab73-225a8fad32b2] Task is starting.\u001b[0m\n",
      "\u001b[35m2022-03-16 18:22:22.740 \u001b[0m\u001b[32m[7244/train/135826 (pid 20449)] \u001b[0m\u001b[22m[ea1787b9-987a-4b35-ab73-225a8fad32b2] Bootstrapping environment...\u001b[0m\n",
      "\u001b[35m2022-03-16 18:23:03.421 \u001b[0m\u001b[32m[7244/train/135826 (pid 20449)] \u001b[0m\u001b[22m[ea1787b9-987a-4b35-ab73-225a8fad32b2] Environment bootstrapped.\u001b[0m\n",
      "\u001b[35m2022-03-16 18:23:16.289 \u001b[0m\u001b[32m[7244/train/135826 (pid 20449)] \u001b[0m\u001b[22m[ea1787b9-987a-4b35-ab73-225a8fad32b2] Task finished with exit code 0.\u001b[0m\n",
      "\u001b[35m2022-03-16 18:23:19.378 \u001b[0m\u001b[32m[7244/train/135826 (pid 20449)] \u001b[0m\u001b[1mTask finished successfully.\u001b[0m\n",
      "\u001b[35m2022-03-16 18:23:23.308 \u001b[0m\u001b[32m[7244/end/135829 (pid 20481)] \u001b[0m\u001b[1mTask is starting.\u001b[0m\n",
      "\u001b[35m2022-03-16 18:23:25.863 \u001b[0m\u001b[32m[7244/end/135829 (pid 20481)] \u001b[0m\u001b[22m[50837b5f-2f31-45e2-9f65-d58680e9c213] Task is starting (status SUBMITTED)...\u001b[0m\n",
      "\u001b[35m2022-03-16 18:23:29.033 \u001b[0m\u001b[32m[7244/end/135829 (pid 20481)] \u001b[0m\u001b[22m[50837b5f-2f31-45e2-9f65-d58680e9c213] Task is starting (status RUNNABLE)...\u001b[0m\n",
      "\u001b[35m2022-03-16 18:23:31.160 \u001b[0m\u001b[32m[7244/end/135829 (pid 20481)] \u001b[0m\u001b[22m[50837b5f-2f31-45e2-9f65-d58680e9c213] Task is starting (status STARTING)...\u001b[0m\n",
      "\u001b[35m2022-03-16 18:23:34.307 \u001b[0m\u001b[32m[7244/end/135829 (pid 20481)] \u001b[0m\u001b[22m[50837b5f-2f31-45e2-9f65-d58680e9c213] Task is starting (status RUNNING)...\u001b[0m\n",
      "\u001b[35m2022-03-16 18:23:32.933 \u001b[0m\u001b[32m[7244/end/135829 (pid 20481)] \u001b[0m\u001b[22m[50837b5f-2f31-45e2-9f65-d58680e9c213] Setting up task environment.\u001b[0m\n",
      "\u001b[35m2022-03-16 18:23:41.647 \u001b[0m\u001b[32m[7244/end/135829 (pid 20481)] \u001b[0m\u001b[22m[50837b5f-2f31-45e2-9f65-d58680e9c213] Downloading code package...\u001b[0m\n",
      "\u001b[35m2022-03-16 18:23:42.281 \u001b[0m\u001b[32m[7244/end/135829 (pid 20481)] \u001b[0m\u001b[22m[50837b5f-2f31-45e2-9f65-d58680e9c213] Code package downloaded.\u001b[0m\n",
      "\u001b[35m2022-03-16 18:23:42.297 \u001b[0m\u001b[32m[7244/end/135829 (pid 20481)] \u001b[0m\u001b[22m[50837b5f-2f31-45e2-9f65-d58680e9c213] Task is starting.\u001b[0m\n",
      "\u001b[35m2022-03-16 18:23:42.758 \u001b[0m\u001b[32m[7244/end/135829 (pid 20481)] \u001b[0m\u001b[22m[50837b5f-2f31-45e2-9f65-d58680e9c213] Bootstrapping environment...\u001b[0m\n",
      "\u001b[35m2022-03-16 18:24:14.407 \u001b[0m\u001b[32m[7244/end/135829 (pid 20481)] \u001b[0m\u001b[22m[50837b5f-2f31-45e2-9f65-d58680e9c213] Environment bootstrapped.\u001b[0m\n",
      "\u001b[35m2022-03-16 18:24:15.652 \u001b[0m\u001b[32m[7244/end/135829 (pid 20481)] \u001b[0m\u001b[22m[50837b5f-2f31-45e2-9f65-d58680e9c213] ClassificationFlow is all done.\u001b[0m\n",
      "\u001b[35m2022-03-16 18:24:24.387 \u001b[0m\u001b[32m[7244/end/135829 (pid 20481)] \u001b[0m\u001b[22m[50837b5f-2f31-45e2-9f65-d58680e9c213] Task finished with exit code 0.\u001b[0m\n",
      "\u001b[35m2022-03-16 18:24:27.438 \u001b[0m\u001b[32m[7244/end/135829 (pid 20481)] \u001b[0m\u001b[1mTask finished successfully.\u001b[0m\n",
      "\u001b[35m2022-03-16 18:24:28.616 \u001b[0m\u001b[1mDone!\u001b[0m\n",
      "\u001b[0m"
     ]
    }
   ],
   "source": [
    "! python ../flows/cloud/rf_flow_cloud.py --environment=conda run --with batch"
   ]
  },
  {
   "cell_type": "markdown",
   "id": "01ddc640-3f00-4543-8702-0011834a7d77",
   "metadata": {},
   "source": [
    "Let's also check out the Metaflow card:"
   ]
  },
  {
   "cell_type": "code",
   "execution_count": 3,
   "id": "37f8c9e7-643b-4b18-b5f7-192ac649425c",
   "metadata": {},
   "outputs": [
    {
     "name": "stdout",
     "output_type": "stream",
     "text": [
      "\u001b[35m\u001b[1mMetaflow 2.5.0\u001b[0m\u001b[35m\u001b[22m executing \u001b[0m\u001b[31m\u001b[1mClassificationFlow\u001b[0m\u001b[35m\u001b[22m\u001b[0m\u001b[35m\u001b[22m for \u001b[0m\u001b[31m\u001b[1muser:hba\u001b[0m\u001b[35m\u001b[22m\u001b[K\u001b[0m\u001b[35m\u001b[22m\u001b[0m\n",
      "\u001b[32m\u001b[22mResolving card: ClassificationFlow/7246/start/135822\u001b[K\u001b[0m\u001b[32m\u001b[22m\u001b[0m\n"
     ]
    }
   ],
   "source": [
    "! python ../flows/cloud/rf_flow_cloud.py --environment=conda card view start"
   ]
  },
  {
   "cell_type": "markdown",
   "id": "5c6482ec-6d41-4241-8a20-8de5c82d4b55",
   "metadata": {},
   "source": [
    "We'll also get our branching example working on AWS:"
   ]
  },
  {
   "cell_type": "code",
   "execution_count": 4,
   "id": "b1756870-9d37-48bf-b58b-0561e2db5264",
   "metadata": {},
   "outputs": [
    {
     "name": "stdout",
     "output_type": "stream",
     "text": [
      "Overwriting ../flows/cloud/tree_branch_flow_cloud.py\n"
     ]
    }
   ],
   "source": [
    "%%writefile ../flows/cloud/tree_branch_flow_cloud.py\n",
    "\n",
    "from metaflow import FlowSpec, step, Parameter, JSONType, IncludeFile, card, conda, conda_base\n",
    "import json\n",
    "\n",
    "\n",
    "\n",
    "\n",
    "\n",
    "class ClassificationFlow(FlowSpec):\n",
    "    \"\"\"\n",
    "    train multiple tree based methods\n",
    "    \"\"\"\n",
    "    @conda(libraries={'scikit-learn':'1.0.2'}) \n",
    "    @card \n",
    "    @step\n",
    "    def start(self):\n",
    "        \"\"\"\n",
    "        Load the data\n",
    "        \"\"\"\n",
    "        #Import scikit-learn dataset library\n",
    "        from sklearn import datasets\n",
    "\n",
    "        #Load dataset\n",
    "        self.iris = datasets.load_iris()\n",
    "        self.X = self.iris['data']\n",
    "        self.y = self.iris['target']\n",
    "        self.next(self.rf_model, self.xt_model, self.dt_model)\n",
    "    \n",
    "    @conda(libraries={'scikit-learn':'1.0.2'})             \n",
    "    @step\n",
    "    def rf_model(self):\n",
    "        \"\"\"\n",
    "        build random forest model\n",
    "        \"\"\"\n",
    "        from sklearn.ensemble import RandomForestClassifier\n",
    "        from sklearn.model_selection import cross_val_score\n",
    "        \n",
    "        self.clf = RandomForestClassifier(n_estimators=10, max_depth=None,\n",
    "            min_samples_split=2, random_state=0)\n",
    "        self.scores = cross_val_score(self.clf, self.X, self.y, cv=5)\n",
    "        self.next(self.choose_model)\n",
    "    \n",
    "    @conda(libraries={'scikit-learn':'1.0.2'}) \n",
    "    @step\n",
    "    def xt_model(self):\n",
    "        \"\"\"\n",
    "        build extra trees classifier\n",
    "        \"\"\"\n",
    "        from sklearn.ensemble import ExtraTreesClassifier\n",
    "        from sklearn.model_selection import cross_val_score\n",
    "        \n",
    "\n",
    "        self.clf = ExtraTreesClassifier(n_estimators=10, max_depth=None,\n",
    "            min_samples_split=2, random_state=0)\n",
    "\n",
    "        self.scores = cross_val_score(self.clf, self.X, self.y, cv=5)\n",
    "        self.next(self.choose_model)\n",
    "    \n",
    "    @conda(libraries={'scikit-learn':'1.0.2'}) \n",
    "    @step\n",
    "    def dt_model(self):\n",
    "        \"\"\"\n",
    "        build decision tree classifier\n",
    "        \"\"\"\n",
    "        from sklearn.tree import DecisionTreeClassifier\n",
    "        from sklearn.model_selection import cross_val_score\n",
    "        \n",
    "        self.clf = DecisionTreeClassifier(max_depth=None, min_samples_split=2,\n",
    "            random_state=0)\n",
    "\n",
    "        self.scores = cross_val_score(self.clf, self.X, self.y, cv=5)\n",
    "\n",
    "        self.next(self.choose_model)\n",
    "\n",
    "    @conda(libraries={'scikit-learn':'1.0.2'})                         \n",
    "    @step\n",
    "    def choose_model(self, inputs):\n",
    "        \"\"\"\n",
    "        find 'best' model\n",
    "        \"\"\"\n",
    "        import numpy as np\n",
    "\n",
    "        def score(inp):\n",
    "            return inp.clf,\\\n",
    "                   np.mean(inp.scores)\n",
    "\n",
    "            \n",
    "        self.results = sorted(map(score, inputs), key=lambda x: -x[1]) \n",
    "        self.model = self.results[0][0]\n",
    "        self.next(self.end)\n",
    "\n",
    "    @conda(libraries={'scikit-learn':'1.0.2'})         \n",
    "    @step\n",
    "    def end(self):\n",
    "        \"\"\"\n",
    "        End of flow, yo!\n",
    "        \"\"\"\n",
    "        print('Scores:')\n",
    "        print('\\n'.join('%s %f' % res for res in self.results))\n",
    "\n",
    "\n",
    "if __name__ == \"__main__\":\n",
    "    ClassificationFlow()"
   ]
  },
  {
   "cell_type": "markdown",
   "id": "9c9fd048-0f2c-4775-81ba-dd429a28689f",
   "metadata": {},
   "source": [
    "Execute the above from the command line with\n",
    "\n",
    "```bash\n",
    "python flows/cloud/tree_branch_flow_cloud.py --environment=conda run --with batch\n",
    "```"
   ]
  },
  {
   "cell_type": "code",
   "execution_count": 5,
   "id": "acc2061e-ab30-421e-9d25-803cf7c834f3",
   "metadata": {},
   "outputs": [
    {
     "name": "stdout",
     "output_type": "stream",
     "text": [
      "\u001b[35m\u001b[1mMetaflow 2.5.0\u001b[0m\u001b[35m\u001b[22m executing \u001b[0m\u001b[31m\u001b[1mClassificationFlow\u001b[0m\u001b[35m\u001b[22m\u001b[0m\u001b[35m\u001b[22m for \u001b[0m\u001b[31m\u001b[1muser:hba\u001b[0m\u001b[35m\u001b[22m\u001b[K\u001b[0m\u001b[35m\u001b[22m\u001b[0m\n",
      "\u001b[35m\u001b[22mValidating your flow...\u001b[K\u001b[0m\u001b[35m\u001b[22m\u001b[0m\n",
      "\u001b[32m\u001b[1m    The graph looks good!\u001b[K\u001b[0m\u001b[32m\u001b[1m\u001b[0m\n",
      "\u001b[35m\u001b[22mRunning pylint...\u001b[K\u001b[0m\u001b[35m\u001b[22m\u001b[0m\n",
      "\u001b[32m\u001b[1m    Pylint is happy!\u001b[K\u001b[0m\u001b[32m\u001b[1m\u001b[0m\n",
      "\u001b[22mBootstrapping conda environment...(this could take a few minutes)\u001b[K\u001b[0m\u001b[22m\u001b[0m\n",
      "\u001b[35m2022-03-16 18:25:09.372 \u001b[0m\u001b[1mWorkflow starting (run-id 7248):\u001b[0m\n",
      "\u001b[35m2022-03-16 18:25:15.966 \u001b[0m\u001b[32m[7248/start/135835 (pid 20541)] \u001b[0m\u001b[1mTask is starting.\u001b[0m\n",
      "\u001b[35m2022-03-16 18:25:18.510 \u001b[0m\u001b[32m[7248/start/135835 (pid 20541)] \u001b[0m\u001b[22m[5a84b95f-3876-45b8-b5ff-59f2a6b16577] Task is starting (status SUBMITTED)...\u001b[0m\n",
      "\u001b[35m2022-03-16 18:25:23.821 \u001b[0m\u001b[32m[7248/start/135835 (pid 20541)] \u001b[0m\u001b[22m[5a84b95f-3876-45b8-b5ff-59f2a6b16577] Task is starting (status RUNNABLE)...\u001b[0m\n",
      "\u001b[35m2022-03-16 18:25:27.012 \u001b[0m\u001b[32m[7248/start/135835 (pid 20541)] \u001b[0m\u001b[22m[5a84b95f-3876-45b8-b5ff-59f2a6b16577] Task is starting (status STARTING)...\u001b[0m\n",
      "\u001b[35m2022-03-16 18:25:29.121 \u001b[0m\u001b[32m[7248/start/135835 (pid 20541)] \u001b[0m\u001b[22m[5a84b95f-3876-45b8-b5ff-59f2a6b16577] Task is starting (status RUNNING)...\u001b[0m\n",
      "\u001b[35m2022-03-16 18:25:27.991 \u001b[0m\u001b[32m[7248/start/135835 (pid 20541)] \u001b[0m\u001b[22m[5a84b95f-3876-45b8-b5ff-59f2a6b16577] Setting up task environment.\u001b[0m\n",
      "\u001b[35m2022-03-16 18:25:36.805 \u001b[0m\u001b[32m[7248/start/135835 (pid 20541)] \u001b[0m\u001b[22m[5a84b95f-3876-45b8-b5ff-59f2a6b16577] Downloading code package...\u001b[0m\n",
      "\u001b[35m2022-03-16 18:25:37.489 \u001b[0m\u001b[32m[7248/start/135835 (pid 20541)] \u001b[0m\u001b[22m[5a84b95f-3876-45b8-b5ff-59f2a6b16577] Code package downloaded.\u001b[0m\n",
      "\u001b[35m2022-03-16 18:25:37.505 \u001b[0m\u001b[32m[7248/start/135835 (pid 20541)] \u001b[0m\u001b[22m[5a84b95f-3876-45b8-b5ff-59f2a6b16577] Task is starting.\u001b[0m\n",
      "\u001b[35m2022-03-16 18:25:37.971 \u001b[0m\u001b[32m[7248/start/135835 (pid 20541)] \u001b[0m\u001b[22m[5a84b95f-3876-45b8-b5ff-59f2a6b16577] Bootstrapping environment...\u001b[0m\n",
      "\u001b[35m2022-03-16 18:26:22.465 \u001b[0m\u001b[32m[7248/start/135835 (pid 20541)] \u001b[0m\u001b[22m[5a84b95f-3876-45b8-b5ff-59f2a6b16577] Environment bootstrapped.\u001b[0m\n",
      "\u001b[35m2022-03-16 18:26:37.631 \u001b[0m\u001b[32m[7248/start/135835 (pid 20541)] \u001b[0m\u001b[22m[5a84b95f-3876-45b8-b5ff-59f2a6b16577] Task finished with exit code 0.\u001b[0m\n",
      "\u001b[35m2022-03-16 18:26:40.806 \u001b[0m\u001b[32m[7248/start/135835 (pid 20541)] \u001b[0m\u001b[1mTask finished successfully.\u001b[0m\n",
      "\u001b[35m2022-03-16 18:26:45.365 \u001b[0m\u001b[32m[7248/rf_model/135838 (pid 20571)] \u001b[0m\u001b[1mTask is starting.\u001b[0m\n",
      "\u001b[35m2022-03-16 18:26:48.602 \u001b[0m\u001b[32m[7248/xt_model/135839 (pid 20576)] \u001b[0m\u001b[1mTask is starting.\u001b[0m\n",
      "\u001b[35m2022-03-16 18:26:51.877 \u001b[0m\u001b[32m[7248/dt_model/135840 (pid 20581)] \u001b[0m\u001b[1mTask is starting.\u001b[0m\n",
      "\u001b[35m2022-03-16 18:26:51.878 \u001b[0m\u001b[32m[7248/rf_model/135838 (pid 20571)] \u001b[0m\u001b[22m[912f7c53-5c7d-4564-8f2d-73f8b6005506] Task is starting (status SUBMITTED)...\u001b[0m\n",
      "\u001b[35m2022-03-16 18:26:51.878 \u001b[0m\u001b[32m[7248/xt_model/135839 (pid 20576)] \u001b[0m\u001b[22m[31e039df-a771-4093-90cd-f1e915160f0a] Task is starting (status SUBMITTED)...\u001b[0m\n",
      "\u001b[35m2022-03-16 18:26:52.206 \u001b[0m\u001b[32m[7248/xt_model/135839 (pid 20576)] \u001b[0m\u001b[22m[31e039df-a771-4093-90cd-f1e915160f0a] Task is starting (status RUNNABLE)...\u001b[0m\n",
      "\u001b[35m2022-03-16 18:26:52.355 \u001b[0m\u001b[32m[7248/rf_model/135838 (pid 20571)] \u001b[0m\u001b[22m[912f7c53-5c7d-4564-8f2d-73f8b6005506] Task is starting (status RUNNABLE)...\u001b[0m\n",
      "\u001b[35m2022-03-16 18:26:54.314 \u001b[0m\u001b[32m[7248/dt_model/135840 (pid 20581)] \u001b[0m\u001b[22m[47de29fe-005f-4821-91b9-c52d1c2fc0da] Task is starting (status SUBMITTED)...\u001b[0m\n",
      "\u001b[35m2022-03-16 18:26:55.511 \u001b[0m\u001b[32m[7248/rf_model/135838 (pid 20571)] \u001b[0m\u001b[22m[912f7c53-5c7d-4564-8f2d-73f8b6005506] Task is starting (status STARTING)...\u001b[0m\n",
      "\u001b[35m2022-03-16 18:26:57.609 \u001b[0m\u001b[32m[7248/rf_model/135838 (pid 20571)] \u001b[0m\u001b[22m[912f7c53-5c7d-4564-8f2d-73f8b6005506] Task is starting (status RUNNING)...\u001b[0m\n",
      "\u001b[35m2022-03-16 18:26:58.537 \u001b[0m\u001b[32m[7248/dt_model/135840 (pid 20581)] \u001b[0m\u001b[22m[47de29fe-005f-4821-91b9-c52d1c2fc0da] Task is starting (status RUNNABLE)...\u001b[0m\n",
      "\u001b[35m2022-03-16 18:27:22.285 \u001b[0m\u001b[32m[7248/xt_model/135839 (pid 20576)] \u001b[0m\u001b[22m[31e039df-a771-4093-90cd-f1e915160f0a] Task is starting (status RUNNABLE)...\u001b[0m\n",
      "\u001b[35m2022-03-16 18:27:28.703 \u001b[0m\u001b[32m[7248/dt_model/135840 (pid 20581)] \u001b[0m\u001b[22m[47de29fe-005f-4821-91b9-c52d1c2fc0da] Task is starting (status RUNNABLE)...\u001b[0m\n",
      "\u001b[35m2022-03-16 18:26:56.341 \u001b[0m\u001b[32m[7248/rf_model/135838 (pid 20571)] \u001b[0m\u001b[22m[912f7c53-5c7d-4564-8f2d-73f8b6005506] Setting up task environment.\u001b[0m\n",
      "\u001b[35m2022-03-16 18:27:05.362 \u001b[0m\u001b[32m[7248/rf_model/135838 (pid 20571)] \u001b[0m\u001b[22m[912f7c53-5c7d-4564-8f2d-73f8b6005506] Downloading code package...\u001b[0m\n",
      "\u001b[35m2022-03-16 18:27:06.013 \u001b[0m\u001b[32m[7248/rf_model/135838 (pid 20571)] \u001b[0m\u001b[22m[912f7c53-5c7d-4564-8f2d-73f8b6005506] Code package downloaded.\u001b[0m\n",
      "\u001b[35m2022-03-16 18:27:52.627 \u001b[0m\u001b[32m[7248/xt_model/135839 (pid 20576)] \u001b[0m\u001b[22m[31e039df-a771-4093-90cd-f1e915160f0a] Task is starting (status RUNNABLE)...\u001b[0m\n",
      "\u001b[35m2022-03-16 18:27:06.028 \u001b[0m\u001b[32m[7248/rf_model/135838 (pid 20571)] \u001b[0m\u001b[22m[912f7c53-5c7d-4564-8f2d-73f8b6005506] Task is starting.\u001b[0m\n",
      "\u001b[35m2022-03-16 18:27:06.493 \u001b[0m\u001b[32m[7248/rf_model/135838 (pid 20571)] \u001b[0m\u001b[22m[912f7c53-5c7d-4564-8f2d-73f8b6005506] Bootstrapping environment...\u001b[0m\n",
      "\u001b[35m2022-03-16 18:27:46.141 \u001b[0m\u001b[32m[7248/rf_model/135838 (pid 20571)] \u001b[0m\u001b[22m[912f7c53-5c7d-4564-8f2d-73f8b6005506] Environment bootstrapped.\u001b[0m\n",
      "\u001b[35m2022-03-16 18:27:57.397 \u001b[0m\u001b[32m[7248/rf_model/135838 (pid 20571)] \u001b[0m\u001b[22m[912f7c53-5c7d-4564-8f2d-73f8b6005506] Task finished with exit code 0.\u001b[0m\n",
      "\u001b[35m2022-03-16 18:28:00.539 \u001b[0m\u001b[32m[7248/rf_model/135838 (pid 20571)] \u001b[0m\u001b[1mTask finished successfully.\u001b[0m\n",
      "\u001b[35m2022-03-16 18:28:02.009 \u001b[0m\u001b[32m[7248/dt_model/135840 (pid 20581)] \u001b[0m\u001b[22m[47de29fe-005f-4821-91b9-c52d1c2fc0da] Task is starting (status RUNNABLE)...\u001b[0m\n",
      "\u001b[35m2022-03-16 18:28:22.692 \u001b[0m\u001b[32m[7248/xt_model/135839 (pid 20576)] \u001b[0m\u001b[22m[31e039df-a771-4093-90cd-f1e915160f0a] Task is starting (status RUNNABLE)...\u001b[0m\n",
      "\u001b[35m2022-03-16 18:28:26.504 \u001b[0m\u001b[32m[7248/xt_model/135839 (pid 20576)] \u001b[0m\u001b[22m[31e039df-a771-4093-90cd-f1e915160f0a] Task is starting (status STARTING)...\u001b[0m\n",
      "\u001b[35m2022-03-16 18:28:28.624 \u001b[0m\u001b[32m[7248/xt_model/135839 (pid 20576)] \u001b[0m\u001b[22m[31e039df-a771-4093-90cd-f1e915160f0a] Task is starting (status RUNNING)...\u001b[0m\n",
      "\u001b[35m2022-03-16 18:28:29.135 \u001b[0m\u001b[32m[7248/dt_model/135840 (pid 20581)] \u001b[0m\u001b[22m[47de29fe-005f-4821-91b9-c52d1c2fc0da] Task is starting (status RUNNABLE)...\u001b[0m\n",
      "\u001b[35m2022-03-16 18:28:59.211 \u001b[0m\u001b[32m[7248/dt_model/135840 (pid 20581)] \u001b[0m\u001b[22m[47de29fe-005f-4821-91b9-c52d1c2fc0da] Task is starting (status RUNNABLE)...\u001b[0m\n",
      "\u001b[35m2022-03-16 18:28:27.483 \u001b[0m\u001b[32m[7248/xt_model/135839 (pid 20576)] \u001b[0m\u001b[22m[31e039df-a771-4093-90cd-f1e915160f0a] Setting up task environment.\u001b[0m\n",
      "\u001b[35m2022-03-16 18:28:36.529 \u001b[0m\u001b[32m[7248/xt_model/135839 (pid 20576)] \u001b[0m\u001b[22m[31e039df-a771-4093-90cd-f1e915160f0a] Downloading code package...\u001b[0m\n",
      "\u001b[35m2022-03-16 18:28:37.179 \u001b[0m\u001b[32m[7248/xt_model/135839 (pid 20576)] \u001b[0m\u001b[22m[31e039df-a771-4093-90cd-f1e915160f0a] Code package downloaded.\u001b[0m\n",
      "\u001b[35m2022-03-16 18:29:26.550 \u001b[0m\u001b[32m[7248/dt_model/135840 (pid 20581)] \u001b[0m\u001b[22m[47de29fe-005f-4821-91b9-c52d1c2fc0da] Task is starting (status STARTING)...\u001b[0m\n",
      "\u001b[35m2022-03-16 18:28:37.195 \u001b[0m\u001b[32m[7248/xt_model/135839 (pid 20576)] \u001b[0m\u001b[22m[31e039df-a771-4093-90cd-f1e915160f0a] Task is starting.\u001b[0m\n",
      "\u001b[35m2022-03-16 18:28:37.673 \u001b[0m\u001b[32m[7248/xt_model/135839 (pid 20576)] \u001b[0m\u001b[22m[31e039df-a771-4093-90cd-f1e915160f0a] Bootstrapping environment...\u001b[0m\n",
      "\u001b[35m2022-03-16 18:29:17.361 \u001b[0m\u001b[32m[7248/xt_model/135839 (pid 20576)] \u001b[0m\u001b[22m[31e039df-a771-4093-90cd-f1e915160f0a] Environment bootstrapped.\u001b[0m\n",
      "\u001b[35m2022-03-16 18:29:28.465 \u001b[0m\u001b[32m[7248/xt_model/135839 (pid 20576)] \u001b[0m\u001b[22m[31e039df-a771-4093-90cd-f1e915160f0a] Task finished with exit code 0.\u001b[0m\n",
      "\u001b[35m2022-03-16 18:29:31.497 \u001b[0m\u001b[32m[7248/xt_model/135839 (pid 20576)] \u001b[0m\u001b[1mTask finished successfully.\u001b[0m\n",
      "\u001b[35m2022-03-16 18:29:48.576 \u001b[0m\u001b[32m[7248/dt_model/135840 (pid 20581)] \u001b[0m\u001b[22m[47de29fe-005f-4821-91b9-c52d1c2fc0da] Task is starting (status RUNNING)...\u001b[0m\n",
      "\u001b[35m2022-03-16 18:29:47.367 \u001b[0m\u001b[32m[7248/dt_model/135840 (pid 20581)] \u001b[0m\u001b[22m[47de29fe-005f-4821-91b9-c52d1c2fc0da] Setting up task environment.\u001b[0m\n",
      "\u001b[35m2022-03-16 18:29:56.319 \u001b[0m\u001b[32m[7248/dt_model/135840 (pid 20581)] \u001b[0m\u001b[22m[47de29fe-005f-4821-91b9-c52d1c2fc0da] Downloading code package...\u001b[0m\n",
      "\u001b[35m2022-03-16 18:29:56.965 \u001b[0m\u001b[32m[7248/dt_model/135840 (pid 20581)] \u001b[0m\u001b[22m[47de29fe-005f-4821-91b9-c52d1c2fc0da] Code package downloaded.\u001b[0m\n",
      "\u001b[35m2022-03-16 18:29:56.981 \u001b[0m\u001b[32m[7248/dt_model/135840 (pid 20581)] \u001b[0m\u001b[22m[47de29fe-005f-4821-91b9-c52d1c2fc0da] Task is starting.\u001b[0m\n",
      "\u001b[35m2022-03-16 18:29:57.437 \u001b[0m\u001b[32m[7248/dt_model/135840 (pid 20581)] \u001b[0m\u001b[22m[47de29fe-005f-4821-91b9-c52d1c2fc0da] Bootstrapping environment...\u001b[0m\n",
      "\u001b[35m2022-03-16 18:30:46.798 \u001b[0m\u001b[32m[7248/dt_model/135840 (pid 20581)] \u001b[0m\u001b[22m[47de29fe-005f-4821-91b9-c52d1c2fc0da] Environment bootstrapped.\u001b[0m\n",
      "\u001b[35m2022-03-16 18:30:59.596 \u001b[0m\u001b[32m[7248/dt_model/135840 (pid 20581)] \u001b[0m\u001b[22m[47de29fe-005f-4821-91b9-c52d1c2fc0da] Task finished with exit code 0.\u001b[0m\n",
      "\u001b[35m2022-03-16 18:31:02.633 \u001b[0m\u001b[32m[7248/dt_model/135840 (pid 20581)] \u001b[0m\u001b[1mTask finished successfully.\u001b[0m\n",
      "\u001b[35m2022-03-16 18:31:07.322 \u001b[0m\u001b[32m[7248/choose_model/135844 (pid 20620)] \u001b[0m\u001b[1mTask is starting.\u001b[0m\n",
      "\u001b[35m2022-03-16 18:31:09.918 \u001b[0m\u001b[32m[7248/choose_model/135844 (pid 20620)] \u001b[0m\u001b[22m[cf90666f-5766-43f4-98c3-b5c4445cc894] Task is starting (status SUBMITTED)...\u001b[0m\n",
      "\u001b[35m2022-03-16 18:31:14.165 \u001b[0m\u001b[32m[7248/choose_model/135844 (pid 20620)] \u001b[0m\u001b[22m[cf90666f-5766-43f4-98c3-b5c4445cc894] Task is starting (status RUNNABLE)...\u001b[0m\n",
      "\u001b[35m2022-03-16 18:31:16.267 \u001b[0m\u001b[32m[7248/choose_model/135844 (pid 20620)] \u001b[0m\u001b[22m[cf90666f-5766-43f4-98c3-b5c4445cc894] Task is starting (status STARTING)...\u001b[0m\n",
      "\u001b[35m2022-03-16 18:31:18.381 \u001b[0m\u001b[32m[7248/choose_model/135844 (pid 20620)] \u001b[0m\u001b[22m[cf90666f-5766-43f4-98c3-b5c4445cc894] Task is starting (status RUNNING)...\u001b[0m\n",
      "\u001b[35m2022-03-16 18:31:17.389 \u001b[0m\u001b[32m[7248/choose_model/135844 (pid 20620)] \u001b[0m\u001b[22m[cf90666f-5766-43f4-98c3-b5c4445cc894] Setting up task environment.\u001b[0m\n",
      "\u001b[35m2022-03-16 18:31:26.188 \u001b[0m\u001b[32m[7248/choose_model/135844 (pid 20620)] \u001b[0m\u001b[22m[cf90666f-5766-43f4-98c3-b5c4445cc894] Downloading code package...\u001b[0m\n",
      "\u001b[35m2022-03-16 18:31:26.855 \u001b[0m\u001b[32m[7248/choose_model/135844 (pid 20620)] \u001b[0m\u001b[22m[cf90666f-5766-43f4-98c3-b5c4445cc894] Code package downloaded.\u001b[0m\n",
      "\u001b[35m2022-03-16 18:31:26.871 \u001b[0m\u001b[32m[7248/choose_model/135844 (pid 20620)] \u001b[0m\u001b[22m[cf90666f-5766-43f4-98c3-b5c4445cc894] Task is starting.\u001b[0m\n",
      "\u001b[35m2022-03-16 18:31:27.331 \u001b[0m\u001b[32m[7248/choose_model/135844 (pid 20620)] \u001b[0m\u001b[22m[cf90666f-5766-43f4-98c3-b5c4445cc894] Bootstrapping environment...\u001b[0m\n",
      "\u001b[35m2022-03-16 18:32:06.989 \u001b[0m\u001b[32m[7248/choose_model/135844 (pid 20620)] \u001b[0m\u001b[22m[cf90666f-5766-43f4-98c3-b5c4445cc894] Environment bootstrapped.\u001b[0m\n",
      "\u001b[35m2022-03-16 18:32:20.207 \u001b[0m\u001b[32m[7248/choose_model/135844 (pid 20620)] \u001b[0m\u001b[22m[cf90666f-5766-43f4-98c3-b5c4445cc894] Task finished with exit code 0.\u001b[0m\n",
      "\u001b[35m2022-03-16 18:32:23.337 \u001b[0m\u001b[32m[7248/choose_model/135844 (pid 20620)] \u001b[0m\u001b[1mTask finished successfully.\u001b[0m\n",
      "\u001b[35m2022-03-16 18:32:27.755 \u001b[0m\u001b[32m[7248/end/135846 (pid 20641)] \u001b[0m\u001b[1mTask is starting.\u001b[0m\n",
      "\u001b[35m2022-03-16 18:32:30.338 \u001b[0m\u001b[32m[7248/end/135846 (pid 20641)] \u001b[0m\u001b[22m[30d1fbb5-169c-4630-8a93-2962bf93c812] Task is starting (status SUBMITTED)...\u001b[0m\n",
      "\u001b[35m2022-03-16 18:32:31.430 \u001b[0m\u001b[32m[7248/end/135846 (pid 20641)] \u001b[0m\u001b[22m[30d1fbb5-169c-4630-8a93-2962bf93c812] Task is starting (status RUNNABLE)...\u001b[0m\n",
      "\u001b[35m2022-03-16 18:32:33.543 \u001b[0m\u001b[32m[7248/end/135846 (pid 20641)] \u001b[0m\u001b[22m[30d1fbb5-169c-4630-8a93-2962bf93c812] Task is starting (status STARTING)...\u001b[0m\n",
      "\u001b[35m2022-03-16 18:32:35.676 \u001b[0m\u001b[32m[7248/end/135846 (pid 20641)] \u001b[0m\u001b[22m[30d1fbb5-169c-4630-8a93-2962bf93c812] Task is starting (status RUNNING)...\u001b[0m\n",
      "\u001b[35m2022-03-16 18:32:34.967 \u001b[0m\u001b[32m[7248/end/135846 (pid 20641)] \u001b[0m\u001b[22m[30d1fbb5-169c-4630-8a93-2962bf93c812] Setting up task environment.\u001b[0m\n",
      "\u001b[35m2022-03-16 18:32:43.649 \u001b[0m\u001b[32m[7248/end/135846 (pid 20641)] \u001b[0m\u001b[22m[30d1fbb5-169c-4630-8a93-2962bf93c812] Downloading code package...\u001b[0m\n",
      "\u001b[35m2022-03-16 18:32:44.261 \u001b[0m\u001b[32m[7248/end/135846 (pid 20641)] \u001b[0m\u001b[22m[30d1fbb5-169c-4630-8a93-2962bf93c812] Code package downloaded.\u001b[0m\n",
      "\u001b[35m2022-03-16 18:32:44.277 \u001b[0m\u001b[32m[7248/end/135846 (pid 20641)] \u001b[0m\u001b[22m[30d1fbb5-169c-4630-8a93-2962bf93c812] Task is starting.\u001b[0m\n",
      "\u001b[35m2022-03-16 18:32:44.733 \u001b[0m\u001b[32m[7248/end/135846 (pid 20641)] \u001b[0m\u001b[22m[30d1fbb5-169c-4630-8a93-2962bf93c812] Bootstrapping environment...\u001b[0m\n",
      "\u001b[35m2022-03-16 18:33:23.973 \u001b[0m\u001b[32m[7248/end/135846 (pid 20641)] \u001b[0m\u001b[22m[30d1fbb5-169c-4630-8a93-2962bf93c812] Environment bootstrapped.\u001b[0m\n",
      "\u001b[35m2022-03-16 18:33:25.239 \u001b[0m\u001b[32m[7248/end/135846 (pid 20641)] \u001b[0m\u001b[22m[30d1fbb5-169c-4630-8a93-2962bf93c812] Scores:\u001b[0m\n",
      "\u001b[35m2022-03-16 18:33:25.876 \u001b[0m\u001b[32m[7248/end/135846 (pid 20641)] \u001b[0m\u001b[22m[30d1fbb5-169c-4630-8a93-2962bf93c812] DecisionTreeClassifier(random_state=0) 0.960000\u001b[0m\n",
      "\u001b[35m2022-03-16 18:33:25.876 \u001b[0m\u001b[32m[7248/end/135846 (pid 20641)] \u001b[0m\u001b[22m[30d1fbb5-169c-4630-8a93-2962bf93c812] RandomForestClassifier(n_estimators=10, random_state=0) 0.953333\u001b[0m\n",
      "\u001b[35m2022-03-16 18:33:25.876 \u001b[0m\u001b[32m[7248/end/135846 (pid 20641)] \u001b[0m\u001b[22m[30d1fbb5-169c-4630-8a93-2962bf93c812] ExtraTreesClassifier(n_estimators=10, random_state=0) 0.953333\u001b[0m\n",
      "\u001b[35m2022-03-16 18:33:36.033 \u001b[0m\u001b[32m[7248/end/135846 (pid 20641)] \u001b[0m\u001b[22m[30d1fbb5-169c-4630-8a93-2962bf93c812] Task finished with exit code 0.\u001b[0m\n",
      "\u001b[35m2022-03-16 18:33:39.094 \u001b[0m\u001b[32m[7248/end/135846 (pid 20641)] \u001b[0m\u001b[1mTask finished successfully.\u001b[0m\n",
      "\u001b[35m2022-03-16 18:33:40.243 \u001b[0m\u001b[1mDone!\u001b[0m\n",
      "\u001b[0m"
     ]
    }
   ],
   "source": [
    "! python ../flows/cloud/tree_branch_flow_cloud.py --environment=conda run --with batch"
   ]
  },
  {
   "cell_type": "markdown",
   "id": "1c30a9a3-3b21-48fb-92f8-da724803e2a6",
   "metadata": {},
   "source": [
    "Let's also check out the Metaflow card:"
   ]
  },
  {
   "cell_type": "code",
   "execution_count": 6,
   "id": "1985fb06-253e-403e-8bbc-5f2422111f9b",
   "metadata": {},
   "outputs": [
    {
     "name": "stdout",
     "output_type": "stream",
     "text": [
      "\u001b[35m\u001b[1mMetaflow 2.5.0\u001b[0m\u001b[35m\u001b[22m executing \u001b[0m\u001b[31m\u001b[1mClassificationFlow\u001b[0m\u001b[35m\u001b[22m\u001b[0m\u001b[35m\u001b[22m for \u001b[0m\u001b[31m\u001b[1muser:hba\u001b[0m\u001b[35m\u001b[22m\u001b[K\u001b[0m\u001b[35m\u001b[22m\u001b[0m\n",
      "\u001b[32m\u001b[22mResolving card: ClassificationFlow/7248/start/135835\u001b[K\u001b[0m\u001b[32m\u001b[22m\u001b[0m\n"
     ]
    }
   ],
   "source": [
    "! python ../flows/cloud/tree_branch_flow_cloud.py --environment=conda card view start"
   ]
  }
 ],
 "metadata": {
  "kernelspec": {
   "display_name": "Python [conda env:full-stack-metaflow]",
   "language": "python",
   "name": "conda-env-full-stack-metaflow-py"
  },
  "language_info": {
   "codemirror_mode": {
    "name": "ipython",
    "version": 3
   },
   "file_extension": ".py",
   "mimetype": "text/x-python",
   "name": "python",
   "nbconvert_exporter": "python",
   "pygments_lexer": "ipython3",
   "version": "3.8.10"
  }
 },
 "nbformat": 4,
 "nbformat_minor": 5
}
