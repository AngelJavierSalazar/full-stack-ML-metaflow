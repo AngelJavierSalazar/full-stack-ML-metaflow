{
 "cells": [
  {
   "cell_type": "markdown",
   "id": "fd26602b",
   "metadata": {},
   "source": [
    "# Initialize a new Expectation Suite by profiling a batch of your data.\n",
    "This process helps you avoid writing lots of boilerplate when authoring suites by allowing you to select columns and other factors that you care about and letting a profiler write some candidate expectations for you to adjust.\n",
    "\n",
    "**Expectation Suite Name**: `flowers-testing-suite`\n"
   ]
  },
  {
   "cell_type": "code",
   "execution_count": 1,
   "id": "79aeda04",
   "metadata": {},
   "outputs": [
    {
     "name": "stdout",
     "output_type": "stream",
     "text": [
      "2022-03-23T15:37:25+1100 - INFO - Great Expectations logging enabled at 20 level by JupyterUX module.\n"
     ]
    },
    {
     "data": {
      "application/vnd.jupyter.widget-view+json": {
       "model_id": "01cf59c010704300ae73da77375e3545",
       "version_major": 2,
       "version_minor": 0
      },
      "text/plain": [
       "Calculating Metrics:   0%|          | 0/2 [00:00<?, ?it/s]"
      ]
     },
     "metadata": {},
     "output_type": "display_data"
    },
    {
     "name": "stdout",
     "output_type": "stream",
     "text": [
      "Columns: \"sepal length (cm)\", \"sepal width (cm)\", \"petal length (cm)\", \"petal width (cm)\", \"target\".\n"
     ]
    },
    {
     "data": {
      "application/vnd.jupyter.widget-view+json": {
       "model_id": "bab86d2537954b69ad00c94390df4306",
       "version_major": 2,
       "version_minor": 0
      },
      "text/plain": [
       "Calculating Metrics:   0%|          | 0/1 [00:00<?, ?it/s]"
      ]
     },
     "metadata": {},
     "output_type": "display_data"
    },
    {
     "data": {
      "text/html": [
       "<div>\n",
       "<style scoped>\n",
       "    .dataframe tbody tr th:only-of-type {\n",
       "        vertical-align: middle;\n",
       "    }\n",
       "\n",
       "    .dataframe tbody tr th {\n",
       "        vertical-align: top;\n",
       "    }\n",
       "\n",
       "    .dataframe thead th {\n",
       "        text-align: right;\n",
       "    }\n",
       "</style>\n",
       "<table border=\"1\" class=\"dataframe\">\n",
       "  <thead>\n",
       "    <tr style=\"text-align: right;\">\n",
       "      <th></th>\n",
       "      <th>sepal length (cm)</th>\n",
       "      <th>sepal width (cm)</th>\n",
       "      <th>petal length (cm)</th>\n",
       "      <th>petal width (cm)</th>\n",
       "      <th>target</th>\n",
       "    </tr>\n",
       "  </thead>\n",
       "  <tbody>\n",
       "    <tr>\n",
       "      <th>0</th>\n",
       "      <td>5.1</td>\n",
       "      <td>3.5</td>\n",
       "      <td>1.4</td>\n",
       "      <td>0.2</td>\n",
       "      <td>0</td>\n",
       "    </tr>\n",
       "    <tr>\n",
       "      <th>1</th>\n",
       "      <td>4.9</td>\n",
       "      <td>3.0</td>\n",
       "      <td>1.4</td>\n",
       "      <td>0.2</td>\n",
       "      <td>0</td>\n",
       "    </tr>\n",
       "    <tr>\n",
       "      <th>2</th>\n",
       "      <td>4.7</td>\n",
       "      <td>3.2</td>\n",
       "      <td>1.3</td>\n",
       "      <td>0.2</td>\n",
       "      <td>0</td>\n",
       "    </tr>\n",
       "    <tr>\n",
       "      <th>3</th>\n",
       "      <td>4.6</td>\n",
       "      <td>3.1</td>\n",
       "      <td>1.5</td>\n",
       "      <td>0.2</td>\n",
       "      <td>0</td>\n",
       "    </tr>\n",
       "    <tr>\n",
       "      <th>4</th>\n",
       "      <td>5.0</td>\n",
       "      <td>3.6</td>\n",
       "      <td>1.4</td>\n",
       "      <td>0.2</td>\n",
       "      <td>0</td>\n",
       "    </tr>\n",
       "  </tbody>\n",
       "</table>\n",
       "</div>"
      ],
      "text/plain": [
       "   sepal length (cm)  sepal width (cm)  petal length (cm)  petal width (cm)  \\\n",
       "0                5.1               3.5                1.4               0.2   \n",
       "1                4.9               3.0                1.4               0.2   \n",
       "2                4.7               3.2                1.3               0.2   \n",
       "3                4.6               3.1                1.5               0.2   \n",
       "4                5.0               3.6                1.4               0.2   \n",
       "\n",
       "   target  \n",
       "0       0  \n",
       "1       0  \n",
       "2       0  \n",
       "3       0  \n",
       "4       0  "
      ]
     },
     "execution_count": 1,
     "metadata": {},
     "output_type": "execute_result"
    }
   ],
   "source": [
    "import datetime\n",
    "\n",
    "import pandas as pd\n",
    "\n",
    "import great_expectations as ge\n",
    "import great_expectations.jupyter_ux\n",
    "from great_expectations.core.batch import BatchRequest\n",
    "from great_expectations.profile.user_configurable_profiler import (\n",
    "    UserConfigurableProfiler,\n",
    ")\n",
    "from great_expectations.checkpoint import SimpleCheckpoint\n",
    "from great_expectations.exceptions import DataContextError\n",
    "\n",
    "context = ge.data_context.DataContext()\n",
    "\n",
    "batch_request = {\n",
    "    \"datasource_name\": \"flowers\",\n",
    "    \"data_connector_name\": \"default_inferred_data_connector_name\",\n",
    "    \"data_asset_name\": \"iris.csv\",\n",
    "    \"limit\": 1000,\n",
    "}\n",
    "\n",
    "expectation_suite_name = \"flowers-testing-suite\"\n",
    "\n",
    "validator = context.get_validator(\n",
    "    batch_request=BatchRequest(**batch_request),\n",
    "    expectation_suite_name=expectation_suite_name,\n",
    ")\n",
    "column_names = [f'\"{column_name}\"' for column_name in validator.columns()]\n",
    "print(f\"Columns: {', '.join(column_names)}.\")\n",
    "validator.head(n_rows=5, fetch_all=False)"
   ]
  },
  {
   "cell_type": "markdown",
   "id": "20f6bd71",
   "metadata": {},
   "source": [
    "# Select columns\n",
    "\n",
    "Select the columns on which you would like to set expectations and those which you would like to ignore.\n",
    "\n",
    "Great Expectations will choose which expectations might make sense for a column based on the **data type** and **cardinality** of the data in each selected column.\n",
    "\n",
    "Simply comment out columns that are important and should be included. You can select multiple lines and\n",
    "use a jupyter keyboard shortcut to toggle each line: **Linux/Windows**:\n",
    "`Ctrl-/`, **macOS**: `Cmd-/`"
   ]
  },
  {
   "cell_type": "code",
   "execution_count": 2,
   "id": "bcf5f394",
   "metadata": {},
   "outputs": [],
   "source": [
    "ignored_columns = [\n",
    "    \"sepal length (cm)\",\n",
    "#    \"sepal width (cm)\",\n",
    "#    \"petal length (cm)\",\n",
    "#    \"petal width (cm)\",\n",
    "    \"target\",\n",
    "]"
   ]
  },
  {
   "cell_type": "markdown",
   "id": "d789ce32",
   "metadata": {},
   "source": [
    "# Run the data profiler\n",
    "\n",
    "The suites generated here are **not meant to be production suites** -- they are **a starting point to build upon**.\n",
    "\n",
    "**To get to a production-grade suite, you will definitely want to [edit this\n",
    "suite](https://docs.greatexpectations.io/en/latest/guides/how_to_guides/creating_and_editing_expectations/how_to_edit_an_expectation_suite_using_a_disposable_notebook.html?utm_source=notebook&utm_medium=profile_based_expectations)\n",
    "after this initial step gets you started on the path towards what you want.**\n",
    "\n",
    "This is highly configurable depending on your goals.\n",
    "You can ignore columns or exclude certain expectations, specify a threshold for creating value set expectations, or even specify semantic types for a given column.\n",
    "You can find more information about [how to configure this profiler, including a list of the expectations that it uses, here.](https://docs.greatexpectations.io/en/latest/guides/how_to_guides/creating_and_editing_expectations/how_to_create_an_expectation_suite_with_the_user_configurable_profiler.html)\n",
    "\n"
   ]
  },
  {
   "cell_type": "code",
   "execution_count": 4,
   "id": "945cf98c",
   "metadata": {},
   "outputs": [
    {
     "data": {
      "application/vnd.jupyter.widget-view+json": {
       "model_id": "a8306d9715974b0592aaffd3ba5cf72e",
       "version_major": 2,
       "version_minor": 0
      },
      "text/plain": [
       "Calculating Metrics:   0%|          | 0/2 [00:00<?, ?it/s]"
      ]
     },
     "metadata": {},
     "output_type": "display_data"
    },
    {
     "data": {
      "application/vnd.jupyter.widget-view+json": {
       "model_id": "133ef23d38354851963789c10e03ad5c",
       "version_major": 2,
       "version_minor": 0
      },
      "text/plain": [
       "Calculating Metrics:   0%|          | 0/4 [00:00<?, ?it/s]"
      ]
     },
     "metadata": {},
     "output_type": "display_data"
    },
    {
     "data": {
      "application/vnd.jupyter.widget-view+json": {
       "model_id": "5597a1cbb94d458aae0826caf91a4f13",
       "version_major": 2,
       "version_minor": 0
      },
      "text/plain": [
       "Calculating Metrics:   0%|          | 0/7 [00:00<?, ?it/s]"
      ]
     },
     "metadata": {},
     "output_type": "display_data"
    },
    {
     "data": {
      "application/vnd.jupyter.widget-view+json": {
       "model_id": "9bcd7febd4324275934f1d9265cfd6d1",
       "version_major": 2,
       "version_minor": 0
      },
      "text/plain": [
       "Calculating Metrics:   0%|          | 0/1 [00:00<?, ?it/s]"
      ]
     },
     "metadata": {},
     "output_type": "display_data"
    },
    {
     "data": {
      "application/vnd.jupyter.widget-view+json": {
       "model_id": "01f4151f0fbd40ee8da72188c068b049",
       "version_major": 2,
       "version_minor": 0
      },
      "text/plain": [
       "Calculating Metrics:   0%|          | 0/1 [00:00<?, ?it/s]"
      ]
     },
     "metadata": {},
     "output_type": "display_data"
    },
    {
     "data": {
      "application/vnd.jupyter.widget-view+json": {
       "model_id": "d94f0bf67aaa47daa1cb8e026f77c753",
       "version_major": 2,
       "version_minor": 0
      },
      "text/plain": [
       "Calculating Metrics:   0%|          | 0/1 [00:00<?, ?it/s]"
      ]
     },
     "metadata": {},
     "output_type": "display_data"
    },
    {
     "data": {
      "application/vnd.jupyter.widget-view+json": {
       "model_id": "e13637c40c6c4e25a9fcacb1cafc0799",
       "version_major": 2,
       "version_minor": 0
      },
      "text/plain": [
       "Calculating Metrics:   0%|          | 0/4 [00:00<?, ?it/s]"
      ]
     },
     "metadata": {},
     "output_type": "display_data"
    },
    {
     "data": {
      "application/vnd.jupyter.widget-view+json": {
       "model_id": "9489daf812d442d88c9a4cb6425730f2",
       "version_major": 2,
       "version_minor": 0
      },
      "text/plain": [
       "Calculating Metrics:   0%|          | 0/7 [00:00<?, ?it/s]"
      ]
     },
     "metadata": {},
     "output_type": "display_data"
    },
    {
     "data": {
      "application/vnd.jupyter.widget-view+json": {
       "model_id": "46adc4ef56954c709c304d3164cb92f6",
       "version_major": 2,
       "version_minor": 0
      },
      "text/plain": [
       "Calculating Metrics:   0%|          | 0/1 [00:00<?, ?it/s]"
      ]
     },
     "metadata": {},
     "output_type": "display_data"
    },
    {
     "data": {
      "application/vnd.jupyter.widget-view+json": {
       "model_id": "19293d173bd948b1988ad357ad4a71e8",
       "version_major": 2,
       "version_minor": 0
      },
      "text/plain": [
       "Calculating Metrics:   0%|          | 0/1 [00:00<?, ?it/s]"
      ]
     },
     "metadata": {},
     "output_type": "display_data"
    },
    {
     "data": {
      "application/vnd.jupyter.widget-view+json": {
       "model_id": "f636978bd3844f9f91b55a2afd087b03",
       "version_major": 2,
       "version_minor": 0
      },
      "text/plain": [
       "Calculating Metrics:   0%|          | 0/1 [00:00<?, ?it/s]"
      ]
     },
     "metadata": {},
     "output_type": "display_data"
    },
    {
     "data": {
      "application/vnd.jupyter.widget-view+json": {
       "model_id": "f7a319893498414e9b3e97dbcf723e9d",
       "version_major": 2,
       "version_minor": 0
      },
      "text/plain": [
       "Calculating Metrics:   0%|          | 0/4 [00:00<?, ?it/s]"
      ]
     },
     "metadata": {},
     "output_type": "display_data"
    },
    {
     "data": {
      "application/vnd.jupyter.widget-view+json": {
       "model_id": "4113e8fb26eb40af9db83f113732eb23",
       "version_major": 2,
       "version_minor": 0
      },
      "text/plain": [
       "Calculating Metrics:   0%|          | 0/7 [00:00<?, ?it/s]"
      ]
     },
     "metadata": {},
     "output_type": "display_data"
    },
    {
     "data": {
      "application/vnd.jupyter.widget-view+json": {
       "model_id": "d3f18cbfac864baebd717d58052287d1",
       "version_major": 2,
       "version_minor": 0
      },
      "text/plain": [
       "Calculating Metrics:   0%|          | 0/1 [00:00<?, ?it/s]"
      ]
     },
     "metadata": {},
     "output_type": "display_data"
    },
    {
     "data": {
      "application/vnd.jupyter.widget-view+json": {
       "model_id": "aa689a96ad3c49faaeafc200b5eb25d9",
       "version_major": 2,
       "version_minor": 0
      },
      "text/plain": [
       "Calculating Metrics:   0%|          | 0/1 [00:00<?, ?it/s]"
      ]
     },
     "metadata": {},
     "output_type": "display_data"
    },
    {
     "data": {
      "application/vnd.jupyter.widget-view+json": {
       "model_id": "8329b56c702a46eaa6030b88a2efc833",
       "version_major": 2,
       "version_minor": 0
      },
      "text/plain": [
       "Calculating Metrics:   0%|          | 0/1 [00:00<?, ?it/s]"
      ]
     },
     "metadata": {},
     "output_type": "display_data"
    },
    {
     "name": "stdout",
     "output_type": "stream",
     "text": [
      "2022-03-23T15:41:00+1100 - INFO - \t0 expectation(s) included in expectation_suite.\n"
     ]
    },
    {
     "data": {
      "application/vnd.jupyter.widget-view+json": {
       "model_id": "bd967995b4964a4690f5bc33f253b12c",
       "version_major": 2,
       "version_minor": 0
      },
      "text/plain": [
       "Calculating Metrics:   0%|          | 0/2 [00:00<?, ?it/s]"
      ]
     },
     "metadata": {},
     "output_type": "display_data"
    },
    {
     "data": {
      "application/vnd.jupyter.widget-view+json": {
       "model_id": "f6d52aa091184cdf9c5b2316c16ad01e",
       "version_major": 2,
       "version_minor": 0
      },
      "text/plain": [
       "Profiling:   0%|          | 0/3 [00:00<?, ?it/s, Column=sepal width (cm)]"
      ]
     },
     "metadata": {},
     "output_type": "display_data"
    },
    {
     "data": {
      "application/vnd.jupyter.widget-view+json": {
       "model_id": "ecc89e1a8ea446e293e44aa5d3f6f8e3",
       "version_major": 2,
       "version_minor": 0
      },
      "text/plain": [
       "Calculating Metrics:   0%|          | 0/4 [00:00<?, ?it/s]"
      ]
     },
     "metadata": {},
     "output_type": "display_data"
    },
    {
     "data": {
      "application/vnd.jupyter.widget-view+json": {
       "model_id": "2ed5e47dad86453587bad1b1ac826ce3",
       "version_major": 2,
       "version_minor": 0
      },
      "text/plain": [
       "Calculating Metrics:   0%|          | 0/8 [00:00<?, ?it/s]"
      ]
     },
     "metadata": {},
     "output_type": "display_data"
    },
    {
     "data": {
      "application/vnd.jupyter.widget-view+json": {
       "model_id": "09fd6c635ea14d9a82e488d262d40f62",
       "version_major": 2,
       "version_minor": 0
      },
      "text/plain": [
       "Calculating Metrics:   0%|          | 0/6 [00:00<?, ?it/s]"
      ]
     },
     "metadata": {},
     "output_type": "display_data"
    },
    {
     "data": {
      "application/vnd.jupyter.widget-view+json": {
       "model_id": "d47dd1d418344802add895ed612db8a3",
       "version_major": 2,
       "version_minor": 0
      },
      "text/plain": [
       "Calculating Metrics:   0%|          | 0/1 [00:00<?, ?it/s]"
      ]
     },
     "metadata": {},
     "output_type": "display_data"
    },
    {
     "data": {
      "application/vnd.jupyter.widget-view+json": {
       "model_id": "3dd4a8ffa1b44f888396075927d5e952",
       "version_major": 2,
       "version_minor": 0
      },
      "text/plain": [
       "Calculating Metrics:   0%|          | 0/4 [00:00<?, ?it/s]"
      ]
     },
     "metadata": {},
     "output_type": "display_data"
    },
    {
     "data": {
      "application/vnd.jupyter.widget-view+json": {
       "model_id": "8831f4c7a1014174bda91f05072b4dea",
       "version_major": 2,
       "version_minor": 0
      },
      "text/plain": [
       "Calculating Metrics:   0%|          | 0/8 [00:00<?, ?it/s]"
      ]
     },
     "metadata": {},
     "output_type": "display_data"
    },
    {
     "data": {
      "application/vnd.jupyter.widget-view+json": {
       "model_id": "7334be809aeb4106bc34c42d82681671",
       "version_major": 2,
       "version_minor": 0
      },
      "text/plain": [
       "Calculating Metrics:   0%|          | 0/6 [00:00<?, ?it/s]"
      ]
     },
     "metadata": {},
     "output_type": "display_data"
    },
    {
     "data": {
      "application/vnd.jupyter.widget-view+json": {
       "model_id": "31aef970e2eb4c9084099cceb75d839e",
       "version_major": 2,
       "version_minor": 0
      },
      "text/plain": [
       "Calculating Metrics:   0%|          | 0/1 [00:00<?, ?it/s]"
      ]
     },
     "metadata": {},
     "output_type": "display_data"
    },
    {
     "data": {
      "application/vnd.jupyter.widget-view+json": {
       "model_id": "b73a7437bf4d489d8f9e5cb3108ad87a",
       "version_major": 2,
       "version_minor": 0
      },
      "text/plain": [
       "Calculating Metrics:   0%|          | 0/4 [00:00<?, ?it/s]"
      ]
     },
     "metadata": {},
     "output_type": "display_data"
    },
    {
     "data": {
      "application/vnd.jupyter.widget-view+json": {
       "model_id": "e5b308b973374262a47fa73edafc2217",
       "version_major": 2,
       "version_minor": 0
      },
      "text/plain": [
       "Calculating Metrics:   0%|          | 0/8 [00:00<?, ?it/s]"
      ]
     },
     "metadata": {},
     "output_type": "display_data"
    },
    {
     "data": {
      "application/vnd.jupyter.widget-view+json": {
       "model_id": "4ab444ff0cbc4ad9b525269d27b3b18e",
       "version_major": 2,
       "version_minor": 0
      },
      "text/plain": [
       "Calculating Metrics:   0%|          | 0/6 [00:00<?, ?it/s]"
      ]
     },
     "metadata": {},
     "output_type": "display_data"
    },
    {
     "data": {
      "application/vnd.jupyter.widget-view+json": {
       "model_id": "0de53d4ecbe14cdcb1c415be1759542b",
       "version_major": 2,
       "version_minor": 0
      },
      "text/plain": [
       "Calculating Metrics:   0%|          | 0/1 [00:00<?, ?it/s]"
      ]
     },
     "metadata": {},
     "output_type": "display_data"
    },
    {
     "name": "stdout",
     "output_type": "stream",
     "text": [
      "2022-03-23T15:41:01+1100 - INFO - \t10 expectation(s) included in expectation_suite.\n",
      "Creating an expectation suite with the following expectations:\n",
      "\n",
      "Table-Level Expectations\n",
      "expect_table_columns_to_match_ordered_list\n",
      "\n",
      "Expectations by Column\n",
      "Column Name: petal length (cm) | Column Data Type: FLOAT | Cardinality: FEW\n",
      "expect_column_values_to_be_in_set\n",
      "expect_column_values_to_be_in_type_list\n",
      "expect_column_values_to_not_be_null\n",
      "\n",
      "\n",
      "Column Name: petal width (cm) | Column Data Type: FLOAT | Cardinality: FEW\n",
      "expect_column_values_to_be_in_set\n",
      "expect_column_values_to_be_in_type_list\n",
      "expect_column_values_to_not_be_null\n",
      "\n",
      "\n",
      "Column Name: sepal width (cm) | Column Data Type: FLOAT | Cardinality: FEW\n",
      "expect_column_values_to_be_in_set\n",
      "expect_column_values_to_be_in_type_list\n",
      "expect_column_values_to_not_be_null\n",
      "\n",
      "\n"
     ]
    }
   ],
   "source": [
    "profiler = UserConfigurableProfiler(\n",
    "    profile_dataset=validator,\n",
    "    excluded_expectations=[\"expect_column_quantile_values_to_be_between\",\n",
    "                           \"expect_table_row_count_to_be_between\",\n",
    "                            \"expect_column_proportion_of_unique_values_to_be_between\",\n",
    "                           \"expect_column_min_to_be_between\",\n",
    "                           \"expect_column_max_to_be_between\",\n",
    "                           \"expect_column_median_to_be_between\",\n",
    "                           \"expect_column_mean_to_be_between\",\n",
    "                           \"expect_column_quantile_values_to_be_between\"],\n",
    "    ignored_columns=ignored_columns,\n",
    "    not_null_only=False,\n",
    "    primary_or_compound_key=False,\n",
    "    semantic_types_dict=None,\n",
    "    table_expectations_only=False,\n",
    "    value_set_threshold=\"MANY\",\n",
    ")\n",
    "suite = profiler.build_suite()"
   ]
  },
  {
   "cell_type": "markdown",
   "id": "b8106bbc",
   "metadata": {},
   "source": [
    "# Save & review your new Expectation Suite\n",
    "\n",
    "Let's save the draft expectation suite as a JSON file in the\n",
    "`great_expectations/expectations` directory of your project and rebuild the Data\n",
    " Docs site to make it easy to review your new suite."
   ]
  },
  {
   "cell_type": "code",
   "execution_count": 5,
   "id": "f26710c5",
   "metadata": {},
   "outputs": [
    {
     "name": "stdout",
     "output_type": "stream",
     "text": [
      "2022-03-23T15:41:11+1100 - INFO - \t10 expectation(s) included in expectation_suite.\n",
      "{\n",
      "  \"data_asset_type\": null,\n",
      "  \"expectation_suite_name\": \"flowers-testing-suite\",\n",
      "  \"meta\": {\n",
      "    \"citations\": [\n",
      "      {\n",
      "        \"batch_request\": {\n",
      "          \"data_asset_name\": \"iris.csv\",\n",
      "          \"data_connector_name\": \"default_inferred_data_connector_name\",\n",
      "          \"datasource_name\": \"flowers\",\n",
      "          \"limit\": 1000\n",
      "        },\n",
      "        \"citation_date\": \"2022-03-23T04:37:11.546150Z\",\n",
      "        \"comment\": \"Created suite added via CLI\"\n",
      "      }\n",
      "    ],\n",
      "    \"great_expectations_version\": \"0.14.11\"\n",
      "  },\n",
      "  \"ge_cloud_id\": null,\n",
      "  \"expectations\": [\n",
      "    {\n",
      "      \"meta\": {},\n",
      "      \"expectation_type\": \"expect_table_columns_to_match_ordered_list\",\n",
      "      \"kwargs\": {\n",
      "        \"column_list\": [\n",
      "          \"sepal length (cm)\",\n",
      "          \"sepal width (cm)\",\n",
      "          \"petal length (cm)\",\n",
      "          \"petal width (cm)\",\n",
      "          \"target\"\n",
      "        ]\n",
      "      }\n",
      "    },\n",
      "    {\n",
      "      \"meta\": {},\n",
      "      \"expectation_type\": \"expect_column_values_to_be_in_set\",\n",
      "      \"kwargs\": {\n",
      "        \"value_set\": [\n",
      "          2.0,\n",
      "          2.2,\n",
      "          2.3,\n",
      "          2.4,\n",
      "          2.5,\n",
      "          2.6,\n",
      "          2.7,\n",
      "          2.8,\n",
      "          2.9,\n",
      "          3.0,\n",
      "          3.1,\n",
      "          3.2,\n",
      "          3.3,\n",
      "          3.4,\n",
      "          3.5,\n",
      "          3.6,\n",
      "          3.7,\n",
      "          3.8,\n",
      "          3.9,\n",
      "          4.0,\n",
      "          4.1,\n",
      "          4.2,\n",
      "          4.4\n",
      "        ],\n",
      "        \"column\": \"sepal width (cm)\"\n",
      "      }\n",
      "    },\n",
      "    {\n",
      "      \"meta\": {},\n",
      "      \"expectation_type\": \"expect_column_values_to_not_be_null\",\n",
      "      \"kwargs\": {\n",
      "        \"column\": \"sepal width (cm)\"\n",
      "      }\n",
      "    },\n",
      "    {\n",
      "      \"meta\": {},\n",
      "      \"expectation_type\": \"expect_column_values_to_be_in_type_list\",\n",
      "      \"kwargs\": {\n",
      "        \"type_list\": [\n",
      "          \"FLOAT\",\n",
      "          \"FLOAT4\",\n",
      "          \"FLOAT8\",\n",
      "          \"FLOAT64\",\n",
      "          \"DOUBLE\",\n",
      "          \"DOUBLE_PRECISION\",\n",
      "          \"NUMERIC\",\n",
      "          \"FloatType\",\n",
      "          \"DoubleType\",\n",
      "          \"float\",\n",
      "          \"float_\",\n",
      "          \"float16\",\n",
      "          \"float32\",\n",
      "          \"float64\",\n",
      "          \"number\",\n",
      "          \"DECIMAL\",\n",
      "          \"REAL\"\n",
      "        ],\n",
      "        \"column\": \"sepal width (cm)\"\n",
      "      }\n",
      "    },\n",
      "    {\n",
      "      \"meta\": {},\n",
      "      \"expectation_type\": \"expect_column_values_to_be_in_set\",\n",
      "      \"kwargs\": {\n",
      "        \"value_set\": [\n",
      "          1.0,\n",
      "          1.1,\n",
      "          1.2,\n",
      "          1.3,\n",
      "          1.4,\n",
      "          1.5,\n",
      "          1.6,\n",
      "          1.7,\n",
      "          1.9,\n",
      "          3.0,\n",
      "          3.3,\n",
      "          3.5,\n",
      "          3.6,\n",
      "          3.7,\n",
      "          3.8,\n",
      "          3.9,\n",
      "          4.0,\n",
      "          4.1,\n",
      "          4.2,\n",
      "          4.3,\n",
      "          4.4,\n",
      "          4.5,\n",
      "          4.6,\n",
      "          4.7,\n",
      "          4.8,\n",
      "          4.9,\n",
      "          5.0,\n",
      "          5.1,\n",
      "          5.2,\n",
      "          5.3,\n",
      "          5.4,\n",
      "          5.5,\n",
      "          5.6,\n",
      "          5.7,\n",
      "          5.8,\n",
      "          5.9,\n",
      "          6.0,\n",
      "          6.1,\n",
      "          6.3,\n",
      "          6.4,\n",
      "          6.6,\n",
      "          6.7,\n",
      "          6.9\n",
      "        ],\n",
      "        \"column\": \"petal length (cm)\"\n",
      "      }\n",
      "    },\n",
      "    {\n",
      "      \"meta\": {},\n",
      "      \"expectation_type\": \"expect_column_values_to_not_be_null\",\n",
      "      \"kwargs\": {\n",
      "        \"column\": \"petal length (cm)\"\n",
      "      }\n",
      "    },\n",
      "    {\n",
      "      \"meta\": {},\n",
      "      \"expectation_type\": \"expect_column_values_to_be_in_type_list\",\n",
      "      \"kwargs\": {\n",
      "        \"type_list\": [\n",
      "          \"FLOAT\",\n",
      "          \"FLOAT4\",\n",
      "          \"FLOAT8\",\n",
      "          \"FLOAT64\",\n",
      "          \"DOUBLE\",\n",
      "          \"DOUBLE_PRECISION\",\n",
      "          \"NUMERIC\",\n",
      "          \"FloatType\",\n",
      "          \"DoubleType\",\n",
      "          \"float\",\n",
      "          \"float_\",\n",
      "          \"float16\",\n",
      "          \"float32\",\n",
      "          \"float64\",\n",
      "          \"number\",\n",
      "          \"DECIMAL\",\n",
      "          \"REAL\"\n",
      "        ],\n",
      "        \"column\": \"petal length (cm)\"\n",
      "      }\n",
      "    },\n",
      "    {\n",
      "      \"meta\": {},\n",
      "      \"expectation_type\": \"expect_column_values_to_be_in_set\",\n",
      "      \"kwargs\": {\n",
      "        \"value_set\": [\n",
      "          0.1,\n",
      "          0.2,\n",
      "          0.3,\n",
      "          0.4,\n",
      "          0.5,\n",
      "          0.6,\n",
      "          1.0,\n",
      "          1.1,\n",
      "          1.2,\n",
      "          1.3,\n",
      "          1.4,\n",
      "          1.5,\n",
      "          1.6,\n",
      "          1.7,\n",
      "          1.8,\n",
      "          1.9,\n",
      "          2.0,\n",
      "          2.1,\n",
      "          2.2,\n",
      "          2.3,\n",
      "          2.4,\n",
      "          2.5\n",
      "        ],\n",
      "        \"column\": \"petal width (cm)\"\n",
      "      }\n",
      "    },\n",
      "    {\n",
      "      \"meta\": {},\n",
      "      \"expectation_type\": \"expect_column_values_to_not_be_null\",\n",
      "      \"kwargs\": {\n",
      "        \"column\": \"petal width (cm)\"\n",
      "      }\n",
      "    },\n",
      "    {\n",
      "      \"meta\": {},\n",
      "      \"expectation_type\": \"expect_column_values_to_be_in_type_list\",\n",
      "      \"kwargs\": {\n",
      "        \"type_list\": [\n",
      "          \"FLOAT\",\n",
      "          \"FLOAT4\",\n",
      "          \"FLOAT8\",\n",
      "          \"FLOAT64\",\n",
      "          \"DOUBLE\",\n",
      "          \"DOUBLE_PRECISION\",\n",
      "          \"NUMERIC\",\n",
      "          \"FloatType\",\n",
      "          \"DoubleType\",\n",
      "          \"float\",\n",
      "          \"float_\",\n",
      "          \"float16\",\n",
      "          \"float32\",\n",
      "          \"float64\",\n",
      "          \"number\",\n",
      "          \"DECIMAL\",\n",
      "          \"REAL\"\n",
      "        ],\n",
      "        \"column\": \"petal width (cm)\"\n",
      "      }\n",
      "    }\n",
      "  ]\n",
      "}\n",
      "2022-03-23T15:41:11+1100 - INFO - \t10 expectation(s) included in expectation_suite.\n",
      "2022-03-23T15:41:11+1100 - INFO - \t10 expectation(s) included in expectation_suite.\n"
     ]
    },
    {
     "data": {
      "application/vnd.jupyter.widget-view+json": {
       "model_id": "0af7a09866f8495d98e4806d6c7084fa",
       "version_major": 2,
       "version_minor": 0
      },
      "text/plain": [
       "Calculating Metrics:   0%|          | 0/21 [00:00<?, ?it/s]"
      ]
     },
     "metadata": {},
     "output_type": "display_data"
    }
   ],
   "source": [
    "print(validator.get_expectation_suite(discard_failed_expectations=False))\n",
    "validator.save_expectation_suite(discard_failed_expectations=False)\n",
    "\n",
    "checkpoint_config = {\n",
    "    \"class_name\": \"SimpleCheckpoint\",\n",
    "    \"validations\": [\n",
    "        {\n",
    "            \"batch_request\": batch_request,\n",
    "            \"expectation_suite_name\": expectation_suite_name,\n",
    "        }\n",
    "    ],\n",
    "}\n",
    "checkpoint = SimpleCheckpoint(\n",
    "    f\"_tmp_checkpoint_{expectation_suite_name}\", context, **checkpoint_config\n",
    ")\n",
    "checkpoint_result = checkpoint.run()\n",
    "\n",
    "context.build_data_docs()\n",
    "\n",
    "validation_result_identifier = checkpoint_result.list_validation_result_identifiers()[0]\n",
    "context.open_data_docs(resource_identifier=validation_result_identifier)"
   ]
  },
  {
   "cell_type": "markdown",
   "id": "9f627d99",
   "metadata": {},
   "source": [
    "## Next steps\n",
    "After you review this initial Expectation Suite in Data Docs you\n",
    "should edit this suite to make finer grained adjustments to the expectations.\n",
    "This can be done by running `great_expectations suite edit flowers-testing-suite`."
   ]
  }
 ],
 "metadata": {
  "kernelspec": {
   "display_name": "Python 3 (ipykernel)",
   "language": "python",
   "name": "python3"
  },
  "language_info": {
   "codemirror_mode": {
    "name": "ipython",
    "version": 3
   },
   "file_extension": ".py",
   "mimetype": "text/x-python",
   "name": "python",
   "nbconvert_exporter": "python",
   "pygments_lexer": "ipython3",
   "version": "3.8.10"
  }
 },
 "nbformat": 4,
 "nbformat_minor": 5
}
